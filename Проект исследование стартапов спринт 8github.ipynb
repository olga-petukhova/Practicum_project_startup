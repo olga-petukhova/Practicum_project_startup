{
 "cells": [
  {
   "cell_type": "markdown",
   "id": "9ae1e0f9-132b-4489-80ce-baac8409e9ea",
   "metadata": {},
   "source": [
    "# Проект: Исследование стартапов.\n",
    "\n",
    "- Автор: Петухова О.А.\n",
    "- Дата: 28.04.2025"
   ]
  },
  {
   "cell_type": "markdown",
   "id": "caeb1998-18c5-4afd-8de2-4286959637b6",
   "metadata": {},
   "source": [
    "## Введение"
   ]
  },
  {
   "cell_type": "markdown",
   "id": "1f8c4bd3-1c3a-48e4-95e8-92ecca78bbd7",
   "metadata": {},
   "source": [
    "### Цели и задачи проекта\n",
    "\n",
    "**Цель** - подготовить датасет и проверить в нём данные, а также ответить на вопросы заказчика.\n",
    "\n",
    "\n",
    "**Задачи:**\n",
    "1. по каким столбцам можно объединять данные из разных таблиц;\n",
    "2. можно ли доверять данным о сотрудниках стартапов и их образовании;\n",
    "3. что значат покупки за 0 или за 1 доллар;\n",
    "4. какая цена в зависимости от категории стартапов и количества раундов финансирования перед его покупкой;\n",
    "5. как рассчитать и отобразить численные показатели и динамику.\n"
   ]
  },
  {
   "cell_type": "markdown",
   "id": "f33f9aa4-c65c-44e8-b104-70c857b1bbb7",
   "metadata": {},
   "source": [
    "### Содержимое проекта\n",
    "1. Загрузка данных и первичная предобработка.\n",
    "2. Предобработка данных, предварительное исследование.\n",
    "3. Исследовательский анализ объединенных таблиц.\n",
    "4. Итоговый вывод и рекомендации."
   ]
  },
  {
   "cell_type": "markdown",
   "id": "5d9639b0-e667-4f3e-af61-a44bcbc9cbce",
   "metadata": {},
   "source": [
    "## 1.1 Загрузка данных и первичная предобработка.\n",
    "\n",
    "### 1.1.1 Загрузим все данные по проекту.\n",
    "Начнём с загрузки библиотек и датасетов `company_and_rounds.csv`, `acquisition.csv`, `people.csv`, `education.csv`, `degrees.csv`, `fund.csv`, `investment.csv`. Будем использовать pandas и библиотеки визуализации данных matplotlib и seaborn, а также phik для построения матрицы корреляции. Данные датасетов сохраним в переменных: `acquisition_df`, `company_and_rounds_df`, `education_df`, `people_df`, `degrees_df`, `fund_df`, `investment_df`."
   ]
  },
  {
   "cell_type": "code",
   "execution_count": 8,
   "id": "f0b80af7-0029-4b2b-b04e-1b9922b02fd5",
   "metadata": {},
   "outputs": [],
   "source": [
    "# Импортируем библиотеки\n",
    "import pandas as pd\n",
    "\n",
    "# Загружаем библиотеки для визуализации данных\n",
    "import matplotlib.pyplot as plt\n",
    "import seaborn as sns\n"
   ]
  },
  {
   "cell_type": "code",
   "execution_count": 12,
   "id": "ee6fcbc6-78b7-4c4c-a88f-d43995ceb66e",
   "metadata": {},
   "outputs": [],
   "source": [
    "# Выгружаем данные в переменные acquisition_df, company_and_rounds_df, education_df, people_df и degrees_df, fund_df, investment_df.\n",
    "PATH = \"https://code.s3.yandex.net/datasets/\"\n",
    "acquisition_df = pd.read_csv(PATH + 'acquisition.csv')\n",
    "company_and_rounds_df = pd.read_csv(PATH + 'company_and_rounds.csv')\n",
    "education_df = pd.read_csv(PATH + 'education.csv')\n",
    "people_df = pd.read_csv(PATH + 'people.csv')\n",
    "degrees_df = pd.read_csv(PATH + 'degrees.csv')\n",
    "\n",
    "fund_df = pd.read_csv(PATH + 'fund.csv')\n",
    "investment_df = pd.read_csv(PATH + 'investment.csv')"
   ]
  },
  {
   "cell_type": "markdown",
   "id": "f87b090f-3c30-406e-bfdd-6cfb4af939b4",
   "metadata": {},
   "source": [
    "Познакомимся с данными датасета `acquisition.csv` — выведем первые строки методом `head()`, а информацию о датафрейме методом `info()`:"
   ]
  },
  {
   "cell_type": "code",
   "execution_count": 16,
   "id": "0cc293f3-9653-4ac2-b965-8ec2425b217d",
   "metadata": {},
   "outputs": [
    {
     "data": {
      "text/html": [
       "<div>\n",
       "<style scoped>\n",
       "    .dataframe tbody tr th:only-of-type {\n",
       "        vertical-align: middle;\n",
       "    }\n",
       "\n",
       "    .dataframe tbody tr th {\n",
       "        vertical-align: top;\n",
       "    }\n",
       "\n",
       "    .dataframe thead th {\n",
       "        text-align: right;\n",
       "    }\n",
       "</style>\n",
       "<table border=\"1\" class=\"dataframe\">\n",
       "  <thead>\n",
       "    <tr style=\"text-align: right;\">\n",
       "      <th></th>\n",
       "      <th>id</th>\n",
       "      <th>acquiring_company_id</th>\n",
       "      <th>acquired_company_id</th>\n",
       "      <th>term_code</th>\n",
       "      <th>price_amount</th>\n",
       "      <th>acquired_at</th>\n",
       "    </tr>\n",
       "  </thead>\n",
       "  <tbody>\n",
       "    <tr>\n",
       "      <th>0</th>\n",
       "      <td>1</td>\n",
       "      <td>11</td>\n",
       "      <td>10</td>\n",
       "      <td>NaN</td>\n",
       "      <td>20000000</td>\n",
       "      <td>2007-05-30</td>\n",
       "    </tr>\n",
       "    <tr>\n",
       "      <th>1</th>\n",
       "      <td>7</td>\n",
       "      <td>59</td>\n",
       "      <td>72</td>\n",
       "      <td>cash</td>\n",
       "      <td>60000000</td>\n",
       "      <td>2007-07-01</td>\n",
       "    </tr>\n",
       "    <tr>\n",
       "      <th>2</th>\n",
       "      <td>8</td>\n",
       "      <td>24</td>\n",
       "      <td>132</td>\n",
       "      <td>cash</td>\n",
       "      <td>280000000</td>\n",
       "      <td>2007-05-01</td>\n",
       "    </tr>\n",
       "    <tr>\n",
       "      <th>3</th>\n",
       "      <td>9</td>\n",
       "      <td>59</td>\n",
       "      <td>155</td>\n",
       "      <td>cash</td>\n",
       "      <td>100000000</td>\n",
       "      <td>2007-06-01</td>\n",
       "    </tr>\n",
       "    <tr>\n",
       "      <th>4</th>\n",
       "      <td>10</td>\n",
       "      <td>212</td>\n",
       "      <td>215</td>\n",
       "      <td>cash</td>\n",
       "      <td>25000000</td>\n",
       "      <td>2007-07-01</td>\n",
       "    </tr>\n",
       "  </tbody>\n",
       "</table>\n",
       "</div>"
      ],
      "text/plain": [
       "   id  acquiring_company_id  acquired_company_id term_code  price_amount  \\\n",
       "0   1                    11                   10       NaN      20000000   \n",
       "1   7                    59                   72      cash      60000000   \n",
       "2   8                    24                  132      cash     280000000   \n",
       "3   9                    59                  155      cash     100000000   \n",
       "4  10                   212                  215      cash      25000000   \n",
       "\n",
       "  acquired_at  \n",
       "0  2007-05-30  \n",
       "1  2007-07-01  \n",
       "2  2007-05-01  \n",
       "3  2007-06-01  \n",
       "4  2007-07-01  "
      ]
     },
     "execution_count": 16,
     "metadata": {},
     "output_type": "execute_result"
    }
   ],
   "source": [
    "acquisition_df.head()"
   ]
  },
  {
   "cell_type": "code",
   "execution_count": 17,
   "id": "becb9e8a-7f6d-4147-87b6-53d61c421016",
   "metadata": {},
   "outputs": [
    {
     "data": {
      "text/plain": [
       "(9407, 6)"
      ]
     },
     "execution_count": 17,
     "metadata": {},
     "output_type": "execute_result"
    }
   ],
   "source": [
    "acquisition_df.shape"
   ]
  },
  {
   "cell_type": "code",
   "execution_count": 18,
   "id": "610d4341-133d-40c4-a3b3-afe80d57b6d2",
   "metadata": {},
   "outputs": [
    {
     "name": "stdout",
     "output_type": "stream",
     "text": [
      "<class 'pandas.core.frame.DataFrame'>\n",
      "RangeIndex: 9407 entries, 0 to 9406\n",
      "Data columns (total 6 columns):\n",
      " #   Column                Non-Null Count  Dtype \n",
      "---  ------                --------------  ----- \n",
      " 0   id                    9407 non-null   int64 \n",
      " 1   acquiring_company_id  9407 non-null   int64 \n",
      " 2   acquired_company_id   9407 non-null   int64 \n",
      " 3   term_code             1831 non-null   object\n",
      " 4   price_amount          9407 non-null   int64 \n",
      " 5   acquired_at           9378 non-null   object\n",
      "dtypes: int64(4), object(2)\n",
      "memory usage: 441.1+ KB\n"
     ]
    }
   ],
   "source": [
    "acquisition_df.info()"
   ]
  },
  {
   "cell_type": "code",
   "execution_count": 19,
   "id": "f580a1cf-703f-4072-9ac0-7ad199c12532",
   "metadata": {},
   "outputs": [
    {
     "data": {
      "text/plain": [
       "0"
      ]
     },
     "execution_count": 19,
     "metadata": {},
     "output_type": "execute_result"
    }
   ],
   "source": [
    "#проверка дубликатов\n",
    "acquisition_df.duplicated().sum()"
   ]
  },
  {
   "cell_type": "markdown",
   "id": "e009451e-908c-462a-ac34-811d2a4ae577",
   "metadata": {},
   "source": [
    "Датасет `acquisition.csv` содержит 6 столбцов и 9407 строк.\n",
    "\n",
    "После первичного анализа данных можно сделать следующие выводы:\n",
    "- Значения в столбцах `id`, `acquiring_company_id`, `acquired_company_id`, `price_amount` представлены типом данных int.\n",
    "- Столбец `term_code` представлен уникальным типом данных object, но его лучше отнести к типу category.\n",
    "- столбец `acquired_at` - дата сделки, его необходимо привести к типу данных date.\n",
    "- Пропуски содержатся в столбцах `term_code`, `acquired_at`.\n",
    "- Названия столбцов приведены к единому виду snake case.\n",
    "- Дубликатов не обнаружено.\n"
   ]
  },
  {
   "cell_type": "code",
   "execution_count": 21,
   "id": "90f25e0b-f674-4409-9030-6074ca276b38",
   "metadata": {},
   "outputs": [
    {
     "data": {
      "text/plain": [
       "Index(['id_acq', 'acquiring_company_id', 'acquired_company_id', 'term_code',\n",
       "       'price_amount', 'acquired_at'],\n",
       "      dtype='object')"
      ]
     },
     "execution_count": 21,
     "metadata": {},
     "output_type": "execute_result"
    }
   ],
   "source": [
    "#Переименуем столбцы в acquisition\n",
    "acquisition_df = acquisition_df.rename(columns={\n",
    "    'id': 'id_acq'})\n",
    "acquisition_df.columns"
   ]
  },
  {
   "cell_type": "markdown",
   "id": "7a35b888-4f66-490a-823b-e8c3df6ddbcd",
   "metadata": {},
   "source": [
    "Теперь познакомимся с данными датасета `company_and_rounds.csv`."
   ]
  },
  {
   "cell_type": "code",
   "execution_count": 23,
   "id": "126f2f2d-3cea-4802-b6ea-ba9e07e7a92c",
   "metadata": {},
   "outputs": [
    {
     "data": {
      "text/html": [
       "<div>\n",
       "<style scoped>\n",
       "    .dataframe tbody tr th:only-of-type {\n",
       "        vertical-align: middle;\n",
       "    }\n",
       "\n",
       "    .dataframe tbody tr th {\n",
       "        vertical-align: top;\n",
       "    }\n",
       "\n",
       "    .dataframe thead th {\n",
       "        text-align: right;\n",
       "    }\n",
       "</style>\n",
       "<table border=\"1\" class=\"dataframe\">\n",
       "  <thead>\n",
       "    <tr style=\"text-align: right;\">\n",
       "      <th></th>\n",
       "      <th>company  ID</th>\n",
       "      <th>name</th>\n",
       "      <th>category  code</th>\n",
       "      <th>status</th>\n",
       "      <th>founded  at</th>\n",
       "      <th>closed  at</th>\n",
       "      <th>domain</th>\n",
       "      <th>network  username</th>\n",
       "      <th>country  code</th>\n",
       "      <th>investment  rounds</th>\n",
       "      <th>...</th>\n",
       "      <th>milestones</th>\n",
       "      <th>funding  round  id</th>\n",
       "      <th>company  id</th>\n",
       "      <th>funded  at</th>\n",
       "      <th>funding  round  type</th>\n",
       "      <th>raised  amount</th>\n",
       "      <th>pre  money  valuation</th>\n",
       "      <th>participants</th>\n",
       "      <th>is  first  round</th>\n",
       "      <th>is  last  round</th>\n",
       "    </tr>\n",
       "  </thead>\n",
       "  <tbody>\n",
       "    <tr>\n",
       "      <th>34791</th>\n",
       "      <td>171090.0</td>\n",
       "      <td>Browsergamez.com</td>\n",
       "      <td>advertising</td>\n",
       "      <td>operating</td>\n",
       "      <td>2009-01-01</td>\n",
       "      <td>NaN</td>\n",
       "      <td>browsergamez.com</td>\n",
       "      <td>browsergamezcom</td>\n",
       "      <td>DEU</td>\n",
       "      <td>0.0</td>\n",
       "      <td>...</td>\n",
       "      <td>0.0</td>\n",
       "      <td>NaN</td>\n",
       "      <td>NaN</td>\n",
       "      <td>NaN</td>\n",
       "      <td>NaN</td>\n",
       "      <td>NaN</td>\n",
       "      <td>NaN</td>\n",
       "      <td>NaN</td>\n",
       "      <td>NaN</td>\n",
       "      <td>NaN</td>\n",
       "    </tr>\n",
       "    <tr>\n",
       "      <th>176143</th>\n",
       "      <td>4883.0</td>\n",
       "      <td>kajeet</td>\n",
       "      <td>mobile</td>\n",
       "      <td>operating</td>\n",
       "      <td>2003-01-01</td>\n",
       "      <td>NaN</td>\n",
       "      <td>kajeet.com</td>\n",
       "      <td>kajeet</td>\n",
       "      <td>USA</td>\n",
       "      <td>0.0</td>\n",
       "      <td>...</td>\n",
       "      <td>1.0</td>\n",
       "      <td>3946.0</td>\n",
       "      <td>4883.0</td>\n",
       "      <td>2008-11-24</td>\n",
       "      <td>series-b</td>\n",
       "      <td>1050000.0</td>\n",
       "      <td>0.0</td>\n",
       "      <td>0.0</td>\n",
       "      <td>0.0</td>\n",
       "      <td>0.0</td>\n",
       "    </tr>\n",
       "    <tr>\n",
       "      <th>213527</th>\n",
       "      <td>84532.0</td>\n",
       "      <td>Mammoth Marathons</td>\n",
       "      <td>NaN</td>\n",
       "      <td>operating</td>\n",
       "      <td>NaN</td>\n",
       "      <td>NaN</td>\n",
       "      <td>NaN</td>\n",
       "      <td>NaN</td>\n",
       "      <td>NaN</td>\n",
       "      <td>0.0</td>\n",
       "      <td>...</td>\n",
       "      <td>0.0</td>\n",
       "      <td>NaN</td>\n",
       "      <td>NaN</td>\n",
       "      <td>NaN</td>\n",
       "      <td>NaN</td>\n",
       "      <td>NaN</td>\n",
       "      <td>NaN</td>\n",
       "      <td>NaN</td>\n",
       "      <td>NaN</td>\n",
       "      <td>NaN</td>\n",
       "    </tr>\n",
       "    <tr>\n",
       "      <th>44045</th>\n",
       "      <td>180137.0</td>\n",
       "      <td>Ford Mondeo Sydney</td>\n",
       "      <td>local</td>\n",
       "      <td>operating</td>\n",
       "      <td>NaN</td>\n",
       "      <td>NaN</td>\n",
       "      <td>fordmondeosydney.com.au</td>\n",
       "      <td>NaN</td>\n",
       "      <td>NaN</td>\n",
       "      <td>0.0</td>\n",
       "      <td>...</td>\n",
       "      <td>0.0</td>\n",
       "      <td>NaN</td>\n",
       "      <td>NaN</td>\n",
       "      <td>NaN</td>\n",
       "      <td>NaN</td>\n",
       "      <td>NaN</td>\n",
       "      <td>NaN</td>\n",
       "      <td>NaN</td>\n",
       "      <td>NaN</td>\n",
       "      <td>NaN</td>\n",
       "    </tr>\n",
       "    <tr>\n",
       "      <th>34875</th>\n",
       "      <td>171182.0</td>\n",
       "      <td>PRX Control Solutions</td>\n",
       "      <td>software</td>\n",
       "      <td>operating</td>\n",
       "      <td>2012-02-15</td>\n",
       "      <td>NaN</td>\n",
       "      <td>prxcontrolsolutions.com</td>\n",
       "      <td>prxsolutions</td>\n",
       "      <td>VEN</td>\n",
       "      <td>0.0</td>\n",
       "      <td>...</td>\n",
       "      <td>2.0</td>\n",
       "      <td>51505.0</td>\n",
       "      <td>171182.0</td>\n",
       "      <td>2013-03-15</td>\n",
       "      <td>angel</td>\n",
       "      <td>70000.0</td>\n",
       "      <td>0.0</td>\n",
       "      <td>0.0</td>\n",
       "      <td>1.0</td>\n",
       "      <td>1.0</td>\n",
       "    </tr>\n",
       "    <tr>\n",
       "      <th>191502</th>\n",
       "      <td>6232.0</td>\n",
       "      <td>ANT</td>\n",
       "      <td>software</td>\n",
       "      <td>operating</td>\n",
       "      <td>NaN</td>\n",
       "      <td>NaN</td>\n",
       "      <td>antlimited.com</td>\n",
       "      <td>NaN</td>\n",
       "      <td>GBR</td>\n",
       "      <td>0.0</td>\n",
       "      <td>...</td>\n",
       "      <td>0.0</td>\n",
       "      <td>NaN</td>\n",
       "      <td>NaN</td>\n",
       "      <td>NaN</td>\n",
       "      <td>NaN</td>\n",
       "      <td>NaN</td>\n",
       "      <td>NaN</td>\n",
       "      <td>NaN</td>\n",
       "      <td>NaN</td>\n",
       "      <td>NaN</td>\n",
       "    </tr>\n",
       "    <tr>\n",
       "      <th>157054</th>\n",
       "      <td>32755.0</td>\n",
       "      <td>Spartan Mobile</td>\n",
       "      <td>NaN</td>\n",
       "      <td>operating</td>\n",
       "      <td>NaN</td>\n",
       "      <td>NaN</td>\n",
       "      <td>NaN</td>\n",
       "      <td>NaN</td>\n",
       "      <td>NaN</td>\n",
       "      <td>1.0</td>\n",
       "      <td>...</td>\n",
       "      <td>0.0</td>\n",
       "      <td>NaN</td>\n",
       "      <td>NaN</td>\n",
       "      <td>NaN</td>\n",
       "      <td>NaN</td>\n",
       "      <td>NaN</td>\n",
       "      <td>NaN</td>\n",
       "      <td>NaN</td>\n",
       "      <td>NaN</td>\n",
       "      <td>NaN</td>\n",
       "    </tr>\n",
       "  </tbody>\n",
       "</table>\n",
       "<p>7 rows × 22 columns</p>\n",
       "</div>"
      ],
      "text/plain": [
       "        company  ID                   name category  code     status  \\\n",
       "34791      171090.0       Browsergamez.com    advertising  operating   \n",
       "176143       4883.0                 kajeet         mobile  operating   \n",
       "213527      84532.0      Mammoth Marathons            NaN  operating   \n",
       "44045      180137.0     Ford Mondeo Sydney          local  operating   \n",
       "34875      171182.0  PRX Control Solutions       software  operating   \n",
       "191502       6232.0                    ANT       software  operating   \n",
       "157054      32755.0         Spartan Mobile            NaN  operating   \n",
       "\n",
       "       founded  at closed  at                   domain network  username  \\\n",
       "34791   2009-01-01        NaN         browsergamez.com   browsergamezcom   \n",
       "176143  2003-01-01        NaN               kajeet.com            kajeet   \n",
       "213527         NaN        NaN                      NaN               NaN   \n",
       "44045          NaN        NaN  fordmondeosydney.com.au               NaN   \n",
       "34875   2012-02-15        NaN  prxcontrolsolutions.com      prxsolutions   \n",
       "191502         NaN        NaN           antlimited.com               NaN   \n",
       "157054         NaN        NaN                      NaN               NaN   \n",
       "\n",
       "       country  code  investment  rounds  ...  milestones  funding  round  id  \\\n",
       "34791            DEU                 0.0  ...         0.0                 NaN   \n",
       "176143           USA                 0.0  ...         1.0              3946.0   \n",
       "213527           NaN                 0.0  ...         0.0                 NaN   \n",
       "44045            NaN                 0.0  ...         0.0                 NaN   \n",
       "34875            VEN                 0.0  ...         2.0             51505.0   \n",
       "191502           GBR                 0.0  ...         0.0                 NaN   \n",
       "157054           NaN                 1.0  ...         0.0                 NaN   \n",
       "\n",
       "        company  id  funded  at  funding  round  type raised  amount  \\\n",
       "34791           NaN         NaN                   NaN            NaN   \n",
       "176143       4883.0  2008-11-24              series-b      1050000.0   \n",
       "213527          NaN         NaN                   NaN            NaN   \n",
       "44045           NaN         NaN                   NaN            NaN   \n",
       "34875      171182.0  2013-03-15                 angel        70000.0   \n",
       "191502          NaN         NaN                   NaN            NaN   \n",
       "157054          NaN         NaN                   NaN            NaN   \n",
       "\n",
       "       pre  money  valuation  participants  is  first  round  is  last  round  \n",
       "34791                    NaN           NaN               NaN              NaN  \n",
       "176143                   0.0           0.0               0.0              0.0  \n",
       "213527                   NaN           NaN               NaN              NaN  \n",
       "44045                    NaN           NaN               NaN              NaN  \n",
       "34875                    0.0           0.0               1.0              1.0  \n",
       "191502                   NaN           NaN               NaN              NaN  \n",
       "157054                   NaN           NaN               NaN              NaN  \n",
       "\n",
       "[7 rows x 22 columns]"
      ]
     },
     "execution_count": 23,
     "metadata": {},
     "output_type": "execute_result"
    }
   ],
   "source": [
    "# Выведем 7 случайных строк\n",
    "company_and_rounds_df.sample(n=7)"
   ]
  },
  {
   "cell_type": "code",
   "execution_count": 24,
   "id": "5dbb068c-77ee-4168-b070-4728cfdd9e17",
   "metadata": {},
   "outputs": [
    {
     "data": {
      "text/plain": [
       "(217774, 22)"
      ]
     },
     "execution_count": 24,
     "metadata": {},
     "output_type": "execute_result"
    }
   ],
   "source": [
    "company_and_rounds_df.shape"
   ]
  },
  {
   "cell_type": "code",
   "execution_count": 25,
   "id": "b4df053b-7660-4469-98cf-4e830ac2ecb8",
   "metadata": {},
   "outputs": [
    {
     "name": "stdout",
     "output_type": "stream",
     "text": [
      "<class 'pandas.core.frame.DataFrame'>\n",
      "RangeIndex: 217774 entries, 0 to 217773\n",
      "Data columns (total 22 columns):\n",
      " #   Column                 Non-Null Count   Dtype  \n",
      "---  ------                 --------------   -----  \n",
      " 0   company  ID            217472 non-null  float64\n",
      " 1   name                   217472 non-null  object \n",
      " 2   category  code         143886 non-null  object \n",
      " 3   status                 217472 non-null  object \n",
      " 4   founded  at            109956 non-null  object \n",
      " 5   closed  at             3449 non-null    object \n",
      " 6   domain                 147159 non-null  object \n",
      " 7   network  username      95534 non-null   object \n",
      " 8   country  code          108607 non-null  object \n",
      " 9   investment  rounds     217472 non-null  float64\n",
      " 10  funding  rounds        217472 non-null  float64\n",
      " 11  funding  total         217472 non-null  float64\n",
      " 12  milestones             217472 non-null  float64\n",
      " 13  funding  round  id     52928 non-null   float64\n",
      " 14  company  id            52928 non-null   float64\n",
      " 15  funded  at             52680 non-null   object \n",
      " 16  funding  round  type   52928 non-null   object \n",
      " 17  raised  amount         52928 non-null   float64\n",
      " 18  pre  money  valuation  52928 non-null   float64\n",
      " 19  participants           52928 non-null   float64\n",
      " 20  is  first  round       52928 non-null   float64\n",
      " 21  is  last  round        52928 non-null   float64\n",
      "dtypes: float64(12), object(10)\n",
      "memory usage: 36.6+ MB\n"
     ]
    }
   ],
   "source": [
    "company_and_rounds_df.info()"
   ]
  },
  {
   "cell_type": "markdown",
   "id": "9a7d0216-1fc8-471e-8436-d1c65859e7e1",
   "metadata": {},
   "source": [
    "Датасет `company_and_rounds.csv` содержит 22 столбца и 217774 строк, в которых представлена информация о компаниях и раундах финансирования.  Можно отметить, что:\n",
    "\n",
    "- Названия столбцов не приведены к единому виду snake case.\n",
    "- Типы данных в столбцах `name`, `domain`, `network username`, `funding total`, `funding round id`, `raised amount`, `pre money valuation`, `is first round`, `is last round` соответствуют содержимому. \n",
    "- Пропуски встречаются во всех столбцах, кроме `company ID`, `name`, `status`, `investment rounds`, `funding rounds`, `milestones`.\n",
    "- Значения в столбцах соответствуют описанию.\n",
    "- Следующие столбцы нужно привести к правильному типу данных: `company ID` - int, `category code` - category, `status` - category, `founded at` - date, `closet at` - date, `country code` - category, `milestones` - int, `company id` - int, `funded at` - date, `funding round type` - category, `participants` - int."
   ]
  },
  {
   "cell_type": "code",
   "execution_count": 29,
   "id": "7f22a113-956e-4484-aa06-d979ceb0e58c",
   "metadata": {},
   "outputs": [
    {
     "data": {
      "text/plain": [
       "0"
      ]
     },
     "execution_count": 29,
     "metadata": {},
     "output_type": "execute_result"
    }
   ],
   "source": [
    "company_and_rounds_df.duplicated().sum()"
   ]
  },
  {
   "cell_type": "markdown",
   "id": "8c35cba8-2b9e-46bf-8d24-d4a7088c9ae5",
   "metadata": {},
   "source": [
    "Дубликатов не обнаружено."
   ]
  },
  {
   "cell_type": "code",
   "execution_count": 31,
   "id": "e3aac30c-50f2-45c2-8c21-35dd85b3dcd7",
   "metadata": {},
   "outputs": [
    {
     "data": {
      "image/png": "[encoded data removed]",
      "text/plain": [
       "<Figure size 640x480 with 1 Axes>"
      ]
     },
     "metadata": {},
     "output_type": "display_data"
    }
   ],
   "source": [
    "!pip install matplotlib-venn -q\n",
    "from matplotlib_venn import venn2\n",
    "import matplotlib.pyplot as plt\n",
    "#Сравним содержание двух столбцов company ID и company id\n",
    "first_id = set(company_and_rounds_df['company  ID'].dropna().unique())\n",
    "second_id = set(company_and_rounds_df['company  id'].dropna().unique())\n",
    "#Построим диаграмму Венна\n",
    "venn2([first_id, second_id], set_labels=('company  ID', 'company  id'))\n",
    "plt.title(\"Пересечение \") \n",
    "plt.show()"
   ]
  },
  {
   "cell_type": "markdown",
   "id": "2c2b85b2-c854-43aa-8544-28728ff0e1e5",
   "metadata": {},
   "source": [
    "Столбцы не совпадают, также есть 232 компании, которые не входят в company_ID, переименуем столбцы."
   ]
  },
  {
   "cell_type": "code",
   "execution_count": 33,
   "id": "55d9092f-2798-41ec-91ce-7d758b3c3b2f",
   "metadata": {},
   "outputs": [],
   "source": [
    "#Переименуем первый столбец, чтобы названия были уникальными\n",
    "company_and_rounds_df.columns.values[0] = 'first_company_id'"
   ]
  },
  {
   "cell_type": "code",
   "execution_count": 34,
   "id": "2e337eef-ec99-4f3d-a262-f684de165e6e",
   "metadata": {},
   "outputs": [
    {
     "data": {
      "text/plain": [
       "Index(['first_company_id', 'name', 'category_code', 'status', 'founded_at',\n",
       "       'closed_at', 'domain', 'network_username', 'country_code',\n",
       "       'investment_rounds', 'funding_rounds', 'funding_total', 'milestones',\n",
       "       'funding_round_id', 'company_id', 'funded_at', 'funding_round_type',\n",
       "       'raised_amount', 'pre_money_valuation', 'participants',\n",
       "       'is_first_round', 'is_last_round'],\n",
       "      dtype='object')"
      ]
     },
     "execution_count": 34,
     "metadata": {},
     "output_type": "execute_result"
    }
   ],
   "source": [
    "# Приводим все столбцы к стилю snake case.\n",
    "company_and_rounds_df.columns = company_and_rounds_df.columns.str.lower().str.replace(' ', '_').str.strip('_').str.replace(r'_{2,}', '_', regex=True)\n",
    "company_and_rounds_df.columns"
   ]
  },
  {
   "cell_type": "markdown",
   "id": "1a0ffd43-c6bd-4d67-b96c-b2bff4b5fb84",
   "metadata": {},
   "source": [
    "Рассмотрим данные датасета `education.csv`"
   ]
  },
  {
   "cell_type": "code",
   "execution_count": 39,
   "id": "51525f67-1ad4-4321-90f3-e430c5adedc8",
   "metadata": {},
   "outputs": [
    {
     "data": {
      "text/html": [
       "<div>\n",
       "<style scoped>\n",
       "    .dataframe tbody tr th:only-of-type {\n",
       "        vertical-align: middle;\n",
       "    }\n",
       "\n",
       "    .dataframe tbody tr th {\n",
       "        vertical-align: top;\n",
       "    }\n",
       "\n",
       "    .dataframe thead th {\n",
       "        text-align: right;\n",
       "    }\n",
       "</style>\n",
       "<table border=\"1\" class=\"dataframe\">\n",
       "  <thead>\n",
       "    <tr style=\"text-align: right;\">\n",
       "      <th></th>\n",
       "      <th>id</th>\n",
       "      <th>person_id</th>\n",
       "      <th>instituition</th>\n",
       "      <th>graduated_at</th>\n",
       "    </tr>\n",
       "  </thead>\n",
       "  <tbody>\n",
       "    <tr>\n",
       "      <th>50153</th>\n",
       "      <td>50150</td>\n",
       "      <td>206466</td>\n",
       "      <td>Washington University in St. Louis</td>\n",
       "      <td>2002-01-01</td>\n",
       "    </tr>\n",
       "    <tr>\n",
       "      <th>70929</th>\n",
       "      <td>70925</td>\n",
       "      <td>226591</td>\n",
       "      <td>Bentley College - Elkin B. McCallum Graduate S...</td>\n",
       "      <td>1993-01-01</td>\n",
       "    </tr>\n",
       "    <tr>\n",
       "      <th>48759</th>\n",
       "      <td>48757</td>\n",
       "      <td>6974</td>\n",
       "      <td>University of Utah</td>\n",
       "      <td>NaN</td>\n",
       "    </tr>\n",
       "    <tr>\n",
       "      <th>31488</th>\n",
       "      <td>31486</td>\n",
       "      <td>185803</td>\n",
       "      <td>Parsons School of Design</td>\n",
       "      <td>NaN</td>\n",
       "    </tr>\n",
       "    <tr>\n",
       "      <th>26231</th>\n",
       "      <td>26227</td>\n",
       "      <td>175152</td>\n",
       "      <td>HEC Montreal</td>\n",
       "      <td>2008-01-01</td>\n",
       "    </tr>\n",
       "  </tbody>\n",
       "</table>\n",
       "</div>"
      ],
      "text/plain": [
       "          id  person_id                                       instituition  \\\n",
       "50153  50150     206466                 Washington University in St. Louis   \n",
       "70929  70925     226591  Bentley College - Elkin B. McCallum Graduate S...   \n",
       "48759  48757       6974                                 University of Utah   \n",
       "31488  31486     185803                           Parsons School of Design   \n",
       "26231  26227     175152                                       HEC Montreal   \n",
       "\n",
       "      graduated_at  \n",
       "50153   2002-01-01  \n",
       "70929   1993-01-01  \n",
       "48759          NaN  \n",
       "31488          NaN  \n",
       "26231   2008-01-01  "
      ]
     },
     "execution_count": 39,
     "metadata": {},
     "output_type": "execute_result"
    }
   ],
   "source": [
    "education_df.sample(n=5)"
   ]
  },
  {
   "cell_type": "code",
   "execution_count": 40,
   "id": "01418fcc-4071-497e-891a-35d83d1f2c44",
   "metadata": {},
   "outputs": [
    {
     "data": {
      "text/plain": [
       "(109610, 4)"
      ]
     },
     "execution_count": 40,
     "metadata": {},
     "output_type": "execute_result"
    }
   ],
   "source": [
    "education_df.shape"
   ]
  },
  {
   "cell_type": "code",
   "execution_count": 41,
   "id": "82ebb15a-b20b-4dc9-b664-a24c0db7a84f",
   "metadata": {},
   "outputs": [
    {
     "name": "stdout",
     "output_type": "stream",
     "text": [
      "<class 'pandas.core.frame.DataFrame'>\n",
      "RangeIndex: 109610 entries, 0 to 109609\n",
      "Data columns (total 4 columns):\n",
      " #   Column        Non-Null Count   Dtype \n",
      "---  ------        --------------   ----- \n",
      " 0   id            109610 non-null  int64 \n",
      " 1   person_id     109610 non-null  int64 \n",
      " 2   instituition  109555 non-null  object\n",
      " 3   graduated_at  58054 non-null   object\n",
      "dtypes: int64(2), object(2)\n",
      "memory usage: 3.3+ MB\n"
     ]
    }
   ],
   "source": [
    "education_df.info()"
   ]
  },
  {
   "cell_type": "code",
   "execution_count": 42,
   "id": "1e60c196-36b4-4c6d-b97f-597ca520f5b1",
   "metadata": {},
   "outputs": [
    {
     "data": {
      "text/plain": [
       "0"
      ]
     },
     "execution_count": 42,
     "metadata": {},
     "output_type": "execute_result"
    }
   ],
   "source": [
    "education_df.duplicated().sum()"
   ]
  },
  {
   "cell_type": "markdown",
   "id": "ed7041c0-63cc-4b70-814e-f368df15fa1c",
   "metadata": {},
   "source": [
    "Датасет `education.csv` содержит 4 столбца и 109610 строк.\n",
    "\n",
    "О данных можно сделать следующие выводы:\n",
    "- Значения в столбцах `id`, `person_id` представлены типом данных int.\n",
    "- Столбец `instituition` представле типом данных object.\n",
    "- Cтолбец `graduated_at` - дата получения оброазования, его необходимо привести к типу данных date.\n",
    "- Пропуски содержатся в столбце `graduated_at`, `instituition`.\n",
    "- Названия столбцов приведены к единому виду snake case.\n",
    "- Дубликатов не обнаружено.\n",
    "\n",
    "Теперь рассмотрим датасет `people.csv`."
   ]
  },
  {
   "cell_type": "code",
   "execution_count": 44,
   "id": "71091342-c488-45b1-930d-ef1463c752f0",
   "metadata": {},
   "outputs": [
    {
     "data": {
      "text/html": [
       "<div>\n",
       "<style scoped>\n",
       "    .dataframe tbody tr th:only-of-type {\n",
       "        vertical-align: middle;\n",
       "    }\n",
       "\n",
       "    .dataframe tbody tr th {\n",
       "        vertical-align: top;\n",
       "    }\n",
       "\n",
       "    .dataframe thead th {\n",
       "        text-align: right;\n",
       "    }\n",
       "</style>\n",
       "<table border=\"1\" class=\"dataframe\">\n",
       "  <thead>\n",
       "    <tr style=\"text-align: right;\">\n",
       "      <th></th>\n",
       "      <th>id</th>\n",
       "      <th>first_name</th>\n",
       "      <th>last_name</th>\n",
       "      <th>company_id</th>\n",
       "      <th>network_username</th>\n",
       "    </tr>\n",
       "  </thead>\n",
       "  <tbody>\n",
       "    <tr>\n",
       "      <th>76776</th>\n",
       "      <td>189541</td>\n",
       "      <td>Benedetta</td>\n",
       "      <td>Borri</td>\n",
       "      <td>NaN</td>\n",
       "      <td>NaN</td>\n",
       "    </tr>\n",
       "    <tr>\n",
       "      <th>25328</th>\n",
       "      <td>13236</td>\n",
       "      <td>Dafne</td>\n",
       "      <td>Gobbi</td>\n",
       "      <td>NaN</td>\n",
       "      <td>NaN</td>\n",
       "    </tr>\n",
       "    <tr>\n",
       "      <th>164000</th>\n",
       "      <td>34653</td>\n",
       "      <td>Dean</td>\n",
       "      <td>Scheu</td>\n",
       "      <td>NaN</td>\n",
       "      <td>NaN</td>\n",
       "    </tr>\n",
       "    <tr>\n",
       "      <th>136498</th>\n",
       "      <td>248628</td>\n",
       "      <td>Daniel</td>\n",
       "      <td>Rizer</td>\n",
       "      <td>NaN</td>\n",
       "      <td>NaN</td>\n",
       "    </tr>\n",
       "    <tr>\n",
       "      <th>188015</th>\n",
       "      <td>58348</td>\n",
       "      <td>Troy</td>\n",
       "      <td>Rumfelt</td>\n",
       "      <td>NaN</td>\n",
       "      <td>NaN</td>\n",
       "    </tr>\n",
       "  </tbody>\n",
       "</table>\n",
       "</div>"
      ],
      "text/plain": [
       "            id first_name last_name  company_id network_username\n",
       "76776   189541  Benedetta     Borri         NaN              NaN\n",
       "25328    13236      Dafne     Gobbi         NaN              NaN\n",
       "164000   34653       Dean     Scheu         NaN              NaN\n",
       "136498  248628     Daniel     Rizer         NaN              NaN\n",
       "188015   58348       Troy   Rumfelt         NaN              NaN"
      ]
     },
     "execution_count": 44,
     "metadata": {},
     "output_type": "execute_result"
    }
   ],
   "source": [
    "people_df.sample(n=5)"
   ]
  },
  {
   "cell_type": "code",
   "execution_count": 45,
   "id": "855e2020-2f2c-48a6-9204-f5bb809de0a5",
   "metadata": {},
   "outputs": [
    {
     "data": {
      "text/plain": [
       "(226709, 5)"
      ]
     },
     "execution_count": 45,
     "metadata": {},
     "output_type": "execute_result"
    }
   ],
   "source": [
    "people_df.shape"
   ]
  },
  {
   "cell_type": "code",
   "execution_count": 46,
   "id": "cb73c4fe-8bbc-4a5c-b727-c4b4300097fc",
   "metadata": {},
   "outputs": [
    {
     "name": "stdout",
     "output_type": "stream",
     "text": [
      "<class 'pandas.core.frame.DataFrame'>\n",
      "RangeIndex: 226709 entries, 0 to 226708\n",
      "Data columns (total 5 columns):\n",
      " #   Column            Non-Null Count   Dtype  \n",
      "---  ------            --------------   -----  \n",
      " 0   id                226709 non-null  int64  \n",
      " 1   first_name        226704 non-null  object \n",
      " 2   last_name         226708 non-null  object \n",
      " 3   company_id        34615 non-null   float64\n",
      " 4   network_username  38867 non-null   object \n",
      "dtypes: float64(1), int64(1), object(3)\n",
      "memory usage: 8.6+ MB\n"
     ]
    }
   ],
   "source": [
    "people_df.info()"
   ]
  },
  {
   "cell_type": "code",
   "execution_count": 47,
   "id": "c75213e6-43c0-46d4-95eb-1bbae4ba6522",
   "metadata": {},
   "outputs": [
    {
     "data": {
      "text/plain": [
       "0"
      ]
     },
     "execution_count": 47,
     "metadata": {},
     "output_type": "execute_result"
    }
   ],
   "source": [
    "people_df.duplicated().sum()"
   ]
  },
  {
   "cell_type": "markdown",
   "id": "cd856268-1e05-4de3-b549-32f6586c7180",
   "metadata": {},
   "source": [
    "Датасет `people.csv` содержит 5 столбцов и 226709 строк.\n",
    "\n",
    "В данных:\n",
    "- Значения в столбцах `id` представлены типом данных int.\n",
    "- Столбцы `first_name`, `last_name`, `network_username` соответсвуют типу данных object.\n",
    "- Cтолбец `company_id` - необходимо привести к типу данных int.\n",
    "- Пропуски содержатся во всех столбцах, кроме `id`.\n",
    "- Названия столбцов приведены к единому виду snake case.\n",
    "- Дубликатов не обнаружено.\n",
    "\n",
    "Рассмотрим датасет `degrees.csv`."
   ]
  },
  {
   "cell_type": "code",
   "execution_count": 49,
   "id": "84d0dbf8-ee68-4835-88de-813eeba54b1c",
   "metadata": {},
   "outputs": [
    {
     "data": {
      "text/html": [
       "<div>\n",
       "<style scoped>\n",
       "    .dataframe tbody tr th:only-of-type {\n",
       "        vertical-align: middle;\n",
       "    }\n",
       "\n",
       "    .dataframe tbody tr th {\n",
       "        vertical-align: top;\n",
       "    }\n",
       "\n",
       "    .dataframe thead th {\n",
       "        text-align: right;\n",
       "    }\n",
       "</style>\n",
       "<table border=\"1\" class=\"dataframe\">\n",
       "  <thead>\n",
       "    <tr style=\"text-align: right;\">\n",
       "      <th></th>\n",
       "      <th>id</th>\n",
       "      <th>object_id</th>\n",
       "      <th>degree_type</th>\n",
       "      <th>subject</th>\n",
       "    </tr>\n",
       "  </thead>\n",
       "  <tbody>\n",
       "    <tr>\n",
       "      <th>24473</th>\n",
       "      <td>24474</td>\n",
       "      <td>p:166807</td>\n",
       "      <td>BS</td>\n",
       "      <td>Electrical Engineering and Information Technology</td>\n",
       "    </tr>\n",
       "    <tr>\n",
       "      <th>85097</th>\n",
       "      <td>85098</td>\n",
       "      <td>p:239076</td>\n",
       "      <td>MS</td>\n",
       "      <td>Chemical Engineering</td>\n",
       "    </tr>\n",
       "    <tr>\n",
       "      <th>48202</th>\n",
       "      <td>48203</td>\n",
       "      <td>p:175125</td>\n",
       "      <td>BA</td>\n",
       "      <td>Government</td>\n",
       "    </tr>\n",
       "    <tr>\n",
       "      <th>77257</th>\n",
       "      <td>77258</td>\n",
       "      <td>p:231645</td>\n",
       "      <td>BA</td>\n",
       "      <td>NaN</td>\n",
       "    </tr>\n",
       "    <tr>\n",
       "      <th>38106</th>\n",
       "      <td>38107</td>\n",
       "      <td>p:78921</td>\n",
       "      <td>NaN</td>\n",
       "      <td>Computer Engineering</td>\n",
       "    </tr>\n",
       "  </tbody>\n",
       "</table>\n",
       "</div>"
      ],
      "text/plain": [
       "          id object_id degree_type  \\\n",
       "24473  24474  p:166807          BS   \n",
       "85097  85098  p:239076          MS   \n",
       "48202  48203  p:175125          BA   \n",
       "77257  77258  p:231645          BA   \n",
       "38106  38107   p:78921         NaN   \n",
       "\n",
       "                                                 subject  \n",
       "24473  Electrical Engineering and Information Technology  \n",
       "85097                               Chemical Engineering  \n",
       "48202                                         Government  \n",
       "77257                                                NaN  \n",
       "38106                               Computer Engineering  "
      ]
     },
     "execution_count": 49,
     "metadata": {},
     "output_type": "execute_result"
    }
   ],
   "source": [
    "degrees_df.sample(n=5)\n"
   ]
  },
  {
   "cell_type": "code",
   "execution_count": 50,
   "id": "d161dab8-7a00-44bd-b6c1-91cfb5d5263e",
   "metadata": {},
   "outputs": [
    {
     "data": {
      "text/plain": [
       "(109610, 4)"
      ]
     },
     "execution_count": 50,
     "metadata": {},
     "output_type": "execute_result"
    }
   ],
   "source": [
    "degrees_df.shape"
   ]
  },
  {
   "cell_type": "code",
   "execution_count": 51,
   "id": "2122482e-1ca5-41b7-ad94-98479528fbc6",
   "metadata": {},
   "outputs": [
    {
     "name": "stdout",
     "output_type": "stream",
     "text": [
      "<class 'pandas.core.frame.DataFrame'>\n",
      "RangeIndex: 109610 entries, 0 to 109609\n",
      "Data columns (total 4 columns):\n",
      " #   Column       Non-Null Count   Dtype \n",
      "---  ------       --------------   ----- \n",
      " 0   id           109610 non-null  int64 \n",
      " 1   object_id    109610 non-null  object\n",
      " 2   degree_type  98392 non-null   object\n",
      " 3   subject      81298 non-null   object\n",
      "dtypes: int64(1), object(3)\n",
      "memory usage: 3.3+ MB\n"
     ]
    }
   ],
   "source": [
    "degrees_df.info()"
   ]
  },
  {
   "cell_type": "code",
   "execution_count": 52,
   "id": "7073c09c-de1b-4204-8011-7eb240c44751",
   "metadata": {},
   "outputs": [
    {
     "data": {
      "text/plain": [
       "0"
      ]
     },
     "execution_count": 52,
     "metadata": {},
     "output_type": "execute_result"
    }
   ],
   "source": [
    "degrees_df.duplicated().sum()"
   ]
  },
  {
   "cell_type": "markdown",
   "id": "ea2e7bc4-c346-4f2e-aefb-9215fa38d606",
   "metadata": {},
   "source": [
    "Датасет `degrees.csv` содержит 4 столбца и 109610 строк.\n",
    "\n",
    "О данных можно сделать следующие выводы:\n",
    "- Значения в столбцах `id` представлены типом данных int.\n",
    "- Столбец `object_id` представле типом данных object, так как он содержит буквы и числа.\n",
    "- Cтолбцы `degree_type`, `subject` - необходимо привести к категориальному типу данных.\n",
    "- Пропуски содержатся в столбцах `degree_type`, `subject`, `object_id`.\n",
    "- Названия столбцов приведены к единому виду snake case.\n",
    "- Дубликатов не обнаружено.\n",
    "\n"
   ]
  },
  {
   "cell_type": "code",
   "execution_count": 54,
   "id": "c5ef9e5e-6333-4e83-a632-c79aa82ff73f",
   "metadata": {},
   "outputs": [
    {
     "data": {
      "text/plain": [
       "Index(['id_degrees', 'object_id', 'degree_type', 'subject'], dtype='object')"
      ]
     },
     "execution_count": 54,
     "metadata": {},
     "output_type": "execute_result"
    }
   ],
   "source": [
    "#Переименуем столбец в degrees\n",
    "degrees_df = degrees_df.rename(columns={\n",
    "    'id': 'id_degrees'})\n",
    "degrees_df.columns"
   ]
  },
  {
   "cell_type": "markdown",
   "id": "ac0c1815-8f83-4eba-b4f2-add458016f93",
   "metadata": {},
   "source": [
    "### Промежуточный вывод\n",
    "​\n",
    "Данные предоставили хорошего качества, в удовлетворительном количестве, которые соответствуют описанию. Встречается много пропусков, которые стоит изучить подробнее. Мы уже видим, что во всех датасетах не во всех столбцах правильно выбраны типы данных. У датафреймов разное количество строк. Также в датасете `company_and_rounds.csv` названия столбцов не приведены к единому виду, было 2 столбца company_id. В датафреймах есть столбцы с одинаковыми названиями,они были переименованы."
   ]
  },
  {
   "cell_type": "markdown",
   "id": "20541041-1850-4b4b-88c8-d86130934afe",
   "metadata": {},
   "source": [
    "### 1.1.2 Смена типов и анализ пропусков."
   ]
  },
  {
   "cell_type": "markdown",
   "id": "db748fdc-9caa-453e-9a95-2d3ce748c6f3",
   "metadata": {},
   "source": [
    "Обработаем типы данных в столбцах, которые хранят значения даты и времени."
   ]
  },
  {
   "cell_type": "code",
   "execution_count": 59,
   "id": "29083786-be7f-4431-8867-62ce0c279f51",
   "metadata": {},
   "outputs": [],
   "source": [
    "# Меняем тип данных на значения даты и времени в датафрейме acquisition_df\n",
    "acquisition_df['acquired_at']=pd.to_datetime(acquisition_df['acquired_at'], errors = 'coerce')\n",
    "# Меняем тип данных на значения даты и времени в датафрейме company_and_rounds_df, здесь три столбца не соответсвуют значениям.\n",
    "company_and_rounds_df['founded_at']=pd.to_datetime(company_and_rounds_df['founded_at'], errors = 'coerce')\n",
    "company_and_rounds_df['closed_at']=pd.to_datetime(company_and_rounds_df['closed_at'], errors = 'coerce')\n",
    "company_and_rounds_df['funded_at']=pd.to_datetime(company_and_rounds_df['funded_at'], errors = 'coerce')\n",
    "# В последнем датафрейме education_df сменим тип данных у столбца graduated_at\n",
    "education_df['graduated_at']=pd.to_datetime(education_df['graduated_at'], errors = 'coerce')"
   ]
  },
  {
   "cell_type": "code",
   "execution_count": 61,
   "id": "c3ca0178-1af0-4b17-9604-c1485ca00fc1",
   "metadata": {},
   "outputs": [
    {
     "data": {
      "text/plain": [
       "id_acq                           int64\n",
       "acquiring_company_id             int64\n",
       "acquired_company_id              int64\n",
       "term_code                       object\n",
       "price_amount                     int64\n",
       "acquired_at             datetime64[ns]\n",
       "dtype: object"
      ]
     },
     "execution_count": 61,
     "metadata": {},
     "output_type": "execute_result"
    }
   ],
   "source": [
    "acquisition_df.dtypes"
   ]
  },
  {
   "cell_type": "code",
   "execution_count": 62,
   "id": "341819d8-08ee-4ee9-953f-043c7f04261a",
   "metadata": {},
   "outputs": [
    {
     "data": {
      "text/plain": [
       "first_company_id              float64\n",
       "name                           object\n",
       "category_code                  object\n",
       "status                         object\n",
       "founded_at             datetime64[ns]\n",
       "closed_at              datetime64[ns]\n",
       "domain                         object\n",
       "network_username               object\n",
       "country_code                   object\n",
       "investment_rounds             float64\n",
       "funding_rounds                float64\n",
       "funding_total                 float64\n",
       "milestones                    float64\n",
       "funding_round_id              float64\n",
       "company_id                    float64\n",
       "funded_at              datetime64[ns]\n",
       "funding_round_type             object\n",
       "raised_amount                 float64\n",
       "pre_money_valuation           float64\n",
       "participants                  float64\n",
       "is_first_round                float64\n",
       "is_last_round                 float64\n",
       "dtype: object"
      ]
     },
     "execution_count": 62,
     "metadata": {},
     "output_type": "execute_result"
    }
   ],
   "source": [
    "company_and_rounds_df.dtypes"
   ]
  },
  {
   "cell_type": "code",
   "execution_count": 63,
   "id": "099a3b5d-f2b3-449b-ba34-4b5c051b9d0b",
   "metadata": {},
   "outputs": [
    {
     "data": {
      "text/plain": [
       "id                       int64\n",
       "person_id                int64\n",
       "instituition            object\n",
       "graduated_at    datetime64[ns]\n",
       "dtype: object"
      ]
     },
     "execution_count": 63,
     "metadata": {},
     "output_type": "execute_result"
    }
   ],
   "source": [
    "education_df.dtypes"
   ]
  },
  {
   "cell_type": "code",
   "execution_count": 64,
   "id": "e93eaf33-adf7-454e-bfec-87fca7ea5c80",
   "metadata": {},
   "outputs": [
    {
     "name": "stdout",
     "output_type": "stream",
     "text": [
      "Requirement already satisfied: missingno in c:\\users\\user\\anaconda3\\envs\\practicum\\lib\\site-packages (0.5.2)\n",
      "Requirement already satisfied: numpy in c:\\users\\user\\anaconda3\\envs\\practicum\\lib\\site-packages (from missingno) (1.20.1)\n",
      "Requirement already satisfied: matplotlib in c:\\users\\user\\anaconda3\\envs\\practicum\\lib\\site-packages (from missingno) (3.3.4)\n",
      "Requirement already satisfied: scipy in c:\\users\\user\\anaconda3\\envs\\practicum\\lib\\site-packages (from missingno) (1.8.0)\n",
      "Requirement already satisfied: seaborn in c:\\users\\user\\anaconda3\\envs\\practicum\\lib\\site-packages (from missingno) (0.11.1)\n",
      "Requirement already satisfied: cycler>=0.10 in c:\\users\\user\\anaconda3\\envs\\practicum\\lib\\site-packages (from matplotlib->missingno) (0.12.1)\n",
      "Requirement already satisfied: kiwisolver>=1.0.1 in c:\\users\\user\\anaconda3\\envs\\practicum\\lib\\site-packages (from matplotlib->missingno) (1.4.7)\n",
      "Requirement already satisfied: pillow>=6.2.0 in c:\\users\\user\\anaconda3\\envs\\practicum\\lib\\site-packages (from matplotlib->missingno) (11.1.0)\n",
      "Requirement already satisfied: pyparsing!=2.0.4,!=2.1.2,!=2.1.6,>=2.0.3 in c:\\users\\user\\anaconda3\\envs\\practicum\\lib\\site-packages (from matplotlib->missingno) (3.2.3)\n",
      "Requirement already satisfied: python-dateutil>=2.1 in c:\\users\\user\\anaconda3\\envs\\practicum\\lib\\site-packages (from matplotlib->missingno) (2.9.0.post0)\n",
      "Requirement already satisfied: pandas>=0.23 in c:\\users\\user\\anaconda3\\envs\\practicum\\lib\\site-packages (from seaborn->missingno) (1.2.4)\n",
      "Requirement already satisfied: pytz>=2017.3 in c:\\users\\user\\anaconda3\\envs\\practicum\\lib\\site-packages (from pandas>=0.23->seaborn->missingno) (2025.2)\n",
      "Requirement already satisfied: six>=1.5 in c:\\users\\user\\anaconda3\\envs\\practicum\\lib\\site-packages (from python-dateutil>=2.1->matplotlib->missingno) (1.17.0)\n"
     ]
    }
   ],
   "source": [
    "!pip install missingno\n",
    "import missingno as msno"
   ]
  },
  {
   "cell_type": "code",
   "execution_count": 65,
   "id": "5b601f56-d862-45b2-98c0-85f1e8f57369",
   "metadata": {},
   "outputs": [
    {
     "name": "stdout",
     "output_type": "stream",
     "text": [
      "\n",
      "Анализ пропущенных значений в acquisition_df:\n"
     ]
    },
    {
     "data": {
      "text/html": [
       "<div>\n",
       "<style scoped>\n",
       "    .dataframe tbody tr th:only-of-type {\n",
       "        vertical-align: middle;\n",
       "    }\n",
       "\n",
       "    .dataframe tbody tr th {\n",
       "        vertical-align: top;\n",
       "    }\n",
       "\n",
       "    .dataframe thead th {\n",
       "        text-align: right;\n",
       "    }\n",
       "</style>\n",
       "<table border=\"1\" class=\"dataframe\">\n",
       "  <thead>\n",
       "    <tr style=\"text-align: right;\">\n",
       "      <th></th>\n",
       "      <th>Количество пропусков</th>\n",
       "      <th>Процент пропусков (%)</th>\n",
       "    </tr>\n",
       "  </thead>\n",
       "  <tbody>\n",
       "    <tr>\n",
       "      <th>id_acq</th>\n",
       "      <td>0</td>\n",
       "      <td>0.00</td>\n",
       "    </tr>\n",
       "    <tr>\n",
       "      <th>acquiring_company_id</th>\n",
       "      <td>0</td>\n",
       "      <td>0.00</td>\n",
       "    </tr>\n",
       "    <tr>\n",
       "      <th>acquired_company_id</th>\n",
       "      <td>0</td>\n",
       "      <td>0.00</td>\n",
       "    </tr>\n",
       "    <tr>\n",
       "      <th>term_code</th>\n",
       "      <td>7576</td>\n",
       "      <td>80.54</td>\n",
       "    </tr>\n",
       "    <tr>\n",
       "      <th>price_amount</th>\n",
       "      <td>0</td>\n",
       "      <td>0.00</td>\n",
       "    </tr>\n",
       "    <tr>\n",
       "      <th>acquired_at</th>\n",
       "      <td>29</td>\n",
       "      <td>0.31</td>\n",
       "    </tr>\n",
       "  </tbody>\n",
       "</table>\n",
       "</div>"
      ],
      "text/plain": [
       "                      Количество пропусков  Процент пропусков (%)\n",
       "id_acq                                   0                   0.00\n",
       "acquiring_company_id                     0                   0.00\n",
       "acquired_company_id                      0                   0.00\n",
       "term_code                             7576                  80.54\n",
       "price_amount                             0                   0.00\n",
       "acquired_at                             29                   0.31"
      ]
     },
     "metadata": {},
     "output_type": "display_data"
    },
    {
     "data": {
      "text/plain": [
       "<AxesSubplot:>"
      ]
     },
     "execution_count": 65,
     "metadata": {},
     "output_type": "execute_result"
    },
    {
     "data": {
      "image/png": "[encoded data removed]",
      "text/plain": [
       "<Figure size 2500x1000 with 2 Axes>"
      ]
     },
     "metadata": {},
     "output_type": "display_data"
    }
   ],
   "source": [
    "# Подсчитываем процент строк с пропусками в acquisition_df\n",
    "missing_percentage1 = round(acquisition_df.isna().sum() / len(acquisition_df) * 100,2) \n",
    "missing_df1 = pd.DataFrame({\n",
    "    'Количество пропусков': acquisition_df.isna().sum(),\n",
    "    'Процент пропусков (%)': missing_percentage1\n",
    "})\n",
    "print(\"\\nАнализ пропущенных значений в acquisition_df:\")\n",
    "display(missing_df1)\n",
    "msno.matrix(acquisition_df)"
   ]
  },
  {
   "cell_type": "markdown",
   "id": "3b4a92a9-9ebd-43d9-b015-6a6e2130ea65",
   "metadata": {},
   "source": [
    "Большое количество пропущенных значений (80.5%) в столбце term_code (варианты расчета), этот столбец может быть пустой, так как не во все стартапы готовы инвестировать. Также в пропущенных значениях столбец acquired_at (дата сделки) - всего 0.31%, что ничтожно мало, поэтому его можно оставить без изменений. "
   ]
  },
  {
   "cell_type": "code",
   "execution_count": 67,
   "id": "fa5e413b-5620-4d87-a8ad-18a63ab9b062",
   "metadata": {},
   "outputs": [
    {
     "name": "stdout",
     "output_type": "stream",
     "text": [
      "\n",
      "Анализ пропущенных значений в company_and_rounds_df:\n"
     ]
    },
    {
     "data": {
      "text/html": [
       "<div>\n",
       "<style scoped>\n",
       "    .dataframe tbody tr th:only-of-type {\n",
       "        vertical-align: middle;\n",
       "    }\n",
       "\n",
       "    .dataframe tbody tr th {\n",
       "        vertical-align: top;\n",
       "    }\n",
       "\n",
       "    .dataframe thead th {\n",
       "        text-align: right;\n",
       "    }\n",
       "</style>\n",
       "<table border=\"1\" class=\"dataframe\">\n",
       "  <thead>\n",
       "    <tr style=\"text-align: right;\">\n",
       "      <th></th>\n",
       "      <th>Количество пропусков</th>\n",
       "      <th>Процент пропусков (%)</th>\n",
       "    </tr>\n",
       "  </thead>\n",
       "  <tbody>\n",
       "    <tr>\n",
       "      <th>first_company_id</th>\n",
       "      <td>302</td>\n",
       "      <td>0.14</td>\n",
       "    </tr>\n",
       "    <tr>\n",
       "      <th>name</th>\n",
       "      <td>302</td>\n",
       "      <td>0.14</td>\n",
       "    </tr>\n",
       "    <tr>\n",
       "      <th>category_code</th>\n",
       "      <td>73888</td>\n",
       "      <td>33.93</td>\n",
       "    </tr>\n",
       "    <tr>\n",
       "      <th>status</th>\n",
       "      <td>302</td>\n",
       "      <td>0.14</td>\n",
       "    </tr>\n",
       "    <tr>\n",
       "      <th>founded_at</th>\n",
       "      <td>107818</td>\n",
       "      <td>49.51</td>\n",
       "    </tr>\n",
       "    <tr>\n",
       "      <th>closed_at</th>\n",
       "      <td>214325</td>\n",
       "      <td>98.42</td>\n",
       "    </tr>\n",
       "    <tr>\n",
       "      <th>domain</th>\n",
       "      <td>70615</td>\n",
       "      <td>32.43</td>\n",
       "    </tr>\n",
       "    <tr>\n",
       "      <th>network_username</th>\n",
       "      <td>122240</td>\n",
       "      <td>56.13</td>\n",
       "    </tr>\n",
       "    <tr>\n",
       "      <th>country_code</th>\n",
       "      <td>109167</td>\n",
       "      <td>50.13</td>\n",
       "    </tr>\n",
       "    <tr>\n",
       "      <th>investment_rounds</th>\n",
       "      <td>302</td>\n",
       "      <td>0.14</td>\n",
       "    </tr>\n",
       "    <tr>\n",
       "      <th>funding_rounds</th>\n",
       "      <td>302</td>\n",
       "      <td>0.14</td>\n",
       "    </tr>\n",
       "    <tr>\n",
       "      <th>funding_total</th>\n",
       "      <td>302</td>\n",
       "      <td>0.14</td>\n",
       "    </tr>\n",
       "    <tr>\n",
       "      <th>milestones</th>\n",
       "      <td>302</td>\n",
       "      <td>0.14</td>\n",
       "    </tr>\n",
       "    <tr>\n",
       "      <th>funding_round_id</th>\n",
       "      <td>164846</td>\n",
       "      <td>75.70</td>\n",
       "    </tr>\n",
       "    <tr>\n",
       "      <th>company_id</th>\n",
       "      <td>164846</td>\n",
       "      <td>75.70</td>\n",
       "    </tr>\n",
       "    <tr>\n",
       "      <th>funded_at</th>\n",
       "      <td>165094</td>\n",
       "      <td>75.81</td>\n",
       "    </tr>\n",
       "    <tr>\n",
       "      <th>funding_round_type</th>\n",
       "      <td>164846</td>\n",
       "      <td>75.70</td>\n",
       "    </tr>\n",
       "    <tr>\n",
       "      <th>raised_amount</th>\n",
       "      <td>164846</td>\n",
       "      <td>75.70</td>\n",
       "    </tr>\n",
       "    <tr>\n",
       "      <th>pre_money_valuation</th>\n",
       "      <td>164846</td>\n",
       "      <td>75.70</td>\n",
       "    </tr>\n",
       "    <tr>\n",
       "      <th>participants</th>\n",
       "      <td>164846</td>\n",
       "      <td>75.70</td>\n",
       "    </tr>\n",
       "    <tr>\n",
       "      <th>is_first_round</th>\n",
       "      <td>164846</td>\n",
       "      <td>75.70</td>\n",
       "    </tr>\n",
       "    <tr>\n",
       "      <th>is_last_round</th>\n",
       "      <td>164846</td>\n",
       "      <td>75.70</td>\n",
       "    </tr>\n",
       "  </tbody>\n",
       "</table>\n",
       "</div>"
      ],
      "text/plain": [
       "                     Количество пропусков  Процент пропусков (%)\n",
       "first_company_id                      302                   0.14\n",
       "name                                  302                   0.14\n",
       "category_code                       73888                  33.93\n",
       "status                                302                   0.14\n",
       "founded_at                         107818                  49.51\n",
       "closed_at                          214325                  98.42\n",
       "domain                              70615                  32.43\n",
       "network_username                   122240                  56.13\n",
       "country_code                       109167                  50.13\n",
       "investment_rounds                     302                   0.14\n",
       "funding_rounds                        302                   0.14\n",
       "funding_total                         302                   0.14\n",
       "milestones                            302                   0.14\n",
       "funding_round_id                   164846                  75.70\n",
       "company_id                         164846                  75.70\n",
       "funded_at                          165094                  75.81\n",
       "funding_round_type                 164846                  75.70\n",
       "raised_amount                      164846                  75.70\n",
       "pre_money_valuation                164846                  75.70\n",
       "participants                       164846                  75.70\n",
       "is_first_round                     164846                  75.70\n",
       "is_last_round                      164846                  75.70"
      ]
     },
     "metadata": {},
     "output_type": "display_data"
    },
    {
     "data": {
      "text/plain": [
       "<AxesSubplot:>"
      ]
     },
     "execution_count": 67,
     "metadata": {},
     "output_type": "execute_result"
    },
    {
     "data": {
      "image/png": "[encoded data removed]",
      "text/plain": [
       "<Figure size 2500x1000 with 2 Axes>"
      ]
     },
     "metadata": {},
     "output_type": "display_data"
    }
   ],
   "source": [
    "missing_percentage2 = round(company_and_rounds_df.isna().sum() / len(company_and_rounds_df) * 100,2) \n",
    "missing_df2= pd.DataFrame({\n",
    "    'Количество пропусков': company_and_rounds_df.isna().sum(),\n",
    "    'Процент пропусков (%)': missing_percentage2\n",
    "})\n",
    "print(\"\\nАнализ пропущенных значений в company_and_rounds_df:\")\n",
    "display(missing_df2)\n",
    "msno.matrix(company_and_rounds_df)\n"
   ]
  },
  {
   "cell_type": "markdown",
   "id": "11a45ce5-d8fc-48fd-8f88-a2e282ef5d5d",
   "metadata": {},
   "source": [
    "Датасет company_and_rounds_df как раз содержит информацию о компаниях и раундах финансирования. Здесь встречается много пропуском более 75% в таких столбцах как closet_at (дата закрытия компании), funding_round_id (число раундов финансирования), company_id, funded_at (дата финансирования), funding_round_type (тип финансирования), raised_amount (сумма финансирования) и тд. Это гооврит о том, что лишь 1/4 часть компаний интересны для инвестирования, остальные закрываются."
   ]
  },
  {
   "cell_type": "code",
   "execution_count": 72,
   "id": "00051e9a-0cd4-42a3-bcc6-e36d1d231d56",
   "metadata": {},
   "outputs": [
    {
     "name": "stdout",
     "output_type": "stream",
     "text": [
      "\n",
      "Анализ пропущенных значений в education_df:\n"
     ]
    },
    {
     "data": {
      "text/html": [
       "<div>\n",
       "<style scoped>\n",
       "    .dataframe tbody tr th:only-of-type {\n",
       "        vertical-align: middle;\n",
       "    }\n",
       "\n",
       "    .dataframe tbody tr th {\n",
       "        vertical-align: top;\n",
       "    }\n",
       "\n",
       "    .dataframe thead th {\n",
       "        text-align: right;\n",
       "    }\n",
       "</style>\n",
       "<table border=\"1\" class=\"dataframe\">\n",
       "  <thead>\n",
       "    <tr style=\"text-align: right;\">\n",
       "      <th></th>\n",
       "      <th>Количество пропусков</th>\n",
       "      <th>Процент пропусков (%)</th>\n",
       "    </tr>\n",
       "  </thead>\n",
       "  <tbody>\n",
       "    <tr>\n",
       "      <th>id</th>\n",
       "      <td>0</td>\n",
       "      <td>0.00</td>\n",
       "    </tr>\n",
       "    <tr>\n",
       "      <th>person_id</th>\n",
       "      <td>0</td>\n",
       "      <td>0.00</td>\n",
       "    </tr>\n",
       "    <tr>\n",
       "      <th>instituition</th>\n",
       "      <td>55</td>\n",
       "      <td>0.05</td>\n",
       "    </tr>\n",
       "    <tr>\n",
       "      <th>graduated_at</th>\n",
       "      <td>51556</td>\n",
       "      <td>47.04</td>\n",
       "    </tr>\n",
       "  </tbody>\n",
       "</table>\n",
       "</div>"
      ],
      "text/plain": [
       "              Количество пропусков  Процент пропусков (%)\n",
       "id                               0                   0.00\n",
       "person_id                        0                   0.00\n",
       "instituition                    55                   0.05\n",
       "graduated_at                 51556                  47.04"
      ]
     },
     "metadata": {},
     "output_type": "display_data"
    },
    {
     "data": {
      "text/plain": [
       "<AxesSubplot:>"
      ]
     },
     "execution_count": 72,
     "metadata": {},
     "output_type": "execute_result"
    },
    {
     "data": {
      "image/png": "[encoded data removed]",
      "text/plain": [
       "<Figure size 2500x1000 with 2 Axes>"
      ]
     },
     "metadata": {},
     "output_type": "display_data"
    }
   ],
   "source": [
    "missing_percentage3 = round(education_df.isna().sum() / len(education_df) * 100,2) \n",
    "missing_df3= pd.DataFrame({\n",
    "    'Количество пропусков': education_df.isna().sum(),\n",
    "    'Процент пропусков (%)': missing_percentage3\n",
    "})\n",
    "print(\"\\nАнализ пропущенных значений в education_df:\")\n",
    "display(missing_df3)\n",
    "msno.matrix(education_df)"
   ]
  },
  {
   "cell_type": "markdown",
   "id": "0c5b8fda-e88a-4ca9-9e82-d8abc2f570d1",
   "metadata": {},
   "source": [
    "Почти половина сотрудников не получила образование до конца, хотя почти все, за исключением (0.05%) поступали в учебное заведение."
   ]
  },
  {
   "cell_type": "code",
   "execution_count": 74,
   "id": "5759bcfc-f981-4ca4-9917-20e15af5f761",
   "metadata": {},
   "outputs": [
    {
     "name": "stdout",
     "output_type": "stream",
     "text": [
      "\n",
      "Анализ пропущенных значений в people_df:\n"
     ]
    },
    {
     "data": {
      "text/html": [
       "<div>\n",
       "<style scoped>\n",
       "    .dataframe tbody tr th:only-of-type {\n",
       "        vertical-align: middle;\n",
       "    }\n",
       "\n",
       "    .dataframe tbody tr th {\n",
       "        vertical-align: top;\n",
       "    }\n",
       "\n",
       "    .dataframe thead th {\n",
       "        text-align: right;\n",
       "    }\n",
       "</style>\n",
       "<table border=\"1\" class=\"dataframe\">\n",
       "  <thead>\n",
       "    <tr style=\"text-align: right;\">\n",
       "      <th></th>\n",
       "      <th>Количество пропусков</th>\n",
       "      <th>Процент пропусков (%)</th>\n",
       "    </tr>\n",
       "  </thead>\n",
       "  <tbody>\n",
       "    <tr>\n",
       "      <th>id</th>\n",
       "      <td>0</td>\n",
       "      <td>0.00</td>\n",
       "    </tr>\n",
       "    <tr>\n",
       "      <th>first_name</th>\n",
       "      <td>5</td>\n",
       "      <td>0.00</td>\n",
       "    </tr>\n",
       "    <tr>\n",
       "      <th>last_name</th>\n",
       "      <td>1</td>\n",
       "      <td>0.00</td>\n",
       "    </tr>\n",
       "    <tr>\n",
       "      <th>company_id</th>\n",
       "      <td>192094</td>\n",
       "      <td>84.73</td>\n",
       "    </tr>\n",
       "    <tr>\n",
       "      <th>network_username</th>\n",
       "      <td>187842</td>\n",
       "      <td>82.86</td>\n",
       "    </tr>\n",
       "  </tbody>\n",
       "</table>\n",
       "</div>"
      ],
      "text/plain": [
       "                  Количество пропусков  Процент пропусков (%)\n",
       "id                                   0                   0.00\n",
       "first_name                           5                   0.00\n",
       "last_name                            1                   0.00\n",
       "company_id                      192094                  84.73\n",
       "network_username                187842                  82.86"
      ]
     },
     "metadata": {},
     "output_type": "display_data"
    },
    {
     "data": {
      "text/plain": [
       "<AxesSubplot:>"
      ]
     },
     "execution_count": 74,
     "metadata": {},
     "output_type": "execute_result"
    },
    {
     "data": {
      "image/png": "[encoded data removed]",
      "text/plain": [
       "<Figure size 2500x1000 with 2 Axes>"
      ]
     },
     "metadata": {},
     "output_type": "display_data"
    }
   ],
   "source": [
    "missing_percentage4 = round(people_df.isna().sum() / len(people_df) * 100,2) \n",
    "missing_df4= pd.DataFrame({\n",
    "    'Количество пропусков': people_df.isna().sum(),\n",
    "    'Процент пропусков (%)': missing_percentage4\n",
    "})\n",
    "print(\"\\nАнализ пропущенных значений в people_df:\")\n",
    "display(missing_df4)\n",
    "msno.matrix(people_df)"
   ]
  },
  {
   "cell_type": "markdown",
   "id": "43acf7de-c04a-4236-ba77-91c5ffd4177c",
   "metadata": {},
   "source": [
    "Пропуски более 80% в столбцах company_id и network_username."
   ]
  },
  {
   "cell_type": "code",
   "execution_count": 76,
   "id": "cfe4ca7d-0e80-4245-8754-576906929f9f",
   "metadata": {},
   "outputs": [
    {
     "name": "stdout",
     "output_type": "stream",
     "text": [
      "\n",
      "Анализ пропущенных значений в degrees_df:\n"
     ]
    },
    {
     "data": {
      "text/html": [
       "<div>\n",
       "<style scoped>\n",
       "    .dataframe tbody tr th:only-of-type {\n",
       "        vertical-align: middle;\n",
       "    }\n",
       "\n",
       "    .dataframe tbody tr th {\n",
       "        vertical-align: top;\n",
       "    }\n",
       "\n",
       "    .dataframe thead th {\n",
       "        text-align: right;\n",
       "    }\n",
       "</style>\n",
       "<table border=\"1\" class=\"dataframe\">\n",
       "  <thead>\n",
       "    <tr style=\"text-align: right;\">\n",
       "      <th></th>\n",
       "      <th>Количество пропусков</th>\n",
       "      <th>Процент пропусков (%)</th>\n",
       "    </tr>\n",
       "  </thead>\n",
       "  <tbody>\n",
       "    <tr>\n",
       "      <th>id_degrees</th>\n",
       "      <td>0</td>\n",
       "      <td>0.00</td>\n",
       "    </tr>\n",
       "    <tr>\n",
       "      <th>object_id</th>\n",
       "      <td>0</td>\n",
       "      <td>0.00</td>\n",
       "    </tr>\n",
       "    <tr>\n",
       "      <th>degree_type</th>\n",
       "      <td>11218</td>\n",
       "      <td>10.23</td>\n",
       "    </tr>\n",
       "    <tr>\n",
       "      <th>subject</th>\n",
       "      <td>28312</td>\n",
       "      <td>25.83</td>\n",
       "    </tr>\n",
       "  </tbody>\n",
       "</table>\n",
       "</div>"
      ],
      "text/plain": [
       "             Количество пропусков  Процент пропусков (%)\n",
       "id_degrees                      0                   0.00\n",
       "object_id                       0                   0.00\n",
       "degree_type                 11218                  10.23\n",
       "subject                     28312                  25.83"
      ]
     },
     "metadata": {},
     "output_type": "display_data"
    },
    {
     "data": {
      "text/plain": [
       "<AxesSubplot:>"
      ]
     },
     "execution_count": 76,
     "metadata": {},
     "output_type": "execute_result"
    },
    {
     "data": {
      "image/png": "[encoded data removed]",
      "text/plain": [
       "<Figure size 2500x1000 with 2 Axes>"
      ]
     },
     "metadata": {},
     "output_type": "display_data"
    }
   ],
   "source": [
    "missing_percentage5 = round(degrees_df.isna().sum() / len(degrees_df) * 100,2) \n",
    "missing_df5= pd.DataFrame({\n",
    "    'Количество пропусков': degrees_df.isna().sum(),\n",
    "    'Процент пропусков (%)': missing_percentage5\n",
    "})\n",
    "print(\"\\nАнализ пропущенных значений в degrees_df:\")\n",
    "display(missing_df5)\n",
    "msno.matrix(degrees_df)"
   ]
  },
  {
   "cell_type": "markdown",
   "id": "9b12614a-d4ac-4306-a7e6-77c473d1f5af",
   "metadata": {},
   "source": [
    "Не указаны тип образования (degree_type) - 10% и специальность (subject) - 25.8%."
   ]
  },
  {
   "cell_type": "markdown",
   "id": "32999f5a-56e5-4b75-b65a-2b62c43ea682",
   "metadata": {},
   "source": [
    "### Промежуточный вывод. \n",
    "\n",
    "Столбцы, которые хранят значения даты и времени приведены к типу данных datetime, данных вполне достаточно для анализа. Пропусков много, но они допустимы."
   ]
  },
  {
   "cell_type": "markdown",
   "id": "153d340c-4ef0-404b-8813-45339e4cd169",
   "metadata": {},
   "source": [
    "## 2.1 Предобработка данных, предварительное исследование"
   ]
  },
  {
   "cell_type": "markdown",
   "id": "f3c3028a-950e-4964-b4fe-1073459cf503",
   "metadata": {},
   "source": [
    "### 2.1.1 Раунды финансирования по годам\n",
    "\n",
    "Задание необходимо выполнить без объединения и дополнительной предобработки на основе датасета `company_and_rounds.csv`.\n",
    "\n",
    "- Составьте сводную таблицу по годам, в которой на основании столбца `raised_amount` для каждого года указан:\n",
    "    - типичный размер средств, выделяемый в рамках одного раунда;\n",
    "    - общее количество раундов финансирования за этот год.\n",
    "    \n",
    "- Оставьте в таблице информацию только для тех лет, для которых есть информация о более чем 50 раундах финансирования.\n",
    "- На основе получившейся таблицы постройте график, который будет отражать динамику типичного размера средств, которые стартапы получали в рамках одного раунда финансирования.\n",
    "\n",
    "На основе полученных данных ответьте на вопросы:\n",
    "\n",
    "- В каком году типичный размер собранных в рамках одного раунда средств был максимален?\n",
    "- Какая тенденция по количеству раундов и выделяемых в рамках каждого раунда средств наблюдалась в 2013 году?"
   ]
  },
  {
   "cell_type": "markdown",
   "id": "1722ca94-7d5f-4ab9-84c8-67eb2bbb9667",
   "metadata": {},
   "source": [
    "\n",
    "Составим сводную таблицу по годам, в которой для каждого года будет указан: типичный размер средств в рамках однго раунда и общее количество раундов финансирования за этот год."
   ]
  },
  {
   "cell_type": "code",
   "execution_count": 82,
   "id": "0b6254f3-5479-4c79-b8bb-f6fe7ee3bb18",
   "metadata": {},
   "outputs": [
    {
     "data": {
      "text/html": [
       "<div>\n",
       "<style scoped>\n",
       "    .dataframe tbody tr th:only-of-type {\n",
       "        vertical-align: middle;\n",
       "    }\n",
       "\n",
       "    .dataframe tbody tr th {\n",
       "        vertical-align: top;\n",
       "    }\n",
       "\n",
       "    .dataframe thead th {\n",
       "        text-align: right;\n",
       "    }\n",
       "</style>\n",
       "<table border=\"1\" class=\"dataframe\">\n",
       "  <thead>\n",
       "    <tr style=\"text-align: right;\">\n",
       "      <th></th>\n",
       "      <th>year</th>\n",
       "      <th>median_amount</th>\n",
       "      <th>round_count</th>\n",
       "    </tr>\n",
       "  </thead>\n",
       "  <tbody>\n",
       "    <tr>\n",
       "      <th>15</th>\n",
       "      <td>1999.0</td>\n",
       "      <td>2000000.0</td>\n",
       "      <td>76</td>\n",
       "    </tr>\n",
       "    <tr>\n",
       "      <th>16</th>\n",
       "      <td>2000.0</td>\n",
       "      <td>4200000.0</td>\n",
       "      <td>125</td>\n",
       "    </tr>\n",
       "    <tr>\n",
       "      <th>17</th>\n",
       "      <td>2001.0</td>\n",
       "      <td>3000000.0</td>\n",
       "      <td>96</td>\n",
       "    </tr>\n",
       "    <tr>\n",
       "      <th>18</th>\n",
       "      <td>2002.0</td>\n",
       "      <td>4200000.0</td>\n",
       "      <td>116</td>\n",
       "    </tr>\n",
       "    <tr>\n",
       "      <th>19</th>\n",
       "      <td>2003.0</td>\n",
       "      <td>3000000.0</td>\n",
       "      <td>159</td>\n",
       "    </tr>\n",
       "    <tr>\n",
       "      <th>20</th>\n",
       "      <td>2004.0</td>\n",
       "      <td>5000000.0</td>\n",
       "      <td>291</td>\n",
       "    </tr>\n",
       "    <tr>\n",
       "      <th>21</th>\n",
       "      <td>2005.0</td>\n",
       "      <td>5500000.0</td>\n",
       "      <td>1633</td>\n",
       "    </tr>\n",
       "    <tr>\n",
       "      <th>22</th>\n",
       "      <td>2006.0</td>\n",
       "      <td>5000000.0</td>\n",
       "      <td>2436</td>\n",
       "    </tr>\n",
       "    <tr>\n",
       "      <th>23</th>\n",
       "      <td>2007.0</td>\n",
       "      <td>3973320.0</td>\n",
       "      <td>3279</td>\n",
       "    </tr>\n",
       "    <tr>\n",
       "      <th>24</th>\n",
       "      <td>2008.0</td>\n",
       "      <td>3110000.0</td>\n",
       "      <td>3774</td>\n",
       "    </tr>\n",
       "    <tr>\n",
       "      <th>25</th>\n",
       "      <td>2009.0</td>\n",
       "      <td>2000000.0</td>\n",
       "      <td>4151</td>\n",
       "    </tr>\n",
       "    <tr>\n",
       "      <th>26</th>\n",
       "      <td>2010.0</td>\n",
       "      <td>1602500.0</td>\n",
       "      <td>6221</td>\n",
       "    </tr>\n",
       "    <tr>\n",
       "      <th>27</th>\n",
       "      <td>2011.0</td>\n",
       "      <td>1200000.0</td>\n",
       "      <td>9204</td>\n",
       "    </tr>\n",
       "    <tr>\n",
       "      <th>28</th>\n",
       "      <td>2012.0</td>\n",
       "      <td>1000000.0</td>\n",
       "      <td>9970</td>\n",
       "    </tr>\n",
       "    <tr>\n",
       "      <th>29</th>\n",
       "      <td>2013.0</td>\n",
       "      <td>1200000.0</td>\n",
       "      <td>11072</td>\n",
       "    </tr>\n",
       "  </tbody>\n",
       "</table>\n",
       "</div>"
      ],
      "text/plain": [
       "      year  median_amount  round_count\n",
       "15  1999.0      2000000.0           76\n",
       "16  2000.0      4200000.0          125\n",
       "17  2001.0      3000000.0           96\n",
       "18  2002.0      4200000.0          116\n",
       "19  2003.0      3000000.0          159\n",
       "20  2004.0      5000000.0          291\n",
       "21  2005.0      5500000.0         1633\n",
       "22  2006.0      5000000.0         2436\n",
       "23  2007.0      3973320.0         3279\n",
       "24  2008.0      3110000.0         3774\n",
       "25  2009.0      2000000.0         4151\n",
       "26  2010.0      1602500.0         6221\n",
       "27  2011.0      1200000.0         9204\n",
       "28  2012.0      1000000.0         9970\n",
       "29  2013.0      1200000.0        11072"
      ]
     },
     "execution_count": 82,
     "metadata": {},
     "output_type": "execute_result"
    }
   ],
   "source": [
    "# Создаем новый столбец year с годом совершения действия, преобразуя каждую дату в год\n",
    "company_and_rounds_df['year']=company_and_rounds_df['funded_at'].dt.year\n",
    "# создадим сводную таблицу\n",
    "table = company_and_rounds_df.groupby('year')['raised_amount'].agg([('median_amount', 'median'), ('round_count', 'count')]).reset_index()\n",
    "# отфильтруем, оставим только те года, где есть информация более чем о 50 раундах финансирования.   \n",
    "filtered_table = table[table['round_count']>50]\n",
    "# отсортируем\n",
    "result_table = filtered_table.sort_index()\n",
    "result_table"
   ]
  },
  {
   "cell_type": "markdown",
   "id": "1bd40424-58d7-4613-aefe-81ba2a669f5f",
   "metadata": {},
   "source": [
    "Построим линейный график, на основании полученной таблицы"
   ]
  },
  {
   "cell_type": "code",
   "execution_count": 84,
   "id": "9fcb8c99-de36-4183-9024-0afb3c9c92ef",
   "metadata": {},
   "outputs": [
    {
     "data": {
      "text/plain": [
       "Text(0, 0.5, 'сумма млн')"
      ]
     },
     "execution_count": 84,
     "metadata": {},
     "output_type": "execute_result"
    },
    {
     "data": {
      "text/plain": [
       "<Figure size 1200x1000 with 0 Axes>"
      ]
     },
     "metadata": {},
     "output_type": "display_data"
    },
    {
     "data": {
      "image/png": "[encoded data removed]",
      "text/plain": [
       "<Figure size 640x480 with 1 Axes>"
      ]
     },
     "metadata": {},
     "output_type": "display_data"
    }
   ],
   "source": [
    "plt.figure(figsize=(12, 10))\n",
    "lin = result_table.plot(kind = 'line', x = 'year', y = 'median_amount', title = 'Динамика типичного размера средств', legend = False, grid = True,  marker='o')\n",
    "plt.xlabel('Год')\n",
    "plt.ylabel ('сумма млн')"
   ]
  },
  {
   "cell_type": "markdown",
   "id": "5bcde382-978f-42f7-ba4a-7e463ab8abd1",
   "metadata": {},
   "source": [
    "Год с максимальным типичным размером средств - 2005.\n",
    "В 2013 году по сравнению с предыдущими годами (с 2006 по 2012) количество раундов стало увеличиваться, как и выделяемые средства. с 2006 - 2012 был спад."
   ]
  },
  {
   "cell_type": "code",
   "execution_count": 87,
   "id": "e694cc70-0bc0-487b-b76c-ffe8bf922721",
   "metadata": {},
   "outputs": [
    {
     "data": {
      "text/html": [
       "<div>\n",
       "<style scoped>\n",
       "    .dataframe tbody tr th:only-of-type {\n",
       "        vertical-align: middle;\n",
       "    }\n",
       "\n",
       "    .dataframe tbody tr th {\n",
       "        vertical-align: top;\n",
       "    }\n",
       "\n",
       "    .dataframe thead th {\n",
       "        text-align: right;\n",
       "    }\n",
       "</style>\n",
       "<table border=\"1\" class=\"dataframe\">\n",
       "  <thead>\n",
       "    <tr style=\"text-align: right;\">\n",
       "      <th></th>\n",
       "      <th>month</th>\n",
       "      <th>median_amount</th>\n",
       "      <th>round_count</th>\n",
       "    </tr>\n",
       "  </thead>\n",
       "  <tbody>\n",
       "    <tr>\n",
       "      <th>0</th>\n",
       "      <td>2013-01</td>\n",
       "      <td>700000.0</td>\n",
       "      <td>1024</td>\n",
       "    </tr>\n",
       "    <tr>\n",
       "      <th>1</th>\n",
       "      <td>2013-02</td>\n",
       "      <td>1000000.0</td>\n",
       "      <td>740</td>\n",
       "    </tr>\n",
       "    <tr>\n",
       "      <th>2</th>\n",
       "      <td>2013-03</td>\n",
       "      <td>750000.0</td>\n",
       "      <td>865</td>\n",
       "    </tr>\n",
       "    <tr>\n",
       "      <th>3</th>\n",
       "      <td>2013-04</td>\n",
       "      <td>1100000.0</td>\n",
       "      <td>927</td>\n",
       "    </tr>\n",
       "    <tr>\n",
       "      <th>4</th>\n",
       "      <td>2013-05</td>\n",
       "      <td>1037500.0</td>\n",
       "      <td>951</td>\n",
       "    </tr>\n",
       "    <tr>\n",
       "      <th>5</th>\n",
       "      <td>2013-06</td>\n",
       "      <td>1200000.0</td>\n",
       "      <td>1039</td>\n",
       "    </tr>\n",
       "    <tr>\n",
       "      <th>6</th>\n",
       "      <td>2013-07</td>\n",
       "      <td>1500000.0</td>\n",
       "      <td>1017</td>\n",
       "    </tr>\n",
       "    <tr>\n",
       "      <th>7</th>\n",
       "      <td>2013-08</td>\n",
       "      <td>1000000.0</td>\n",
       "      <td>977</td>\n",
       "    </tr>\n",
       "    <tr>\n",
       "      <th>8</th>\n",
       "      <td>2013-09</td>\n",
       "      <td>1400000.0</td>\n",
       "      <td>1064</td>\n",
       "    </tr>\n",
       "    <tr>\n",
       "      <th>9</th>\n",
       "      <td>2013-10</td>\n",
       "      <td>1500000.0</td>\n",
       "      <td>1100</td>\n",
       "    </tr>\n",
       "    <tr>\n",
       "      <th>10</th>\n",
       "      <td>2013-11</td>\n",
       "      <td>1571950.0</td>\n",
       "      <td>944</td>\n",
       "    </tr>\n",
       "    <tr>\n",
       "      <th>11</th>\n",
       "      <td>2013-12</td>\n",
       "      <td>3000000.0</td>\n",
       "      <td>424</td>\n",
       "    </tr>\n",
       "  </tbody>\n",
       "</table>\n",
       "</div>"
      ],
      "text/plain": [
       "      month  median_amount  round_count\n",
       "0   2013-01       700000.0         1024\n",
       "1   2013-02      1000000.0          740\n",
       "2   2013-03       750000.0          865\n",
       "3   2013-04      1100000.0          927\n",
       "4   2013-05      1037500.0          951\n",
       "5   2013-06      1200000.0         1039\n",
       "6   2013-07      1500000.0         1017\n",
       "7   2013-08      1000000.0          977\n",
       "8   2013-09      1400000.0         1064\n",
       "9   2013-10      1500000.0         1100\n",
       "10  2013-11      1571950.0          944\n",
       "11  2013-12      3000000.0          424"
      ]
     },
     "execution_count": 87,
     "metadata": {},
     "output_type": "execute_result"
    }
   ],
   "source": [
    "year_2013=company_and_rounds_df[company_and_rounds_df['year']==2013].copy()\n",
    "# С помощью акцессора создаем новый столбец вида YYYY-MM\n",
    "year_2013['month']=year_2013['funded_at'].dt.to_period('M')\n",
    "\n",
    "# создадим сводную таблицу\n",
    "table_2013 = year_2013.groupby('month')['raised_amount'].agg([('median_amount', 'median'), ('round_count', 'count')]).reset_index()\n",
    "# отсортируем\n",
    "table_2013 = table_2013.sort_index()\n",
    "table_2013"
   ]
  },
  {
   "cell_type": "code",
   "execution_count": 88,
   "id": "6587b472-c58b-4b38-8deb-816023faf215",
   "metadata": {},
   "outputs": [
    {
     "data": {
      "image/png": "[encoded data removed]",
      "text/plain": [
       "<Figure size 640x480 with 2 Axes>"
      ]
     },
     "metadata": {},
     "output_type": "display_data"
    }
   ],
   "source": [
    "axes = table_2013.plot(kind='line',\n",
    "                   subplots=True,\n",
    "                   sharex=True,\n",
    "                   sharey=False,\n",
    "                   legend=False,\n",
    "                   marker='o', # Установка маркера для точек\n",
    "                   title=['Динамика медианного размера средств за 2013 г.', 'количество раундов по месяцам 2013г.'])\n",
    "\n",
    "# Устанавливаем подпись для оси Y каждого из подграфиков\n",
    "axes[0].set_ylabel('размер средств, млн')\n",
    "axes[1].set_ylabel('кол-во.')\n",
    "\n",
    "# Включаем сетку для каждого из подграфиков\n",
    "axes[0].grid(which='both')\n",
    "axes[1].grid(which='both')\n",
    "\n",
    "# Подписываем ось X\n",
    "plt.xlabel('Месяц')\n",
    "plt.show()"
   ]
  },
  {
   "cell_type": "markdown",
   "id": "fd7eb18d-7330-4e08-b4ed-2e3104b419fd",
   "metadata": {},
   "source": [
    "В 2013 году в первые 10 месяцев количество раундов было максимально, а вот размер средств минимальным. Начиная с октября, ситуация изменилась в противоположную сторону: количество раундов уменьштлось, а вот медианная сумма пошла вверх."
   ]
  },
  {
   "cell_type": "markdown",
   "id": "99a79dfa-8481-4160-b877-fe132f0e740a",
   "metadata": {},
   "source": [
    "### 2.2. Люди и их образование\n",
    "\n",
    "Заказчик хочет понять, зависит ли полнота сведений о сотрудниках (например, об их образовании) от размера компаний.\n",
    "\n",
    "- Оцените, насколько информация об образовании сотрудников полна. Используя датасеты `people.csv` и `education.csv`, разделите все компании на несколько групп по количеству сотрудников и оцените среднюю долю сотрудников без информации об образовании в каждой из групп. Обоснуйте выбранные границы групп.\n",
    "- Оцените, возможно ли для выполнения задания присоединить к этим таблицам ещё и таблицу `degrees.csv`."
   ]
  },
  {
   "cell_type": "code",
   "execution_count": 92,
   "id": "d4e7c1fa-ef18-4770-9f4d-c9f9d42a46e4",
   "metadata": {},
   "outputs": [
    {
     "data": {
      "text/plain": [
       "Index(['id_edu', 'id', 'instituition', 'graduated_at'], dtype='object')"
      ]
     },
     "execution_count": 92,
     "metadata": {},
     "output_type": "execute_result"
    }
   ],
   "source": [
    "#Переименуем столбцы в education\n",
    "education_df = education_df.rename(columns={\n",
    "    'id': 'id_edu',\n",
    "    'person_id': 'id'})\n",
    "education_df.columns"
   ]
  },
  {
   "cell_type": "code",
   "execution_count": 93,
   "id": "e8a1c6da-6344-46c3-a755-e1a08439f178",
   "metadata": {},
   "outputs": [
    {
     "name": "stdout",
     "output_type": "stream",
     "text": [
      "<class 'pandas.core.frame.DataFrame'>\n",
      "Int64Index: 267694 entries, 0 to 267693\n",
      "Data columns (total 8 columns):\n",
      " #   Column            Non-Null Count   Dtype         \n",
      "---  ------            --------------   -----         \n",
      " 0   id                267694 non-null  int64         \n",
      " 1   first_name        267689 non-null  object        \n",
      " 2   last_name         267693 non-null  object        \n",
      " 3   company_id        44789 non-null   float64       \n",
      " 4   network_username  50775 non-null   object        \n",
      " 5   id_edu            109056 non-null  float64       \n",
      " 6   instituition      109002 non-null  object        \n",
      " 7   graduated_at      57691 non-null   datetime64[ns]\n",
      "dtypes: datetime64[ns](1), float64(2), int64(1), object(4)\n",
      "memory usage: 18.4+ MB\n"
     ]
    }
   ],
   "source": [
    "# Объеденим данные о сотрудниках и их образовании.\n",
    "people_edu_df = people_df.merge(education_df, on = 'id', how = 'left')\n",
    "people_edu_df.info()\n"
   ]
  },
  {
   "cell_type": "code",
   "execution_count": 95,
   "id": "3688d92d-0837-49bd-8c09-877fa52244b0",
   "metadata": {},
   "outputs": [
    {
     "name": "stdout",
     "output_type": "stream",
     "text": [
      "\n",
      "Анализ пропущенных значений в people_edu_df:\n"
     ]
    },
    {
     "data": {
      "text/html": [
       "<div>\n",
       "<style scoped>\n",
       "    .dataframe tbody tr th:only-of-type {\n",
       "        vertical-align: middle;\n",
       "    }\n",
       "\n",
       "    .dataframe tbody tr th {\n",
       "        vertical-align: top;\n",
       "    }\n",
       "\n",
       "    .dataframe thead th {\n",
       "        text-align: right;\n",
       "    }\n",
       "</style>\n",
       "<table border=\"1\" class=\"dataframe\">\n",
       "  <thead>\n",
       "    <tr style=\"text-align: right;\">\n",
       "      <th></th>\n",
       "      <th>Количество пропусков</th>\n",
       "      <th>Процент пропусков (%)</th>\n",
       "    </tr>\n",
       "  </thead>\n",
       "  <tbody>\n",
       "    <tr>\n",
       "      <th>id</th>\n",
       "      <td>0</td>\n",
       "      <td>0.00</td>\n",
       "    </tr>\n",
       "    <tr>\n",
       "      <th>first_name</th>\n",
       "      <td>5</td>\n",
       "      <td>0.00</td>\n",
       "    </tr>\n",
       "    <tr>\n",
       "      <th>last_name</th>\n",
       "      <td>1</td>\n",
       "      <td>0.00</td>\n",
       "    </tr>\n",
       "    <tr>\n",
       "      <th>company_id</th>\n",
       "      <td>222905</td>\n",
       "      <td>83.27</td>\n",
       "    </tr>\n",
       "    <tr>\n",
       "      <th>network_username</th>\n",
       "      <td>216919</td>\n",
       "      <td>81.03</td>\n",
       "    </tr>\n",
       "    <tr>\n",
       "      <th>id_edu</th>\n",
       "      <td>158638</td>\n",
       "      <td>59.26</td>\n",
       "    </tr>\n",
       "    <tr>\n",
       "      <th>instituition</th>\n",
       "      <td>158692</td>\n",
       "      <td>59.28</td>\n",
       "    </tr>\n",
       "    <tr>\n",
       "      <th>graduated_at</th>\n",
       "      <td>210003</td>\n",
       "      <td>78.45</td>\n",
       "    </tr>\n",
       "  </tbody>\n",
       "</table>\n",
       "</div>"
      ],
      "text/plain": [
       "                  Количество пропусков  Процент пропусков (%)\n",
       "id                                   0                   0.00\n",
       "first_name                           5                   0.00\n",
       "last_name                            1                   0.00\n",
       "company_id                      222905                  83.27\n",
       "network_username                216919                  81.03\n",
       "id_edu                          158638                  59.26\n",
       "instituition                    158692                  59.28\n",
       "graduated_at                    210003                  78.45"
      ]
     },
     "metadata": {},
     "output_type": "display_data"
    }
   ],
   "source": [
    "missing_percentage6 = round(people_edu_df.isna().sum() / len(people_edu_df) * 100,2) \n",
    "missing_df6= pd.DataFrame({\n",
    "    'Количество пропусков': people_edu_df.isna().sum(),\n",
    "    'Процент пропусков (%)': missing_percentage6\n",
    "})\n",
    "print(\"\\nАнализ пропущенных значений в people_edu_df:\")\n",
    "display(missing_df6)"
   ]
  },
  {
   "cell_type": "code",
   "execution_count": 96,
   "id": "88ff921e-7149-4269-8d8c-61ab902b2fb8",
   "metadata": {},
   "outputs": [
    {
     "data": {
      "text/html": [
       "<div>\n",
       "<style scoped>\n",
       "    .dataframe tbody tr th:only-of-type {\n",
       "        vertical-align: middle;\n",
       "    }\n",
       "\n",
       "    .dataframe tbody tr th {\n",
       "        vertical-align: top;\n",
       "    }\n",
       "\n",
       "    .dataframe thead th {\n",
       "        text-align: right;\n",
       "    }\n",
       "</style>\n",
       "<table border=\"1\" class=\"dataframe\">\n",
       "  <thead>\n",
       "    <tr style=\"text-align: right;\">\n",
       "      <th></th>\n",
       "      <th>company_id</th>\n",
       "      <th>employee_count</th>\n",
       "    </tr>\n",
       "  </thead>\n",
       "  <tbody>\n",
       "    <tr>\n",
       "      <th>48</th>\n",
       "      <td>59.0</td>\n",
       "      <td>244</td>\n",
       "    </tr>\n",
       "    <tr>\n",
       "      <th>25</th>\n",
       "      <td>29.0</td>\n",
       "      <td>150</td>\n",
       "    </tr>\n",
       "    <tr>\n",
       "      <th>777</th>\n",
       "      <td>1242.0</td>\n",
       "      <td>138</td>\n",
       "    </tr>\n",
       "    <tr>\n",
       "      <th>20605</th>\n",
       "      <td>231067.0</td>\n",
       "      <td>72</td>\n",
       "    </tr>\n",
       "    <tr>\n",
       "      <th>378</th>\n",
       "      <td>499.0</td>\n",
       "      <td>63</td>\n",
       "    </tr>\n",
       "    <tr>\n",
       "      <th>4</th>\n",
       "      <td>5.0</td>\n",
       "      <td>61</td>\n",
       "    </tr>\n",
       "    <tr>\n",
       "      <th>376</th>\n",
       "      <td>494.0</td>\n",
       "      <td>56</td>\n",
       "    </tr>\n",
       "    <tr>\n",
       "      <th>1761</th>\n",
       "      <td>4175.0</td>\n",
       "      <td>56</td>\n",
       "    </tr>\n",
       "    <tr>\n",
       "      <th>9</th>\n",
       "      <td>12.0</td>\n",
       "      <td>51</td>\n",
       "    </tr>\n",
       "    <tr>\n",
       "      <th>248</th>\n",
       "      <td>317.0</td>\n",
       "      <td>48</td>\n",
       "    </tr>\n",
       "  </tbody>\n",
       "</table>\n",
       "</div>"
      ],
      "text/plain": [
       "       company_id  employee_count\n",
       "48           59.0             244\n",
       "25           29.0             150\n",
       "777        1242.0             138\n",
       "20605    231067.0              72\n",
       "378         499.0              63\n",
       "4             5.0              61\n",
       "376         494.0              56\n",
       "1761       4175.0              56\n",
       "9            12.0              51\n",
       "248         317.0              48"
      ]
     },
     "execution_count": 96,
     "metadata": {},
     "output_type": "execute_result"
    }
   ],
   "source": [
    "# посчитаем количество сотрудников в каждой компании\n",
    "count_people=people_edu_df.groupby('company_id')['id'].nunique().reset_index()\n",
    "count_people.columns = ['company_id', 'employee_count']\n",
    "count_people = count_people.sort_values('employee_count', ascending=False)\n",
    "count_people.head(10)\n"
   ]
  },
  {
   "cell_type": "code",
   "execution_count": 98,
   "id": "71f42bf9-ca35-476d-b9a5-1c6de12f56cb",
   "metadata": {},
   "outputs": [
    {
     "data": {
      "image/png": "[encoded data removed]",
      "text/plain": [
       "<Figure size 640x480 with 1 Axes>"
      ]
     },
     "metadata": {},
     "output_type": "display_data"
    }
   ],
   "source": [
    "# Построим countplot, чтобы увидеть количество сотрудников по компаниям.\n",
    "sns.countplot(data=count_people, x='employee_count')\n",
    "plt.title('Количество сотрудников в компаниях')\n",
    "plt.xlabel('названия компаний')\n",
    "plt.ylabel('Количество')\n",
    "plt.xticks(rotation=90) \n",
    "plt.show()"
   ]
  },
  {
   "cell_type": "code",
   "execution_count": 99,
   "id": "bd11629a-c4cc-48ac-96c2-95130b8b384c",
   "metadata": {},
   "outputs": [
    {
     "data": {
      "text/plain": [
       "1      18117\n",
       "2       2709\n",
       "3        921\n",
       "4        450\n",
       "5        237\n",
       "6        138\n",
       "7        100\n",
       "8         59\n",
       "9         46\n",
       "10        25\n",
       "11        30\n",
       "12        16\n",
       "13        17\n",
       "14         8\n",
       "15         3\n",
       "16         4\n",
       "17         5\n",
       "18         3\n",
       "19         3\n",
       "20         3\n",
       "21         2\n",
       "22         2\n",
       "23         3\n",
       "25         2\n",
       "26         1\n",
       "29         2\n",
       "31         1\n",
       "32         1\n",
       "35         1\n",
       "36         1\n",
       "39         1\n",
       "47         1\n",
       "48         1\n",
       "51         1\n",
       "56         2\n",
       "61         1\n",
       "63         1\n",
       "72         1\n",
       "138        1\n",
       "150        1\n",
       "244        1\n",
       "Name: employee_count, dtype: int64"
      ]
     },
     "execution_count": 99,
     "metadata": {},
     "output_type": "execute_result"
    }
   ],
   "source": [
    "# Распределение количества сотрудников по компаниям\n",
    "people_per_companies = count_people['employee_count'].value_counts().sort_index()\n",
    "people_per_companies"
   ]
  },
  {
   "cell_type": "markdown",
   "id": "6743a269-d4b1-4694-ad64-0c199eae26c7",
   "metadata": {},
   "source": [
    "На диаграмме размаха видно, что большинство компаний состоят от 1 - 14 человек, и это нормально для стартапов."
   ]
  },
  {
   "cell_type": "code",
   "execution_count": 104,
   "id": "f6826746-4b77-4522-a981-3d4c5ed23d14",
   "metadata": {},
   "outputs": [],
   "source": [
    "#Всего сотрудников\n",
    "count_people=people_edu_df.groupby('company_id')['id'].nunique().reset_index()\n",
    "count_people.columns = ['company_id', 'employee_count']\n",
    "#Количество сотрудников по группам без образования\n",
    "missing_edu = people_edu_df[people_edu_df['id_edu'].isna()]\n",
    "missing_by_group = missing_edu.groupby('company_id')['id'].nunique().reset_index()\n",
    "missing_by_group.columns = ['company_id', 'employees_without_edu']\n",
    "# Объединим данные \n",
    "table1 = pd.merge(count_people, missing_by_group, on='company_id', how='left').fillna(0)\n",
    "table1['percentage_without_edu'] = round((table1['employees_without_edu'] / table1['employee_count']) * 100, 2)\n"
   ]
  },
  {
   "cell_type": "code",
   "execution_count": 105,
   "id": "2376a9ea-b650-4303-a2d2-2bc446881e25",
   "metadata": {},
   "outputs": [
    {
     "name": "stdout",
     "output_type": "stream",
     "text": [
      "\n",
      "Распределение компаний по количеству сотрудников\n"
     ]
    },
    {
     "data": {
      "text/html": [
       "<div>\n",
       "<style scoped>\n",
       "    .dataframe tbody tr th:only-of-type {\n",
       "        vertical-align: middle;\n",
       "    }\n",
       "\n",
       "    .dataframe tbody tr th {\n",
       "        vertical-align: top;\n",
       "    }\n",
       "\n",
       "    .dataframe thead th {\n",
       "        text-align: right;\n",
       "    }\n",
       "</style>\n",
       "<table border=\"1\" class=\"dataframe\">\n",
       "  <thead>\n",
       "    <tr style=\"text-align: right;\">\n",
       "      <th></th>\n",
       "      <th>Группа</th>\n",
       "      <th>Количество компаний</th>\n",
       "      <th>Доля сотрудников без информации об образовании (%)</th>\n",
       "    </tr>\n",
       "  </thead>\n",
       "  <tbody>\n",
       "    <tr>\n",
       "      <th>0</th>\n",
       "      <td>1</td>\n",
       "      <td>18117</td>\n",
       "      <td>46.3</td>\n",
       "    </tr>\n",
       "    <tr>\n",
       "      <th>1</th>\n",
       "      <td>2</td>\n",
       "      <td>2709</td>\n",
       "      <td>46.6</td>\n",
       "    </tr>\n",
       "    <tr>\n",
       "      <th>2</th>\n",
       "      <td>3-5</td>\n",
       "      <td>1608</td>\n",
       "      <td>49.1</td>\n",
       "    </tr>\n",
       "    <tr>\n",
       "      <th>3</th>\n",
       "      <td>6-10</td>\n",
       "      <td>368</td>\n",
       "      <td>53.2</td>\n",
       "    </tr>\n",
       "    <tr>\n",
       "      <th>4</th>\n",
       "      <td>11+</td>\n",
       "      <td>120</td>\n",
       "      <td>42.8</td>\n",
       "    </tr>\n",
       "  </tbody>\n",
       "</table>\n",
       "</div>"
      ],
      "text/plain": [
       "  Группа  Количество компаний  \\\n",
       "0      1                18117   \n",
       "1      2                 2709   \n",
       "2    3-5                 1608   \n",
       "3   6-10                  368   \n",
       "4    11+                  120   \n",
       "\n",
       "   Доля сотрудников без информации об образовании (%)  \n",
       "0                                               46.3   \n",
       "1                                               46.6   \n",
       "2                                               49.1   \n",
       "3                                               53.2   \n",
       "4                                               42.8   "
      ]
     },
     "metadata": {},
     "output_type": "display_data"
    }
   ],
   "source": [
    "# разделим все компании на несколько групп по количеству сотрудников\n",
    "bins = [1, 2, 3, 6, 11, float('inf')]\n",
    "labels = ['1', '2', '3-5', '6-10', '11+']\n",
    "\n",
    "table1['group']=pd.cut(table1['employee_count'], bins=bins, labels=labels, right=False)\n",
    "\n",
    "# Рассчитаем показатели\n",
    "size = table1.groupby('group').agg(total_companies=('company_id', 'count'), avg_missing_edu_per=('percentage_without_edu', 'mean')).reset_index()\n",
    "\n",
    "# Создаем DataFrame с результатами\n",
    "result = pd.DataFrame({\n",
    "    'Группа': size['group'],\n",
    "    'Количество компаний': size['total_companies'],\n",
    "    'Доля сотрудников без информации об образовании (%)': round(size['avg_missing_edu_per'],1)\n",
    "})\n",
    "\n",
    "# Выводим результаты\n",
    "print(\"\\nРаспределение компаний по количеству сотрудников\")\n",
    "display(result)\n"
   ]
  },
  {
   "cell_type": "markdown",
   "id": "ce5a5f77-d834-4bac-864f-65f62afd98a7",
   "metadata": {},
   "source": [
    "В стартапах количество сотрудников небольшое, поэтому подробнее рассмотрели малые группы: 1 человек (сотрудников без образования 46.3%), 2 человека (46.6%), 3-5 сотрудника (49.1%), 6-10 сотрудников (53.2%), более 11 (42.8%). Интересный факт, что почти у половины сотрудников нет информации об образовании."
   ]
  },
  {
   "cell_type": "markdown",
   "id": "0c1a4688-54f0-4925-8a0a-ec49daf12200",
   "metadata": {},
   "source": [
    "Далее оценим, возможно ли уже объедененному датафрейму people_edu_df присоединить degrees_df."
   ]
  },
  {
   "cell_type": "code",
   "execution_count": 111,
   "id": "7615cc94-2a02-4414-af8b-cc1eb92b9e2d",
   "metadata": {},
   "outputs": [
    {
     "data": {
      "text/html": [
       "<div>\n",
       "<style scoped>\n",
       "    .dataframe tbody tr th:only-of-type {\n",
       "        vertical-align: middle;\n",
       "    }\n",
       "\n",
       "    .dataframe tbody tr th {\n",
       "        vertical-align: top;\n",
       "    }\n",
       "\n",
       "    .dataframe thead th {\n",
       "        text-align: right;\n",
       "    }\n",
       "</style>\n",
       "<table border=\"1\" class=\"dataframe\">\n",
       "  <thead>\n",
       "    <tr style=\"text-align: right;\">\n",
       "      <th></th>\n",
       "      <th>id</th>\n",
       "      <th>first_name</th>\n",
       "      <th>last_name</th>\n",
       "      <th>company_id</th>\n",
       "      <th>network_username</th>\n",
       "      <th>id_edu</th>\n",
       "      <th>instituition</th>\n",
       "      <th>graduated_at</th>\n",
       "      <th>id_degrees</th>\n",
       "      <th>object_id</th>\n",
       "      <th>degree_type</th>\n",
       "      <th>subject</th>\n",
       "    </tr>\n",
       "  </thead>\n",
       "  <tbody>\n",
       "    <tr>\n",
       "      <th>134544</th>\n",
       "      <td>227304</td>\n",
       "      <td>Nick</td>\n",
       "      <td>Medaer</td>\n",
       "      <td>NaN</td>\n",
       "      <td>NaN</td>\n",
       "      <td>71748.0</td>\n",
       "      <td>Katholieke Universiteit Leuven</td>\n",
       "      <td>2007-01-01</td>\n",
       "      <td>71748.0</td>\n",
       "      <td>p:227304</td>\n",
       "      <td>MS</td>\n",
       "      <td>Commercial Engineering - Finance</td>\n",
       "    </tr>\n",
       "    <tr>\n",
       "      <th>220554</th>\n",
       "      <td>55432</td>\n",
       "      <td>Alain</td>\n",
       "      <td>Scherrer</td>\n",
       "      <td>NaN</td>\n",
       "      <td>NaN</td>\n",
       "      <td>NaN</td>\n",
       "      <td>NaN</td>\n",
       "      <td>NaT</td>\n",
       "      <td>NaN</td>\n",
       "      <td>NaN</td>\n",
       "      <td>NaN</td>\n",
       "      <td>NaN</td>\n",
       "    </tr>\n",
       "    <tr>\n",
       "      <th>63388</th>\n",
       "      <td>168666</td>\n",
       "      <td>Stephanie</td>\n",
       "      <td>Medeiros</td>\n",
       "      <td>NaN</td>\n",
       "      <td>writerary</td>\n",
       "      <td>94577.0</td>\n",
       "      <td>Oakland Community College</td>\n",
       "      <td>NaT</td>\n",
       "      <td>94577.0</td>\n",
       "      <td>p:168666</td>\n",
       "      <td>NaN</td>\n",
       "      <td>Technological Sciences</td>\n",
       "    </tr>\n",
       "    <tr>\n",
       "      <th>232305</th>\n",
       "      <td>65941</td>\n",
       "      <td>Dave</td>\n",
       "      <td>Young</td>\n",
       "      <td>NaN</td>\n",
       "      <td>NaN</td>\n",
       "      <td>NaN</td>\n",
       "      <td>NaN</td>\n",
       "      <td>NaT</td>\n",
       "      <td>NaN</td>\n",
       "      <td>NaN</td>\n",
       "      <td>NaN</td>\n",
       "      <td>NaN</td>\n",
       "    </tr>\n",
       "    <tr>\n",
       "      <th>208576</th>\n",
       "      <td>45170</td>\n",
       "      <td>Kelly</td>\n",
       "      <td>Spradley</td>\n",
       "      <td>35147.0</td>\n",
       "      <td>kellyspradley</td>\n",
       "      <td>14741.0</td>\n",
       "      <td>Texas A&amp;M University</td>\n",
       "      <td>1992-01-01</td>\n",
       "      <td>14741.0</td>\n",
       "      <td>p:45170</td>\n",
       "      <td>BA</td>\n",
       "      <td>Biology</td>\n",
       "    </tr>\n",
       "  </tbody>\n",
       "</table>\n",
       "</div>"
      ],
      "text/plain": [
       "            id first_name last_name  company_id network_username   id_edu  \\\n",
       "134544  227304       Nick    Medaer         NaN              NaN  71748.0   \n",
       "220554   55432      Alain  Scherrer         NaN              NaN      NaN   \n",
       "63388   168666  Stephanie  Medeiros         NaN        writerary  94577.0   \n",
       "232305   65941       Dave     Young         NaN              NaN      NaN   \n",
       "208576   45170      Kelly  Spradley     35147.0    kellyspradley  14741.0   \n",
       "\n",
       "                          instituition graduated_at  id_degrees object_id  \\\n",
       "134544  Katholieke Universiteit Leuven   2007-01-01     71748.0  p:227304   \n",
       "220554                             NaN          NaT         NaN       NaN   \n",
       "63388        Oakland Community College          NaT     94577.0  p:168666   \n",
       "232305                             NaN          NaT         NaN       NaN   \n",
       "208576            Texas A&M University   1992-01-01     14741.0   p:45170   \n",
       "\n",
       "       degree_type                           subject  \n",
       "134544          MS  Commercial Engineering - Finance  \n",
       "220554         NaN                               NaN  \n",
       "63388          NaN            Technological Sciences  \n",
       "232305         NaN                               NaN  \n",
       "208576          BA                           Biology  "
      ]
     },
     "execution_count": 111,
     "metadata": {},
     "output_type": "execute_result"
    }
   ],
   "source": [
    "# Присоединим таблицу degrees_df на основании идентификатора записи об образовании.\n",
    "df = people_edu_df.merge(degrees_df, left_on = 'id_edu', right_on = 'id_degrees', how = 'left')\n",
    "df.sample(n=5)\n"
   ]
  },
  {
   "cell_type": "markdown",
   "id": "a9b5daaf-cc64-4828-8743-7fc025b9f1ce",
   "metadata": {},
   "source": [
    "Таблицу присоединили. "
   ]
  },
  {
   "cell_type": "markdown",
   "id": "5d90bb1d-d527-4cfa-83b5-00dd3a62541e",
   "metadata": {},
   "source": [
    "### 2.3. Объединять или не объединять — вот в чём вопрос\n",
    "\n",
    "Некоторые названия столбцов встречаются в датасетах чаще других. В результате предварительной проверки датасетов было выяснено, что столбец `company_id` подходит для объединения данных.\n",
    "\n",
    "- Установите, подходит ли для объединения данных столбец `network_username`, который встречается в нескольких датасетах. Нам необходимо понимать, дублируется ли для разных датасетов информация в столбцах с таким названием, и если да — то насколько часто.\n",
    "- Оцените, можно ли использовать столбцы с именем `network_username` для объединения данных."
   ]
  },
  {
   "cell_type": "code",
   "execution_count": 115,
   "id": "8467dfdc-555a-4083-8f91-a5e32ba95543",
   "metadata": {},
   "outputs": [
    {
     "data": {
      "text/plain": [
       "' Доля уникальных network_username  в people_df: 16.93%'"
      ]
     },
     "execution_count": 115,
     "metadata": {},
     "output_type": "execute_result"
    }
   ],
   "source": [
    "people_df['network_username'] = (people_df['network_username'].astype(str).str.lower().str.strip()) \n",
    "#Расчет доли уникальных значений\n",
    "unique_people_df = (round(people_df['network_username'].dropna().nunique()/len(people_df)*100,2))\n",
    "f\" Доля уникальных network_username  в people_df: {unique_people_df}%\""
   ]
  },
  {
   "cell_type": "code",
   "execution_count": 116,
   "id": "684bb59b-f88f-4988-a335-4141dbfc9429",
   "metadata": {},
   "outputs": [
    {
     "data": {
      "text/plain": [
       "' Доля уникальных network_username  в company_and_rounds_df: 36.45%'"
      ]
     },
     "execution_count": 116,
     "metadata": {},
     "output_type": "execute_result"
    }
   ],
   "source": [
    "company_and_rounds_df['network_username'] = (company_and_rounds_df['network_username'].astype(str).str.lower().str.strip()) \n",
    "#Расчет доли уникальных значений\n",
    "unique_company_and_rounds_df = (round(company_and_rounds_df['network_username'].dropna().nunique()/len(company_and_rounds_df)*100,2))\n",
    "f\" Доля уникальных network_username  в company_and_rounds_df: {unique_company_and_rounds_df}%\""
   ]
  },
  {
   "cell_type": "markdown",
   "id": "70b8ef57-f3ad-4aeb-aec5-25e4ed1c0ea6",
   "metadata": {},
   "source": [
    "Процент уникальности менее 50%, поэтому network_username можно использовать только для дополнительного объединения таблиц company_and_rounds_df и people_df."
   ]
  },
  {
   "cell_type": "code",
   "execution_count": 118,
   "id": "0f8f47ef-458d-4a84-9f5b-85980e4aae05",
   "metadata": {},
   "outputs": [
    {
     "data": {
      "text/plain": [
       "Text(0.5, 1.0, 'Пересечение ')"
      ]
     },
     "execution_count": 118,
     "metadata": {},
     "output_type": "execute_result"
    },
    {
     "data": {
      "image/png": "[encoded data removed]",
      "text/plain": [
       "<Figure size 640x480 with 1 Axes>"
      ]
     },
     "metadata": {},
     "output_type": "display_data"
    }
   ],
   "source": [
    "company_and_rounds=set(company_and_rounds_df['network_username'].dropna().unique())\n",
    "people=set(people_df['network_username'].dropna().unique())\n",
    "#Пересечение таблиц\n",
    "f' Пересечение значений: {len(company_and_rounds&people)}'\n",
    "#Построим диаграмму Венна\n",
    "venn2([company_and_rounds, people], set_labels=('network_username', 'network_username'))\n",
    "plt.title(\"Пересечение \") "
   ]
  },
  {
   "cell_type": "code",
   "execution_count": 119,
   "id": "390b33cd-37b5-4942-965f-7c7bc7365b11",
   "metadata": {},
   "outputs": [
    {
     "data": {
      "text/plain": [
       "' это составляет 1.15% от числа всех строк в company_and_rounds_df'"
      ]
     },
     "execution_count": 119,
     "metadata": {},
     "output_type": "execute_result"
    }
   ],
   "source": [
    "dolya = round(len(company_and_rounds&people)/len(company_and_rounds_df)*100,2)\n",
    "f' это составляет {dolya}% от числа всех строк в company_and_rounds_df' "
   ]
  },
  {
   "cell_type": "code",
   "execution_count": 120,
   "id": "4f27f14a-be9f-40c3-95b0-13c793e47efc",
   "metadata": {},
   "outputs": [
    {
     "data": {
      "image/png": "[encoded data removed]",
      "text/plain": [
       "<Figure size 640x480 with 1 Axes>"
      ]
     },
     "metadata": {},
     "output_type": "display_data"
    }
   ],
   "source": [
    "#Построим диаграмму Венна, чтобы ответить на вопрос, объединять или не объединять таблицы company_and_rounds и people\n",
    "\n",
    "#Сравним содержание двух столбцов\n",
    "first_id_company_and_rounds = set(company_and_rounds_df['first_company_id'].dropna().unique())\n",
    "second_id_people = set(people_df['company_id'].dropna().unique())\n",
    "#Построим диаграмму Венна\n",
    "venn2([first_id_company_and_rounds, second_id_people], set_labels=('first_company_id', 'company_id'))\n",
    "plt.title(\"Пересечение \") \n",
    "plt.show()\n"
   ]
  },
  {
   "cell_type": "markdown",
   "id": "764128b1-bdb3-4727-b7df-c557cea47bc4",
   "metadata": {},
   "source": [
    "По столбцу company_id таблицу people можно присоединять."
   ]
  },
  {
   "cell_type": "markdown",
   "id": "e8ff051d-a93b-4794-912f-6917362606c2",
   "metadata": {},
   "source": [
    "### 2.4. Проблемный датасет и причина возникновения пропусков\n",
    "\n",
    "Во время собственного анализа данных у заказчика больше всего вопросов возникло к датасету `company_and_rounds.csv`. В нём много пропусков как раз в информации о раундах, которая заказчику важна.\n",
    "\n",
    "- Любым удобным способом приведите данные в вид, который позволит в дальнейшем проводить анализ в разрезе отдельных компаний. Обратите внимание на структуру датасета, порядок и названия столбцов, проанализируйте значения.\n",
    "\n",
    "По гипотезе заказчика данные по компаниям из этой таблицы раньше хранились иначе, более удобным для исследования образом.\n",
    "\n",
    "- Максимальным образом сохраняя данные, сохранив их связность и исключив возможные возникающие при этом ошибки, подготовьте данные так, чтобы удобно было отобрать компании по параметрам и рассчитать показатели из расчёта на одну компанию без промежуточных агрегаций."
   ]
  },
  {
   "cell_type": "code",
   "execution_count": 127,
   "id": "16a507b5-9242-48b3-bf8b-d5e943b93aae",
   "metadata": {},
   "outputs": [
    {
     "name": "stdout",
     "output_type": "stream",
     "text": [
      "Строк: 217774, Столбцов: 23\n",
      "Типы данных и пропуски:\n",
      "<class 'pandas.core.frame.DataFrame'>\n",
      "RangeIndex: 217774 entries, 0 to 217773\n",
      "Data columns (total 23 columns):\n",
      " #   Column               Non-Null Count   Dtype         \n",
      "---  ------               --------------   -----         \n",
      " 0   first_company_id     217472 non-null  float64       \n",
      " 1   name                 217472 non-null  object        \n",
      " 2   category_code        143886 non-null  object        \n",
      " 3   status               217472 non-null  object        \n",
      " 4   founded_at           109956 non-null  datetime64[ns]\n",
      " 5   closed_at            3449 non-null    datetime64[ns]\n",
      " 6   domain               147159 non-null  object        \n",
      " 7   network_username     217774 non-null  object        \n",
      " 8   country_code         108607 non-null  object        \n",
      " 9   investment_rounds    217472 non-null  float64       \n",
      " 10  funding_rounds       217472 non-null  float64       \n",
      " 11  funding_total        217472 non-null  float64       \n",
      " 12  milestones           217472 non-null  float64       \n",
      " 13  funding_round_id     52928 non-null   float64       \n",
      " 14  company_id           52928 non-null   float64       \n",
      " 15  funded_at            52680 non-null   datetime64[ns]\n",
      " 16  funding_round_type   52928 non-null   object        \n",
      " 17  raised_amount        52928 non-null   float64       \n",
      " 18  pre_money_valuation  52928 non-null   float64       \n",
      " 19  participants         52928 non-null   float64       \n",
      " 20  is_first_round       52928 non-null   float64       \n",
      " 21  is_last_round        52928 non-null   float64       \n",
      " 22  year                 52680 non-null   float64       \n",
      "dtypes: datetime64[ns](3), float64(13), object(7)\n",
      "memory usage: 38.2+ MB\n",
      "None\n"
     ]
    },
    {
     "data": {
      "text/plain": [
       "<AxesSubplot:>"
      ]
     },
     "execution_count": 127,
     "metadata": {},
     "output_type": "execute_result"
    },
    {
     "data": {
      "image/png": "[encoded data removed]",
      "text/plain": [
       "<Figure size 2500x1000 with 2 Axes>"
      ]
     },
     "metadata": {},
     "output_type": "display_data"
    }
   ],
   "source": [
    "print(f\"Строк: {len(company_and_rounds_df)}, Столбцов: {len(company_and_rounds_df.columns)}\")\n",
    "print(f\"Типы данных и пропуски:\")\n",
    "print(company_and_rounds_df.info())\n",
    "# Анализ пропусков\n",
    "msno.matrix(company_and_rounds_df)\n"
   ]
  },
  {
   "cell_type": "markdown",
   "id": "8e0f6900-14e5-4f92-993b-b2912c87e975",
   "metadata": {},
   "source": [
    "По анализу пропусков четко прослеживается как можно разделить эти две таблицы. В одной из них строк меньше, и это четко прослеживается. Получится две таблицы, в одной информация о компаниях, во второй информация о компаниях, у которой были раунды финансирования."
   ]
  },
  {
   "cell_type": "code",
   "execution_count": 131,
   "id": "90a0285d-5f1e-4e5c-98d0-53ecfda80f02",
   "metadata": {},
   "outputs": [
    {
     "data": {
      "text/plain": [
       "first_company_id              float64\n",
       "name                           object\n",
       "category_code                category\n",
       "status                       category\n",
       "founded_at             datetime64[ns]\n",
       "closed_at              datetime64[ns]\n",
       "domain                         object\n",
       "network_username               object\n",
       "country_code                 category\n",
       "investment_rounds             float64\n",
       "funding_rounds                float64\n",
       "funding_total                 float64\n",
       "milestones                    float64\n",
       "funding_round_id              float64\n",
       "company_id                    float64\n",
       "funded_at              datetime64[ns]\n",
       "funding_round_type           category\n",
       "raised_amount                 float64\n",
       "pre_money_valuation           float64\n",
       "participants                  float64\n",
       "is_first_round                float64\n",
       "is_last_round                 float64\n",
       "year                          float64\n",
       "dtype: object"
      ]
     },
     "execution_count": 131,
     "metadata": {},
     "output_type": "execute_result"
    }
   ],
   "source": [
    "company_and_rounds_df['first_company_id'] = pd.to_numeric(company_and_rounds_df['first_company_id'], errors='coerce')\n",
    "company_and_rounds_df['company_id'] = pd.to_numeric(company_and_rounds_df['company_id'], errors='coerce')\n",
    "company_and_rounds_df[['category_code', 'status', 'country_code', 'funding_round_type']]=company_and_rounds_df[['category_code', 'status', 'country_code', 'funding_round_type']].astype('category')\n",
    "company_and_rounds_df.dtypes"
   ]
  },
  {
   "cell_type": "markdown",
   "id": "4430fe77-8d39-4062-8ce0-295a362f6553",
   "metadata": {},
   "source": [
    "Проверим на явные и неявные дубликаты `company_and_rounds_df`."
   ]
  },
  {
   "cell_type": "code",
   "execution_count": 133,
   "id": "776c498a-b8d7-4341-b5cb-05d837d12abf",
   "metadata": {},
   "outputs": [
    {
     "data": {
      "text/plain": [
       "' Полных дубликатов: 0'"
      ]
     },
     "execution_count": 133,
     "metadata": {},
     "output_type": "execute_result"
    }
   ],
   "source": [
    "#Общее количество дубликатов\n",
    "total_duplicates = company_and_rounds_df.duplicated().sum()\n",
    "f' Полных дубликатов: {total_duplicates}'"
   ]
  },
  {
   "cell_type": "code",
   "execution_count": 134,
   "id": "a04e8cba-ca57-4994-964f-6f1c42e83cf4",
   "metadata": {},
   "outputs": [
    {
     "data": {
      "text/plain": [
       "' Дубликатов по столбцам 21220'"
      ]
     },
     "execution_count": 134,
     "metadata": {},
     "output_type": "execute_result"
    }
   ],
   "source": [
    "#Проверим дубликаты по столбцам\n",
    "duplicates= company_and_rounds_df.duplicated(subset=['first_company_id', 'name', 'category_code']).sum()\n",
    "f' Дубликатов по столбцам {duplicates}'"
   ]
  },
  {
   "cell_type": "code",
   "execution_count": 135,
   "id": "faa7a62d-5df9-42f5-a18b-19bf7a3816c9",
   "metadata": {},
   "outputs": [
    {
     "data": {
      "text/plain": [
       "' Осталось строк после удаления дубликатов: 196554'"
      ]
     },
     "execution_count": 135,
     "metadata": {},
     "output_type": "execute_result"
    }
   ],
   "source": [
    "company_and_rounds_df = company_and_rounds_df.drop_duplicates(subset = ['first_company_id', 'name'], keep = 'first')\n",
    "f' Осталось строк после удаления дубликатов: {len(company_and_rounds_df)}'"
   ]
  },
  {
   "cell_type": "markdown",
   "id": "b7376dc6-a779-4f0b-adf3-0208ccb49b7c",
   "metadata": {},
   "source": [
    "Скорее всего, данные хранились ранее в двух отдельных таблицах. В одной была информация о компаниях, во второй информация о раундах финансирования. Пропробуем разделить эту таблицу."
   ]
  },
  {
   "cell_type": "code",
   "execution_count": 137,
   "id": "271c41f6-9230-4abe-a1d2-ab4d49dc8327",
   "metadata": {},
   "outputs": [
    {
     "data": {
      "text/plain": [
       "(196554, 14)"
      ]
     },
     "execution_count": 137,
     "metadata": {},
     "output_type": "execute_result"
    }
   ],
   "source": [
    "#Таблица по компаниям\n",
    "company_df = company_and_rounds_df[['first_company_id', 'name', 'category_code', 'status', 'founded_at', 'closed_at', 'domain', 'network_username', 'country_code', 'investment_rounds', 'funding_rounds', 'funding_total', 'milestones']].reset_index()\n",
    "company_df.sample(n=3)\n",
    "company_df.shape"
   ]
  },
  {
   "cell_type": "code",
   "execution_count": 138,
   "id": "79298c10-858d-4b63-bcbf-d7170c07b323",
   "metadata": {},
   "outputs": [
    {
     "data": {
      "text/plain": [
       "196554"
      ]
     },
     "execution_count": 138,
     "metadata": {},
     "output_type": "execute_result"
    }
   ],
   "source": [
    "# Таблица по раундам\n",
    "rounds_df=company_and_rounds_df[['company_id', 'raised_amount', 'funding_round_id', 'funded_at', 'funding_round_type', 'pre_money_valuation', 'participants', 'is_first_round', 'is_last_round', 'year']].reset_index()\n",
    "rounds_df.sample(n=3)\n",
    "len(rounds_df)\n"
   ]
  },
  {
   "cell_type": "markdown",
   "id": "fd52c9e5-6d1b-46d8-ad7b-18cce0a159d6",
   "metadata": {},
   "source": [
    "Подготовка данных закончена."
   ]
  },
  {
   "cell_type": "markdown",
   "id": "15fb6dbd-f87d-4e36-94e9-2c9b47173680",
   "metadata": {},
   "source": [
    "\n",
    "# Шаг 3. Исследовательский анализ объединённых таблиц\n",
    "\n",
    "\n",
    "\n"
   ]
  },
  {
   "cell_type": "markdown",
   "id": "d101d636-f64f-40c4-8748-3d596bf30ba5",
   "metadata": {},
   "source": [
    "### 3.1. Объединение данных\n",
    "\n",
    "Объедините данные для ответа на вопросы заказчика, которые касаются интересующих его компаний. Заказчика прежде всего интересуют те компании, которые меняли или готовы менять владельцев. Получение инвестиций или финансирования, по мнению заказчика, означает интерес к покупке или продаже компании.\n",
    "\n",
    "В качестве основы для объединённой таблицы возьмите данные из обработанного датасета `company_and_rounds.csv` — выберите только те компании, у которых указаны значения `funding_rounds` или `investment_rounds` больше нуля, или те, у которых в колонке `status` указано `acquired`. В результирующей таблице должно получиться порядка 40 тысяч компаний.\n",
    "\n",
    "Проверьте полноту и корректность получившейся таблицы. Далее работайте только с этими данными."
   ]
  },
  {
   "cell_type": "code",
   "execution_count": 146,
   "id": "c2926707-b409-40ec-bdf8-ce9c1542fa83",
   "metadata": {},
   "outputs": [
    {
     "data": {
      "text/plain": [
       "(40747, 9)"
      ]
     },
     "execution_count": 146,
     "metadata": {},
     "output_type": "execute_result"
    }
   ],
   "source": [
    "filtered_company_df = company_df[(company_df['funding_rounds']>0) | (company_df['investment_rounds']> 0) | (company_df['status']=='acquired')].copy()\n",
    "df = filtered_company_df[['first_company_id', 'name', 'category_code', 'status', 'founded_at', 'country_code', 'investment_rounds', 'funding_rounds', 'funding_total']]\n",
    "df.head(5)\n",
    "df.shape"
   ]
  },
  {
   "cell_type": "markdown",
   "id": "15424e90-4c5f-42e9-a09d-33bcc6c5f637",
   "metadata": {},
   "source": [
    "\n",
    "### 3.2. Анализ выбросов\n",
    "\n",
    "\n",
    "Заказчика интересует обычный для рассматриваемого периода размер средств, который предоставлялся компаниям.\n",
    "\n",
    "- По предобработанному столбцу `funding_total` графическим способом оцените, какой размер общего финансирования для одной компании будет типичным, а какой — выбивающимся.\n",
    "- В процессе расчёта значений обратите внимание, например, на показатели, возвращаемые методом `.describe()`, — объясните их. Применимы ли к таким данным обычные способы нахождения типичных значений?"
   ]
  },
  {
   "cell_type": "markdown",
   "id": "43c8d5e3-ffaa-4d49-a55b-2e3dddf415a9",
   "metadata": {},
   "source": [
    "Отобразим гистограмму, чтобы увидеть общее типичное финансирование компаний и есть ли в них выбросы."
   ]
  },
  {
   "cell_type": "code",
   "execution_count": 149,
   "id": "caae9b0b-d8c4-49db-9cdb-fd9aabe1a2f2",
   "metadata": {},
   "outputs": [
    {
     "data": {
      "image/png": "[encoded data removed]",
      "text/plain": [
       "<Figure size 1000x600 with 1 Axes>"
      ]
     },
     "metadata": {},
     "output_type": "display_data"
    }
   ],
   "source": [
    "plt.figure(figsize=(10,6))\n",
    "plt.hist(df['funding_total'], bins = 30, alpha=1, log = True)\n",
    "plt.title('Распределение общего финансирования')\n",
    "plt.ylabel('Количество компаний')\n",
    "plt.xlabel('Сумма финансирования')\n",
    "plt.show()"
   ]
  },
  {
   "cell_type": "code",
   "execution_count": 150,
   "id": "6fa5d274-930c-425a-b4d2-19ec5cdb23dd",
   "metadata": {
    "scrolled": true
   },
   "outputs": [
    {
     "data": {
      "text/plain": [
       "count    4.074700e+04\n",
       "mean     1.013561e+07\n",
       "std      5.646436e+07\n",
       "min      0.000000e+00\n",
       "25%      0.000000e+00\n",
       "50%      6.000000e+05\n",
       "75%      5.650650e+06\n",
       "max      5.700000e+09\n",
       "Name: funding_total, dtype: float64"
      ]
     },
     "execution_count": 150,
     "metadata": {},
     "output_type": "execute_result"
    }
   ],
   "source": [
    "df['funding_total'].describe()"
   ]
  },
  {
   "cell_type": "markdown",
   "id": "9529fd0e-401c-4c1d-8729-c09af3e9f078",
   "metadata": {},
   "source": [
    "По гистограмме и описанию столбца видно, что показатели имеют неравномерное распределение. Обычное финансирование компании смотрим по медиане. Это 6.000000е+05. Среднее смещено вправо из-за выбросов. Максимум это 5ю700000е+09 - слишком много, больше похоже на опечатку.  "
   ]
  },
  {
   "cell_type": "markdown",
   "id": "12f5f34a-c26c-42a0-8e67-1ba31faea68e",
   "metadata": {},
   "source": [
    "\n",
    "### 3.3. Куплены забесплатно?\n",
    "\n",
    "- Исследуйте компании, которые были проданы за ноль или за один доллар, и при этом известно, что у них был ненулевой общий объём финансирования.\n",
    "\n",
    "- Рассчитайте аналитически верхнюю и нижнюю границу выбросов для столбца `funding_total` и укажите, каким процентилям границы соответствуют."
   ]
  },
  {
   "cell_type": "code",
   "execution_count": 154,
   "id": "464f0505-fd5e-4f20-a8f7-ce30659423b6",
   "metadata": {},
   "outputs": [
    {
     "data": {
      "text/html": [
       "<div>\n",
       "<style scoped>\n",
       "    .dataframe tbody tr th:only-of-type {\n",
       "        vertical-align: middle;\n",
       "    }\n",
       "\n",
       "    .dataframe tbody tr th {\n",
       "        vertical-align: top;\n",
       "    }\n",
       "\n",
       "    .dataframe thead th {\n",
       "        text-align: right;\n",
       "    }\n",
       "</style>\n",
       "<table border=\"1\" class=\"dataframe\">\n",
       "  <thead>\n",
       "    <tr style=\"text-align: right;\">\n",
       "      <th></th>\n",
       "      <th>first_company_id</th>\n",
       "      <th>name</th>\n",
       "      <th>category_code</th>\n",
       "      <th>status</th>\n",
       "      <th>founded_at</th>\n",
       "      <th>country_code</th>\n",
       "      <th>investment_rounds</th>\n",
       "      <th>funding_rounds</th>\n",
       "      <th>funding_total</th>\n",
       "      <th>id_acq</th>\n",
       "      <th>acquiring_company_id</th>\n",
       "      <th>acquired_company_id</th>\n",
       "      <th>term_code</th>\n",
       "      <th>price_amount</th>\n",
       "      <th>acquired_at</th>\n",
       "    </tr>\n",
       "  </thead>\n",
       "  <tbody>\n",
       "    <tr>\n",
       "      <th>8852</th>\n",
       "      <td>17829.0</td>\n",
       "      <td>Rivermine Software</td>\n",
       "      <td>software</td>\n",
       "      <td>acquired</td>\n",
       "      <td>1999-01-01</td>\n",
       "      <td>USA</td>\n",
       "      <td>0.0</td>\n",
       "      <td>3.0</td>\n",
       "      <td>23700000.0</td>\n",
       "      <td>4932.0</td>\n",
       "      <td>25212.0</td>\n",
       "      <td>17829.0</td>\n",
       "      <td>NaN</td>\n",
       "      <td>0.0</td>\n",
       "      <td>2011-01-06</td>\n",
       "    </tr>\n",
       "    <tr>\n",
       "      <th>4068</th>\n",
       "      <td>152435.0</td>\n",
       "      <td>Kaptur</td>\n",
       "      <td>photo_video</td>\n",
       "      <td>acquired</td>\n",
       "      <td>NaT</td>\n",
       "      <td>USA</td>\n",
       "      <td>0.0</td>\n",
       "      <td>1.0</td>\n",
       "      <td>2000000.0</td>\n",
       "      <td>9681.0</td>\n",
       "      <td>58916.0</td>\n",
       "      <td>152435.0</td>\n",
       "      <td>NaN</td>\n",
       "      <td>0.0</td>\n",
       "      <td>2013-01-15</td>\n",
       "    </tr>\n",
       "    <tr>\n",
       "      <th>17422</th>\n",
       "      <td>25039.0</td>\n",
       "      <td>Biosystems International</td>\n",
       "      <td>biotech</td>\n",
       "      <td>acquired</td>\n",
       "      <td>2004-01-01</td>\n",
       "      <td>FRA</td>\n",
       "      <td>0.0</td>\n",
       "      <td>3.0</td>\n",
       "      <td>11187700.0</td>\n",
       "      <td>2291.0</td>\n",
       "      <td>32233.0</td>\n",
       "      <td>25039.0</td>\n",
       "      <td>NaN</td>\n",
       "      <td>0.0</td>\n",
       "      <td>2008-01-16</td>\n",
       "    </tr>\n",
       "    <tr>\n",
       "      <th>3553</th>\n",
       "      <td>1498.0</td>\n",
       "      <td>Motionbox</td>\n",
       "      <td>games_video</td>\n",
       "      <td>acquired</td>\n",
       "      <td>2006-01-01</td>\n",
       "      <td>USA</td>\n",
       "      <td>0.0</td>\n",
       "      <td>3.0</td>\n",
       "      <td>17200000.0</td>\n",
       "      <td>3540.0</td>\n",
       "      <td>354.0</td>\n",
       "      <td>1498.0</td>\n",
       "      <td>NaN</td>\n",
       "      <td>0.0</td>\n",
       "      <td>2010-07-12</td>\n",
       "    </tr>\n",
       "    <tr>\n",
       "      <th>18888</th>\n",
       "      <td>261146.0</td>\n",
       "      <td>Endurance Lending Network</td>\n",
       "      <td>finance</td>\n",
       "      <td>acquired</td>\n",
       "      <td>2011-12-01</td>\n",
       "      <td>USA</td>\n",
       "      <td>0.0</td>\n",
       "      <td>1.0</td>\n",
       "      <td>1500000.0</td>\n",
       "      <td>10166.0</td>\n",
       "      <td>43210.0</td>\n",
       "      <td>261146.0</td>\n",
       "      <td>stock</td>\n",
       "      <td>0.0</td>\n",
       "      <td>2013-10-25</td>\n",
       "    </tr>\n",
       "  </tbody>\n",
       "</table>\n",
       "</div>"
      ],
      "text/plain": [
       "       first_company_id                       name category_code    status  \\\n",
       "8852            17829.0         Rivermine Software      software  acquired   \n",
       "4068           152435.0                     Kaptur   photo_video  acquired   \n",
       "17422           25039.0   Biosystems International       biotech  acquired   \n",
       "3553             1498.0                  Motionbox   games_video  acquired   \n",
       "18888          261146.0  Endurance Lending Network       finance  acquired   \n",
       "\n",
       "      founded_at country_code  investment_rounds  funding_rounds  \\\n",
       "8852  1999-01-01          USA                0.0             3.0   \n",
       "4068         NaT          USA                0.0             1.0   \n",
       "17422 2004-01-01          FRA                0.0             3.0   \n",
       "3553  2006-01-01          USA                0.0             3.0   \n",
       "18888 2011-12-01          USA                0.0             1.0   \n",
       "\n",
       "       funding_total   id_acq  acquiring_company_id  acquired_company_id  \\\n",
       "8852      23700000.0   4932.0               25212.0              17829.0   \n",
       "4068       2000000.0   9681.0               58916.0             152435.0   \n",
       "17422     11187700.0   2291.0               32233.0              25039.0   \n",
       "3553      17200000.0   3540.0                 354.0               1498.0   \n",
       "18888      1500000.0  10166.0               43210.0             261146.0   \n",
       "\n",
       "      term_code  price_amount acquired_at  \n",
       "8852        NaN           0.0  2011-01-06  \n",
       "4068        NaN           0.0  2013-01-15  \n",
       "17422       NaN           0.0  2008-01-16  \n",
       "3553        NaN           0.0  2010-07-12  \n",
       "18888     stock           0.0  2013-10-25  "
      ]
     },
     "execution_count": 154,
     "metadata": {},
     "output_type": "execute_result"
    }
   ],
   "source": [
    "#Объединим данные о компаниях и покупках одними компаниями других компаний\n",
    "df_new = df.merge(acquisition_df, left_on = 'first_company_id', right_on = 'acquired_company_id', how = 'left')\n",
    "# Отфильтруем компании, которые были проданы за 0 или 1 доллар, но общий объем финансирования > 0.\n",
    "filtered_df_new = df_new[((df_new['price_amount']==0) | (df_new['price_amount']==1)) & (df_new['funding_total']>0)]\n",
    "filtered_df_new.sample(n=5)"
   ]
  },
  {
   "cell_type": "code",
   "execution_count": 156,
   "id": "ff7e9f37-9917-4c36-b753-4542e74f1436",
   "metadata": {},
   "outputs": [
    {
     "data": {
      "text/plain": [
       "' Всего таких компаний: 1618'"
      ]
     },
     "execution_count": 156,
     "metadata": {},
     "output_type": "execute_result"
    }
   ],
   "source": [
    "f' Всего таких компаний: {len(filtered_df_new)}'\n"
   ]
  },
  {
   "cell_type": "markdown",
   "id": "876c94fb-ae58-4209-b632-68f5fc1dff91",
   "metadata": {},
   "source": [
    "Рассчитаем верхнюю и нижнюю границу выбросов для столбца `funding_total`."
   ]
  },
  {
   "cell_type": "code",
   "execution_count": 158,
   "id": "870fe846-807f-4a31-9570-01378622db44",
   "metadata": {},
   "outputs": [
    {
     "data": {
      "text/plain": [
       "' нижняя граница выбросов: -8446980.0, верхняя граница выбросов: 14078300.0'"
      ]
     },
     "execution_count": 158,
     "metadata": {},
     "output_type": "execute_result"
    }
   ],
   "source": [
    "Q1 = df_new['funding_total'].quantile(0.25)\n",
    "Q3 = df_new['funding_total'].quantile(0.75)\n",
    "IQR = Q3-Q1\n",
    "upper_bound = Q3+1.5*IQR\n",
    "lower_bound = Q1-1.5*IQR\n",
    "f' нижняя граница выбросов: {lower_bound}, верхняя граница выбросов: {upper_bound}'\n"
   ]
  },
  {
   "cell_type": "markdown",
   "id": "744e11b8-ac8b-4c43-85d7-dc3e35995806",
   "metadata": {},
   "source": [
    "Так как распределение нестандартное, несимметричное, то значния границ получились не такие, как при стандартном распределении, нижняя граница финансирования не может быть отрицательной, поэтому округляем до 0. Компании с финансированием более 14.1 млн считаются выбросами."
   ]
  },
  {
   "cell_type": "markdown",
   "id": "e3407147-337b-4e6b-81de-ee0a9c8dbe77",
   "metadata": {},
   "source": [
    "\n",
    "\n",
    "### 3.4. Цены стартапов по категориям\n",
    "\n",
    "Категории стартапов с типично высокими ценами покупки стартапов и значительным разбросом цен могут быть привлекательными для крупных инвесторов, которые готовы к высоким рискам ради потенциально больших доходов. Среди категорий стартапов выделите категории стартапов, характеризующиеся:\n",
    "\n",
    "- типично высокими ценами;\n",
    "- и наибольшим разбросом цен за стартап.\n",
    "\n",
    "Объясните, почему решили составить топ именно из такого числа категорий и почему рассчитывали именно так."
   ]
  },
  {
   "cell_type": "code",
   "execution_count": 162,
   "id": "31258787-eea2-4809-a42c-463c8e34c341",
   "metadata": {},
   "outputs": [
    {
     "data": {
      "text/html": [
       "<div>\n",
       "<style scoped>\n",
       "    .dataframe tbody tr th:only-of-type {\n",
       "        vertical-align: middle;\n",
       "    }\n",
       "\n",
       "    .dataframe tbody tr th {\n",
       "        vertical-align: top;\n",
       "    }\n",
       "\n",
       "    .dataframe thead th {\n",
       "        text-align: right;\n",
       "    }\n",
       "</style>\n",
       "<table border=\"1\" class=\"dataframe\">\n",
       "  <thead>\n",
       "    <tr style=\"text-align: right;\">\n",
       "      <th></th>\n",
       "      <th>category_code</th>\n",
       "      <th>count_company</th>\n",
       "      <th>mean_price</th>\n",
       "      <th>median_price</th>\n",
       "      <th>std_price</th>\n",
       "    </tr>\n",
       "  </thead>\n",
       "  <tbody>\n",
       "    <tr>\n",
       "      <th>37</th>\n",
       "      <td>software</td>\n",
       "      <td>403</td>\n",
       "      <td>3.907541e+08</td>\n",
       "      <td>4.814000e+07</td>\n",
       "      <td>1.204059e+09</td>\n",
       "    </tr>\n",
       "    <tr>\n",
       "      <th>3</th>\n",
       "      <td>biotech</td>\n",
       "      <td>263</td>\n",
       "      <td>7.359153e+08</td>\n",
       "      <td>2.000000e+08</td>\n",
       "      <td>1.968195e+09</td>\n",
       "    </tr>\n",
       "    <tr>\n",
       "      <th>41</th>\n",
       "      <td>web</td>\n",
       "      <td>260</td>\n",
       "      <td>2.767767e+08</td>\n",
       "      <td>5.550000e+07</td>\n",
       "      <td>6.954405e+08</td>\n",
       "    </tr>\n",
       "    <tr>\n",
       "      <th>22</th>\n",
       "      <td>mobile</td>\n",
       "      <td>117</td>\n",
       "      <td>3.529187e+08</td>\n",
       "      <td>5.600000e+07</td>\n",
       "      <td>1.319472e+09</td>\n",
       "    </tr>\n",
       "    <tr>\n",
       "      <th>9</th>\n",
       "      <td>enterprise</td>\n",
       "      <td>116</td>\n",
       "      <td>2.295955e+10</td>\n",
       "      <td>5.475000e+07</td>\n",
       "      <td>2.413581e+11</td>\n",
       "    </tr>\n",
       "    <tr>\n",
       "      <th>12</th>\n",
       "      <td>games_video</td>\n",
       "      <td>88</td>\n",
       "      <td>4.459379e+08</td>\n",
       "      <td>5.825000e+07</td>\n",
       "      <td>1.463478e+09</td>\n",
       "    </tr>\n",
       "    <tr>\n",
       "      <th>28</th>\n",
       "      <td>other</td>\n",
       "      <td>84</td>\n",
       "      <td>5.287721e+08</td>\n",
       "      <td>7.155000e+07</td>\n",
       "      <td>2.060861e+09</td>\n",
       "    </tr>\n",
       "    <tr>\n",
       "      <th>0</th>\n",
       "      <td>advertising</td>\n",
       "      <td>84</td>\n",
       "      <td>2.596701e+08</td>\n",
       "      <td>6.000000e+07</td>\n",
       "      <td>4.954839e+08</td>\n",
       "    </tr>\n",
       "    <tr>\n",
       "      <th>14</th>\n",
       "      <td>hardware</td>\n",
       "      <td>78</td>\n",
       "      <td>2.799422e+08</td>\n",
       "      <td>7.600000e+07</td>\n",
       "      <td>6.450874e+08</td>\n",
       "    </tr>\n",
       "    <tr>\n",
       "      <th>31</th>\n",
       "      <td>public_relations</td>\n",
       "      <td>74</td>\n",
       "      <td>1.820631e+09</td>\n",
       "      <td>1.100000e+08</td>\n",
       "      <td>6.854338e+09</td>\n",
       "    </tr>\n",
       "    <tr>\n",
       "      <th>35</th>\n",
       "      <td>semiconductor</td>\n",
       "      <td>71</td>\n",
       "      <td>4.421154e+08</td>\n",
       "      <td>1.000000e+08</td>\n",
       "      <td>1.122025e+09</td>\n",
       "    </tr>\n",
       "    <tr>\n",
       "      <th>25</th>\n",
       "      <td>network_hosting</td>\n",
       "      <td>64</td>\n",
       "      <td>3.755397e+08</td>\n",
       "      <td>1.025000e+08</td>\n",
       "      <td>6.769568e+08</td>\n",
       "    </tr>\n",
       "    <tr>\n",
       "      <th>7</th>\n",
       "      <td>ecommerce</td>\n",
       "      <td>50</td>\n",
       "      <td>2.415162e+08</td>\n",
       "      <td>1.575000e+08</td>\n",
       "      <td>2.814255e+08</td>\n",
       "    </tr>\n",
       "    <tr>\n",
       "      <th>4</th>\n",
       "      <td>cleantech</td>\n",
       "      <td>39</td>\n",
       "      <td>4.823162e+08</td>\n",
       "      <td>1.850000e+08</td>\n",
       "      <td>8.744196e+08</td>\n",
       "    </tr>\n",
       "    <tr>\n",
       "      <th>34</th>\n",
       "      <td>security</td>\n",
       "      <td>36</td>\n",
       "      <td>6.028958e+08</td>\n",
       "      <td>1.645000e+08</td>\n",
       "      <td>1.378442e+09</td>\n",
       "    </tr>\n",
       "    <tr>\n",
       "      <th>5</th>\n",
       "      <td>consulting</td>\n",
       "      <td>32</td>\n",
       "      <td>2.936716e+08</td>\n",
       "      <td>3.215000e+07</td>\n",
       "      <td>1.018109e+09</td>\n",
       "    </tr>\n",
       "    <tr>\n",
       "      <th>19</th>\n",
       "      <td>manufacturing</td>\n",
       "      <td>21</td>\n",
       "      <td>8.137572e+08</td>\n",
       "      <td>3.510000e+08</td>\n",
       "      <td>1.060435e+09</td>\n",
       "    </tr>\n",
       "    <tr>\n",
       "      <th>11</th>\n",
       "      <td>finance</td>\n",
       "      <td>20</td>\n",
       "      <td>6.043975e+08</td>\n",
       "      <td>1.715000e+08</td>\n",
       "      <td>1.052920e+09</td>\n",
       "    </tr>\n",
       "    <tr>\n",
       "      <th>33</th>\n",
       "      <td>search</td>\n",
       "      <td>19</td>\n",
       "      <td>2.011684e+08</td>\n",
       "      <td>9.000000e+07</td>\n",
       "      <td>3.395802e+08</td>\n",
       "    </tr>\n",
       "    <tr>\n",
       "      <th>15</th>\n",
       "      <td>health</td>\n",
       "      <td>10</td>\n",
       "      <td>1.065050e+09</td>\n",
       "      <td>1.400000e+08</td>\n",
       "      <td>1.927100e+09</td>\n",
       "    </tr>\n",
       "    <tr>\n",
       "      <th>26</th>\n",
       "      <td>news</td>\n",
       "      <td>9</td>\n",
       "      <td>9.088889e+07</td>\n",
       "      <td>4.000000e+07</td>\n",
       "      <td>1.008553e+08</td>\n",
       "    </tr>\n",
       "    <tr>\n",
       "      <th>16</th>\n",
       "      <td>hospitality</td>\n",
       "      <td>7</td>\n",
       "      <td>4.403429e+08</td>\n",
       "      <td>5.750000e+07</td>\n",
       "      <td>7.906006e+08</td>\n",
       "    </tr>\n",
       "    <tr>\n",
       "      <th>32</th>\n",
       "      <td>real_estate</td>\n",
       "      <td>6</td>\n",
       "      <td>1.465500e+09</td>\n",
       "      <td>4.000000e+08</td>\n",
       "      <td>2.676302e+09</td>\n",
       "    </tr>\n",
       "    <tr>\n",
       "      <th>8</th>\n",
       "      <td>education</td>\n",
       "      <td>6</td>\n",
       "      <td>1.333150e+08</td>\n",
       "      <td>1.625000e+07</td>\n",
       "      <td>2.883294e+08</td>\n",
       "    </tr>\n",
       "    <tr>\n",
       "      <th>21</th>\n",
       "      <td>messaging</td>\n",
       "      <td>5</td>\n",
       "      <td>7.760000e+07</td>\n",
       "      <td>1.000000e+08</td>\n",
       "      <td>6.907460e+07</td>\n",
       "    </tr>\n",
       "    <tr>\n",
       "      <th>30</th>\n",
       "      <td>photo_video</td>\n",
       "      <td>5</td>\n",
       "      <td>2.393940e+08</td>\n",
       "      <td>5.000000e+07</td>\n",
       "      <td>4.311422e+08</td>\n",
       "    </tr>\n",
       "    <tr>\n",
       "      <th>40</th>\n",
       "      <td>travel</td>\n",
       "      <td>4</td>\n",
       "      <td>8.125000e+07</td>\n",
       "      <td>6.250000e+07</td>\n",
       "      <td>9.526586e+07</td>\n",
       "    </tr>\n",
       "    <tr>\n",
       "      <th>20</th>\n",
       "      <td>medical</td>\n",
       "      <td>4</td>\n",
       "      <td>1.691250e+08</td>\n",
       "      <td>1.650000e+08</td>\n",
       "      <td>1.659058e+08</td>\n",
       "    </tr>\n",
       "    <tr>\n",
       "      <th>36</th>\n",
       "      <td>social</td>\n",
       "      <td>4</td>\n",
       "      <td>6.312500e+07</td>\n",
       "      <td>4.575000e+07</td>\n",
       "      <td>6.295286e+07</td>\n",
       "    </tr>\n",
       "    <tr>\n",
       "      <th>10</th>\n",
       "      <td>fashion</td>\n",
       "      <td>3</td>\n",
       "      <td>1.875000e+08</td>\n",
       "      <td>1.950000e+08</td>\n",
       "      <td>8.649422e+07</td>\n",
       "    </tr>\n",
       "    <tr>\n",
       "      <th>1</th>\n",
       "      <td>analytics</td>\n",
       "      <td>3</td>\n",
       "      <td>1.810000e+08</td>\n",
       "      <td>2.000000e+08</td>\n",
       "      <td>9.296774e+07</td>\n",
       "    </tr>\n",
       "    <tr>\n",
       "      <th>39</th>\n",
       "      <td>transportation</td>\n",
       "      <td>3</td>\n",
       "      <td>4.500000e+08</td>\n",
       "      <td>2.300000e+08</td>\n",
       "      <td>5.726255e+08</td>\n",
       "    </tr>\n",
       "    <tr>\n",
       "      <th>2</th>\n",
       "      <td>automotive</td>\n",
       "      <td>3</td>\n",
       "      <td>2.547667e+09</td>\n",
       "      <td>2.400000e+09</td>\n",
       "      <td>2.581669e+09</td>\n",
       "    </tr>\n",
       "    <tr>\n",
       "      <th>23</th>\n",
       "      <td>music</td>\n",
       "      <td>3</td>\n",
       "      <td>9.528667e+07</td>\n",
       "      <td>4.860000e+06</td>\n",
       "      <td>1.599781e+08</td>\n",
       "    </tr>\n",
       "    <tr>\n",
       "      <th>38</th>\n",
       "      <td>sports</td>\n",
       "      <td>2</td>\n",
       "      <td>6.225000e+08</td>\n",
       "      <td>6.225000e+08</td>\n",
       "      <td>5.126524e+08</td>\n",
       "    </tr>\n",
       "    <tr>\n",
       "      <th>24</th>\n",
       "      <td>nanotech</td>\n",
       "      <td>1</td>\n",
       "      <td>5.840000e+08</td>\n",
       "      <td>5.840000e+08</td>\n",
       "      <td>NaN</td>\n",
       "    </tr>\n",
       "    <tr>\n",
       "      <th>18</th>\n",
       "      <td>local</td>\n",
       "      <td>1</td>\n",
       "      <td>1.614020e+07</td>\n",
       "      <td>1.614020e+07</td>\n",
       "      <td>NaN</td>\n",
       "    </tr>\n",
       "    <tr>\n",
       "      <th>6</th>\n",
       "      <td>design</td>\n",
       "      <td>0</td>\n",
       "      <td>NaN</td>\n",
       "      <td>NaN</td>\n",
       "      <td>NaN</td>\n",
       "    </tr>\n",
       "    <tr>\n",
       "      <th>17</th>\n",
       "      <td>legal</td>\n",
       "      <td>0</td>\n",
       "      <td>NaN</td>\n",
       "      <td>NaN</td>\n",
       "      <td>NaN</td>\n",
       "    </tr>\n",
       "    <tr>\n",
       "      <th>29</th>\n",
       "      <td>pets</td>\n",
       "      <td>0</td>\n",
       "      <td>NaN</td>\n",
       "      <td>NaN</td>\n",
       "      <td>NaN</td>\n",
       "    </tr>\n",
       "    <tr>\n",
       "      <th>27</th>\n",
       "      <td>nonprofit</td>\n",
       "      <td>0</td>\n",
       "      <td>NaN</td>\n",
       "      <td>NaN</td>\n",
       "      <td>NaN</td>\n",
       "    </tr>\n",
       "    <tr>\n",
       "      <th>13</th>\n",
       "      <td>government</td>\n",
       "      <td>0</td>\n",
       "      <td>NaN</td>\n",
       "      <td>NaN</td>\n",
       "      <td>NaN</td>\n",
       "    </tr>\n",
       "  </tbody>\n",
       "</table>\n",
       "</div>"
      ],
      "text/plain": [
       "       category_code  count_company    mean_price  median_price     std_price\n",
       "37          software            403  3.907541e+08  4.814000e+07  1.204059e+09\n",
       "3            biotech            263  7.359153e+08  2.000000e+08  1.968195e+09\n",
       "41               web            260  2.767767e+08  5.550000e+07  6.954405e+08\n",
       "22            mobile            117  3.529187e+08  5.600000e+07  1.319472e+09\n",
       "9         enterprise            116  2.295955e+10  5.475000e+07  2.413581e+11\n",
       "12       games_video             88  4.459379e+08  5.825000e+07  1.463478e+09\n",
       "28             other             84  5.287721e+08  7.155000e+07  2.060861e+09\n",
       "0        advertising             84  2.596701e+08  6.000000e+07  4.954839e+08\n",
       "14          hardware             78  2.799422e+08  7.600000e+07  6.450874e+08\n",
       "31  public_relations             74  1.820631e+09  1.100000e+08  6.854338e+09\n",
       "35     semiconductor             71  4.421154e+08  1.000000e+08  1.122025e+09\n",
       "25   network_hosting             64  3.755397e+08  1.025000e+08  6.769568e+08\n",
       "7          ecommerce             50  2.415162e+08  1.575000e+08  2.814255e+08\n",
       "4          cleantech             39  4.823162e+08  1.850000e+08  8.744196e+08\n",
       "34          security             36  6.028958e+08  1.645000e+08  1.378442e+09\n",
       "5         consulting             32  2.936716e+08  3.215000e+07  1.018109e+09\n",
       "19     manufacturing             21  8.137572e+08  3.510000e+08  1.060435e+09\n",
       "11           finance             20  6.043975e+08  1.715000e+08  1.052920e+09\n",
       "33            search             19  2.011684e+08  9.000000e+07  3.395802e+08\n",
       "15            health             10  1.065050e+09  1.400000e+08  1.927100e+09\n",
       "26              news              9  9.088889e+07  4.000000e+07  1.008553e+08\n",
       "16       hospitality              7  4.403429e+08  5.750000e+07  7.906006e+08\n",
       "32       real_estate              6  1.465500e+09  4.000000e+08  2.676302e+09\n",
       "8          education              6  1.333150e+08  1.625000e+07  2.883294e+08\n",
       "21         messaging              5  7.760000e+07  1.000000e+08  6.907460e+07\n",
       "30       photo_video              5  2.393940e+08  5.000000e+07  4.311422e+08\n",
       "40            travel              4  8.125000e+07  6.250000e+07  9.526586e+07\n",
       "20           medical              4  1.691250e+08  1.650000e+08  1.659058e+08\n",
       "36            social              4  6.312500e+07  4.575000e+07  6.295286e+07\n",
       "10           fashion              3  1.875000e+08  1.950000e+08  8.649422e+07\n",
       "1          analytics              3  1.810000e+08  2.000000e+08  9.296774e+07\n",
       "39    transportation              3  4.500000e+08  2.300000e+08  5.726255e+08\n",
       "2         automotive              3  2.547667e+09  2.400000e+09  2.581669e+09\n",
       "23             music              3  9.528667e+07  4.860000e+06  1.599781e+08\n",
       "38            sports              2  6.225000e+08  6.225000e+08  5.126524e+08\n",
       "24          nanotech              1  5.840000e+08  5.840000e+08           NaN\n",
       "18             local              1  1.614020e+07  1.614020e+07           NaN\n",
       "6             design              0           NaN           NaN           NaN\n",
       "17             legal              0           NaN           NaN           NaN\n",
       "29              pets              0           NaN           NaN           NaN\n",
       "27         nonprofit              0           NaN           NaN           NaN\n",
       "13        government              0           NaN           NaN           NaN"
      ]
     },
     "metadata": {},
     "output_type": "display_data"
    }
   ],
   "source": [
    "#Отфильтруем по сумме сделки > 0\n",
    "filtrered_price_amount = df_new[df_new['price_amount']>0]\n",
    "category_stat = filtrered_price_amount.groupby('category_code')['price_amount'].agg(count_company = 'count', mean_price = 'mean', median_price = 'median', std_price = 'std').reset_index()\n",
    "category_stat = category_stat.sort_values(by = 'count_company', ascending = False)\n",
    "display(category_stat)"
   ]
  },
  {
   "cell_type": "markdown",
   "id": "8de3c7ad-0dac-484c-bead-2f781e576183",
   "metadata": {},
   "source": [
    "Отфильтруем по количеству компаний > 10, иначе средние значения ненадежны."
   ]
  },
  {
   "cell_type": "code",
   "execution_count": 164,
   "id": "cd7fac1b-6b2e-44be-b37b-5ba3f1240557",
   "metadata": {},
   "outputs": [
    {
     "data": {
      "text/html": [
       "<div>\n",
       "<style scoped>\n",
       "    .dataframe tbody tr th:only-of-type {\n",
       "        vertical-align: middle;\n",
       "    }\n",
       "\n",
       "    .dataframe tbody tr th {\n",
       "        vertical-align: top;\n",
       "    }\n",
       "\n",
       "    .dataframe thead th {\n",
       "        text-align: right;\n",
       "    }\n",
       "</style>\n",
       "<table border=\"1\" class=\"dataframe\">\n",
       "  <thead>\n",
       "    <tr style=\"text-align: right;\">\n",
       "      <th></th>\n",
       "      <th>category_code</th>\n",
       "      <th>count_company</th>\n",
       "      <th>mean_price</th>\n",
       "      <th>median_price</th>\n",
       "      <th>std_price</th>\n",
       "    </tr>\n",
       "  </thead>\n",
       "  <tbody>\n",
       "    <tr>\n",
       "      <th>37</th>\n",
       "      <td>software</td>\n",
       "      <td>403</td>\n",
       "      <td>3.907541e+08</td>\n",
       "      <td>48140000.0</td>\n",
       "      <td>1.204059e+09</td>\n",
       "    </tr>\n",
       "    <tr>\n",
       "      <th>3</th>\n",
       "      <td>biotech</td>\n",
       "      <td>263</td>\n",
       "      <td>7.359153e+08</td>\n",
       "      <td>200000000.0</td>\n",
       "      <td>1.968195e+09</td>\n",
       "    </tr>\n",
       "    <tr>\n",
       "      <th>41</th>\n",
       "      <td>web</td>\n",
       "      <td>260</td>\n",
       "      <td>2.767767e+08</td>\n",
       "      <td>55500000.0</td>\n",
       "      <td>6.954405e+08</td>\n",
       "    </tr>\n",
       "    <tr>\n",
       "      <th>22</th>\n",
       "      <td>mobile</td>\n",
       "      <td>117</td>\n",
       "      <td>3.529187e+08</td>\n",
       "      <td>56000000.0</td>\n",
       "      <td>1.319472e+09</td>\n",
       "    </tr>\n",
       "    <tr>\n",
       "      <th>9</th>\n",
       "      <td>enterprise</td>\n",
       "      <td>116</td>\n",
       "      <td>2.295955e+10</td>\n",
       "      <td>54750000.0</td>\n",
       "      <td>2.413581e+11</td>\n",
       "    </tr>\n",
       "    <tr>\n",
       "      <th>12</th>\n",
       "      <td>games_video</td>\n",
       "      <td>88</td>\n",
       "      <td>4.459379e+08</td>\n",
       "      <td>58250000.0</td>\n",
       "      <td>1.463478e+09</td>\n",
       "    </tr>\n",
       "    <tr>\n",
       "      <th>28</th>\n",
       "      <td>other</td>\n",
       "      <td>84</td>\n",
       "      <td>5.287721e+08</td>\n",
       "      <td>71550000.0</td>\n",
       "      <td>2.060861e+09</td>\n",
       "    </tr>\n",
       "    <tr>\n",
       "      <th>0</th>\n",
       "      <td>advertising</td>\n",
       "      <td>84</td>\n",
       "      <td>2.596701e+08</td>\n",
       "      <td>60000000.0</td>\n",
       "      <td>4.954839e+08</td>\n",
       "    </tr>\n",
       "    <tr>\n",
       "      <th>14</th>\n",
       "      <td>hardware</td>\n",
       "      <td>78</td>\n",
       "      <td>2.799422e+08</td>\n",
       "      <td>76000000.0</td>\n",
       "      <td>6.450874e+08</td>\n",
       "    </tr>\n",
       "    <tr>\n",
       "      <th>31</th>\n",
       "      <td>public_relations</td>\n",
       "      <td>74</td>\n",
       "      <td>1.820631e+09</td>\n",
       "      <td>110000000.0</td>\n",
       "      <td>6.854338e+09</td>\n",
       "    </tr>\n",
       "    <tr>\n",
       "      <th>35</th>\n",
       "      <td>semiconductor</td>\n",
       "      <td>71</td>\n",
       "      <td>4.421154e+08</td>\n",
       "      <td>100000000.0</td>\n",
       "      <td>1.122025e+09</td>\n",
       "    </tr>\n",
       "    <tr>\n",
       "      <th>25</th>\n",
       "      <td>network_hosting</td>\n",
       "      <td>64</td>\n",
       "      <td>3.755397e+08</td>\n",
       "      <td>102500000.0</td>\n",
       "      <td>6.769568e+08</td>\n",
       "    </tr>\n",
       "    <tr>\n",
       "      <th>7</th>\n",
       "      <td>ecommerce</td>\n",
       "      <td>50</td>\n",
       "      <td>2.415162e+08</td>\n",
       "      <td>157500000.0</td>\n",
       "      <td>2.814255e+08</td>\n",
       "    </tr>\n",
       "    <tr>\n",
       "      <th>4</th>\n",
       "      <td>cleantech</td>\n",
       "      <td>39</td>\n",
       "      <td>4.823162e+08</td>\n",
       "      <td>185000000.0</td>\n",
       "      <td>8.744196e+08</td>\n",
       "    </tr>\n",
       "    <tr>\n",
       "      <th>34</th>\n",
       "      <td>security</td>\n",
       "      <td>36</td>\n",
       "      <td>6.028958e+08</td>\n",
       "      <td>164500000.0</td>\n",
       "      <td>1.378442e+09</td>\n",
       "    </tr>\n",
       "    <tr>\n",
       "      <th>5</th>\n",
       "      <td>consulting</td>\n",
       "      <td>32</td>\n",
       "      <td>2.936716e+08</td>\n",
       "      <td>32150000.0</td>\n",
       "      <td>1.018109e+09</td>\n",
       "    </tr>\n",
       "    <tr>\n",
       "      <th>19</th>\n",
       "      <td>manufacturing</td>\n",
       "      <td>21</td>\n",
       "      <td>8.137572e+08</td>\n",
       "      <td>351000000.0</td>\n",
       "      <td>1.060435e+09</td>\n",
       "    </tr>\n",
       "    <tr>\n",
       "      <th>11</th>\n",
       "      <td>finance</td>\n",
       "      <td>20</td>\n",
       "      <td>6.043975e+08</td>\n",
       "      <td>171500000.0</td>\n",
       "      <td>1.052920e+09</td>\n",
       "    </tr>\n",
       "    <tr>\n",
       "      <th>33</th>\n",
       "      <td>search</td>\n",
       "      <td>19</td>\n",
       "      <td>2.011684e+08</td>\n",
       "      <td>90000000.0</td>\n",
       "      <td>3.395802e+08</td>\n",
       "    </tr>\n",
       "    <tr>\n",
       "      <th>15</th>\n",
       "      <td>health</td>\n",
       "      <td>10</td>\n",
       "      <td>1.065050e+09</td>\n",
       "      <td>140000000.0</td>\n",
       "      <td>1.927100e+09</td>\n",
       "    </tr>\n",
       "  </tbody>\n",
       "</table>\n",
       "</div>"
      ],
      "text/plain": [
       "       category_code  count_company    mean_price  median_price     std_price\n",
       "37          software            403  3.907541e+08    48140000.0  1.204059e+09\n",
       "3            biotech            263  7.359153e+08   200000000.0  1.968195e+09\n",
       "41               web            260  2.767767e+08    55500000.0  6.954405e+08\n",
       "22            mobile            117  3.529187e+08    56000000.0  1.319472e+09\n",
       "9         enterprise            116  2.295955e+10    54750000.0  2.413581e+11\n",
       "12       games_video             88  4.459379e+08    58250000.0  1.463478e+09\n",
       "28             other             84  5.287721e+08    71550000.0  2.060861e+09\n",
       "0        advertising             84  2.596701e+08    60000000.0  4.954839e+08\n",
       "14          hardware             78  2.799422e+08    76000000.0  6.450874e+08\n",
       "31  public_relations             74  1.820631e+09   110000000.0  6.854338e+09\n",
       "35     semiconductor             71  4.421154e+08   100000000.0  1.122025e+09\n",
       "25   network_hosting             64  3.755397e+08   102500000.0  6.769568e+08\n",
       "7          ecommerce             50  2.415162e+08   157500000.0  2.814255e+08\n",
       "4          cleantech             39  4.823162e+08   185000000.0  8.744196e+08\n",
       "34          security             36  6.028958e+08   164500000.0  1.378442e+09\n",
       "5         consulting             32  2.936716e+08    32150000.0  1.018109e+09\n",
       "19     manufacturing             21  8.137572e+08   351000000.0  1.060435e+09\n",
       "11           finance             20  6.043975e+08   171500000.0  1.052920e+09\n",
       "33            search             19  2.011684e+08    90000000.0  3.395802e+08\n",
       "15            health             10  1.065050e+09   140000000.0  1.927100e+09"
      ]
     },
     "metadata": {},
     "output_type": "display_data"
    }
   ],
   "source": [
    "category_stat = category_stat[category_stat['count_company'] >= 10] \n",
    "display(category_stat)"
   ]
  },
  {
   "cell_type": "code",
   "execution_count": 165,
   "id": "c5b4b7a9-fbd0-4fcf-9d52-d68e1ea532ef",
   "metadata": {},
   "outputs": [
    {
     "data": {
      "text/html": [
       "<div>\n",
       "<style scoped>\n",
       "    .dataframe tbody tr th:only-of-type {\n",
       "        vertical-align: middle;\n",
       "    }\n",
       "\n",
       "    .dataframe tbody tr th {\n",
       "        vertical-align: top;\n",
       "    }\n",
       "\n",
       "    .dataframe thead th {\n",
       "        text-align: right;\n",
       "    }\n",
       "</style>\n",
       "<table border=\"1\" class=\"dataframe\">\n",
       "  <thead>\n",
       "    <tr style=\"text-align: right;\">\n",
       "      <th></th>\n",
       "      <th>category_code</th>\n",
       "      <th>count_company</th>\n",
       "      <th>mean_price</th>\n",
       "      <th>median_price</th>\n",
       "      <th>std_price</th>\n",
       "    </tr>\n",
       "  </thead>\n",
       "  <tbody>\n",
       "    <tr>\n",
       "      <th>19</th>\n",
       "      <td>manufacturing</td>\n",
       "      <td>21</td>\n",
       "      <td>8.137572e+08</td>\n",
       "      <td>351000000.0</td>\n",
       "      <td>1.060435e+09</td>\n",
       "    </tr>\n",
       "    <tr>\n",
       "      <th>3</th>\n",
       "      <td>biotech</td>\n",
       "      <td>263</td>\n",
       "      <td>7.359153e+08</td>\n",
       "      <td>200000000.0</td>\n",
       "      <td>1.968195e+09</td>\n",
       "    </tr>\n",
       "    <tr>\n",
       "      <th>4</th>\n",
       "      <td>cleantech</td>\n",
       "      <td>39</td>\n",
       "      <td>4.823162e+08</td>\n",
       "      <td>185000000.0</td>\n",
       "      <td>8.744196e+08</td>\n",
       "    </tr>\n",
       "    <tr>\n",
       "      <th>11</th>\n",
       "      <td>finance</td>\n",
       "      <td>20</td>\n",
       "      <td>6.043975e+08</td>\n",
       "      <td>171500000.0</td>\n",
       "      <td>1.052920e+09</td>\n",
       "    </tr>\n",
       "    <tr>\n",
       "      <th>34</th>\n",
       "      <td>security</td>\n",
       "      <td>36</td>\n",
       "      <td>6.028958e+08</td>\n",
       "      <td>164500000.0</td>\n",
       "      <td>1.378442e+09</td>\n",
       "    </tr>\n",
       "  </tbody>\n",
       "</table>\n",
       "</div>"
      ],
      "text/plain": [
       "    category_code  count_company    mean_price  median_price     std_price\n",
       "19  manufacturing             21  8.137572e+08   351000000.0  1.060435e+09\n",
       "3         biotech            263  7.359153e+08   200000000.0  1.968195e+09\n",
       "4       cleantech             39  4.823162e+08   185000000.0  8.744196e+08\n",
       "11        finance             20  6.043975e+08   171500000.0  1.052920e+09\n",
       "34       security             36  6.028958e+08   164500000.0  1.378442e+09"
      ]
     },
     "execution_count": 165,
     "metadata": {},
     "output_type": "execute_result"
    }
   ],
   "source": [
    "#Категории старапов по типично высоким ценам\n",
    "category_stat_high_price = category_stat.sort_values(by = 'median_price', ascending = False)\n",
    "category_stat_high_price.head(5)\n"
   ]
  },
  {
   "cell_type": "markdown",
   "id": "6fed631b-868e-4f99-aee8-6652e4ad5da0",
   "metadata": {},
   "source": [
    "Виды категорий с типично высокими ценами покупки стартапов: manufacturing, biotech, cleantech, finance, security."
   ]
  },
  {
   "cell_type": "code",
   "execution_count": 167,
   "id": "a2bbc796-1093-4bd6-a9dc-d8f1049ed503",
   "metadata": {},
   "outputs": [
    {
     "data": {
      "text/html": [
       "<div>\n",
       "<style scoped>\n",
       "    .dataframe tbody tr th:only-of-type {\n",
       "        vertical-align: middle;\n",
       "    }\n",
       "\n",
       "    .dataframe tbody tr th {\n",
       "        vertical-align: top;\n",
       "    }\n",
       "\n",
       "    .dataframe thead th {\n",
       "        text-align: right;\n",
       "    }\n",
       "</style>\n",
       "<table border=\"1\" class=\"dataframe\">\n",
       "  <thead>\n",
       "    <tr style=\"text-align: right;\">\n",
       "      <th></th>\n",
       "      <th>category_code</th>\n",
       "      <th>count_company</th>\n",
       "      <th>mean_price</th>\n",
       "      <th>median_price</th>\n",
       "      <th>std_price</th>\n",
       "      <th>cv</th>\n",
       "    </tr>\n",
       "  </thead>\n",
       "  <tbody>\n",
       "    <tr>\n",
       "      <th>9</th>\n",
       "      <td>enterprise</td>\n",
       "      <td>116</td>\n",
       "      <td>2.295955e+10</td>\n",
       "      <td>54750000.0</td>\n",
       "      <td>2.413581e+11</td>\n",
       "      <td>10.512320</td>\n",
       "    </tr>\n",
       "    <tr>\n",
       "      <th>28</th>\n",
       "      <td>other</td>\n",
       "      <td>84</td>\n",
       "      <td>5.287721e+08</td>\n",
       "      <td>71550000.0</td>\n",
       "      <td>2.060861e+09</td>\n",
       "      <td>3.897446</td>\n",
       "    </tr>\n",
       "    <tr>\n",
       "      <th>31</th>\n",
       "      <td>public_relations</td>\n",
       "      <td>74</td>\n",
       "      <td>1.820631e+09</td>\n",
       "      <td>110000000.0</td>\n",
       "      <td>6.854338e+09</td>\n",
       "      <td>3.764815</td>\n",
       "    </tr>\n",
       "    <tr>\n",
       "      <th>22</th>\n",
       "      <td>mobile</td>\n",
       "      <td>117</td>\n",
       "      <td>3.529187e+08</td>\n",
       "      <td>56000000.0</td>\n",
       "      <td>1.319472e+09</td>\n",
       "      <td>3.738741</td>\n",
       "    </tr>\n",
       "    <tr>\n",
       "      <th>5</th>\n",
       "      <td>consulting</td>\n",
       "      <td>32</td>\n",
       "      <td>2.936716e+08</td>\n",
       "      <td>32150000.0</td>\n",
       "      <td>1.018109e+09</td>\n",
       "      <td>3.466829</td>\n",
       "    </tr>\n",
       "  </tbody>\n",
       "</table>\n",
       "</div>"
      ],
      "text/plain": [
       "       category_code  count_company    mean_price  median_price     std_price  \\\n",
       "9         enterprise            116  2.295955e+10    54750000.0  2.413581e+11   \n",
       "28             other             84  5.287721e+08    71550000.0  2.060861e+09   \n",
       "31  public_relations             74  1.820631e+09   110000000.0  6.854338e+09   \n",
       "22            mobile            117  3.529187e+08    56000000.0  1.319472e+09   \n",
       "5         consulting             32  2.936716e+08    32150000.0  1.018109e+09   \n",
       "\n",
       "           cv  \n",
       "9   10.512320  \n",
       "28   3.897446  \n",
       "31   3.764815  \n",
       "22   3.738741  \n",
       "5    3.466829  "
      ]
     },
     "execution_count": 167,
     "metadata": {},
     "output_type": "execute_result"
    }
   ],
   "source": [
    "#Категории старапов  с наибольшим разбросом цен на стартап\n",
    "category_stat['cv'] = category_stat['std_price'] / category_stat['mean_price']\n",
    "cv_price = category_stat.sort_values(by = 'cv', ascending=False)\n",
    "cv_price.head(5)"
   ]
  },
  {
   "cell_type": "markdown",
   "id": "7add44b6-0f64-4fcc-aa31-b3a30d5a2a07",
   "metadata": {},
   "source": [
    "Виды категорий с наибольшим разбросом цен за старап: enterprise, other, public_relations. mobile, consulting."
   ]
  },
  {
   "cell_type": "markdown",
   "id": "9da0d5e4-181d-4e56-8ce2-02523d54211f",
   "metadata": {},
   "source": [
    "### 3.5. Сколько раундов продержится стартап перед покупкой\n",
    "\n",
    "- Необходимо проанализировать столбец `funding_rounds`. Исследуйте значения столбца. Заказчика интересует типичное значение количества раундов для каждого возможного статуса стартапа.\n",
    "- Постройте график, который отображает, сколько в среднем раундов финансирования проходило для стартапов из каждой группы. Сделайте выводы."
   ]
  },
  {
   "cell_type": "code",
   "execution_count": 171,
   "id": "dd6fa708-892d-4a76-bea3-fb619ef4c034",
   "metadata": {},
   "outputs": [
    {
     "data": {
      "text/html": [
       "<div>\n",
       "<style scoped>\n",
       "    .dataframe tbody tr th:only-of-type {\n",
       "        vertical-align: middle;\n",
       "    }\n",
       "\n",
       "    .dataframe tbody tr th {\n",
       "        vertical-align: top;\n",
       "    }\n",
       "\n",
       "    .dataframe thead th {\n",
       "        text-align: right;\n",
       "    }\n",
       "</style>\n",
       "<table border=\"1\" class=\"dataframe\">\n",
       "  <thead>\n",
       "    <tr style=\"text-align: right;\">\n",
       "      <th></th>\n",
       "      <th>count_company</th>\n",
       "      <th>median_rounds</th>\n",
       "      <th>mean_rounds</th>\n",
       "      <th>std_rounds</th>\n",
       "      <th>Q25</th>\n",
       "      <th>Q75</th>\n",
       "    </tr>\n",
       "    <tr>\n",
       "      <th>status</th>\n",
       "      <th></th>\n",
       "      <th></th>\n",
       "      <th></th>\n",
       "      <th></th>\n",
       "      <th></th>\n",
       "      <th></th>\n",
       "    </tr>\n",
       "  </thead>\n",
       "  <tbody>\n",
       "    <tr>\n",
       "      <th>ipo</th>\n",
       "      <td>490</td>\n",
       "      <td>2.0</td>\n",
       "      <td>2.526531</td>\n",
       "      <td>2.219156</td>\n",
       "      <td>1.0</td>\n",
       "      <td>3.0</td>\n",
       "    </tr>\n",
       "    <tr>\n",
       "      <th>acquired</th>\n",
       "      <td>2641</td>\n",
       "      <td>1.0</td>\n",
       "      <td>1.897766</td>\n",
       "      <td>1.279263</td>\n",
       "      <td>1.0</td>\n",
       "      <td>2.0</td>\n",
       "    </tr>\n",
       "    <tr>\n",
       "      <th>closed</th>\n",
       "      <td>2089</td>\n",
       "      <td>1.0</td>\n",
       "      <td>1.383437</td>\n",
       "      <td>0.834444</td>\n",
       "      <td>1.0</td>\n",
       "      <td>2.0</td>\n",
       "    </tr>\n",
       "    <tr>\n",
       "      <th>operating</th>\n",
       "      <td>26535</td>\n",
       "      <td>1.0</td>\n",
       "      <td>1.642359</td>\n",
       "      <td>1.180895</td>\n",
       "      <td>1.0</td>\n",
       "      <td>2.0</td>\n",
       "    </tr>\n",
       "  </tbody>\n",
       "</table>\n",
       "</div>"
      ],
      "text/plain": [
       "           count_company  median_rounds  mean_rounds  std_rounds  Q25  Q75\n",
       "status                                                                    \n",
       "ipo                  490            2.0     2.526531    2.219156  1.0  3.0\n",
       "acquired            2641            1.0     1.897766    1.279263  1.0  2.0\n",
       "closed              2089            1.0     1.383437    0.834444  1.0  2.0\n",
       "operating          26535            1.0     1.642359    1.180895  1.0  2.0"
      ]
     },
     "execution_count": 171,
     "metadata": {},
     "output_type": "execute_result"
    }
   ],
   "source": [
    "df_clean = df_new[(df_new['funding_rounds'].notna()) & (df_new['funding_rounds'] != 0)].copy()\n",
    "status_stat = df_clean.groupby('status')['funding_rounds'].agg(count_company = 'count', median_rounds = 'median', mean_rounds = 'mean', std_rounds = 'std', Q25=lambda x: x.quantile(0.25), Q75=lambda x: x.quantile(0.75))\n",
    "status_stat.sort_values(by = 'median_rounds', ascending=False)"
   ]
  },
  {
   "cell_type": "markdown",
   "id": "bdaacc44-12c3-4f9a-9ebc-3359ec70c80c",
   "metadata": {},
   "source": [
    "Для статуса asquired медиана равна 1 раунду, типичный диапозон 1-2 раунда, статус ipo медиана равна 2 раундам, диапозон 1-3 раунда, operating медиана равна 1 раунду, диапазон от 1-2 раундов, статус closed медиана 1 раунду, диапазон 1-2 раунда."
   ]
  },
  {
   "cell_type": "code",
   "execution_count": 173,
   "id": "080d521f-bacd-4d0f-b6c5-c5e0972d3575",
   "metadata": {},
   "outputs": [
    {
     "data": {
      "image/png": "[encoded data removed]",
      "text/plain": [
       "<Figure size 1200x600 with 1 Axes>"
      ]
     },
     "metadata": {},
     "output_type": "display_data"
    }
   ],
   "source": [
    "status_order = (df_clean.groupby('status')['funding_rounds'].median().sort_values(ascending=False).index)\n",
    "plt.figure(figsize=(12, 6))\n",
    "sns.boxplot(data=df_clean, x='status', y='funding_rounds', order=status_order, showfliers=False)\n",
    "plt.title('Распределение количества раундов финансирования по статусам')\n",
    "plt.xlabel('Статус')\n",
    "plt.ylabel('Количество раундов')\n",
    "plt.show()"
   ]
  },
  {
   "cell_type": "markdown",
   "id": "ba16a4e4-99ac-4701-965c-33209e099840",
   "metadata": {},
   "source": [
    "Больше всего раундов у статуса ipo, остальные примерно одинаково."
   ]
  },
  {
   "cell_type": "markdown",
   "id": "37a5248a-dc24-43e8-b18e-b81713c87540",
   "metadata": {},
   "source": [
    "## Шаг 4. Итоговый вывод и рекомендации\n",
    "\n",
    "Опишите, что было сделано в проекте, какие были сделаны выводы, подкрепляют ли они друг друга или заставляют сомневаться в полученных результатах."
   ]
  },
  {
   "cell_type": "markdown",
   "id": "c4b5da95-cf7b-41ca-b660-e35aa5043392",
   "metadata": {},
   "source": [
    "В данном проекте мы анализировали стартапы. Данные были предоставлены в удовлетворительном состоянии: имелось много пропусков, данные были объеденены, встречались дубликаты, типы данных не соответствовали. \n",
    "- Рассмотрели динамику типичного размера средств по годам. Увидели падение с 2005 - 2012 гг.\n",
    "- Отдельно проанализировали 2013 год: заметили, что в первые 10 месяцев количество раундов было максимальным, а размер средств минимальным, далее ситуация изменилась.\n",
    "- Увидели, что количество сотрудников в стартапах от 1-3 человек, чаще всего по 1.\n",
    "- Отдельно рассмотрели таблицу по компаниям: нашли выбросы по сумме финансирования, выбрали наиболее удачные категории компаний по типично высоким ценам и с наибольшим разбросом цен, рассмотрели типичные значения количества раундов по статусам.\n",
    "\n",
    "Заказчику есть о чем подумать, есть, где рискнуть."
   ]
  }
 ],
 "metadata": {
  "ExecuteTimeLog": [
   {
    "duration": 1201,
    "start_time": "2025-04-25T15:35:26.892Z"
   },
   {
    "duration": 6682,
    "start_time": "2025-04-25T15:35:28.095Z"
   },
   {
    "duration": 12,
    "start_time": "2025-04-25T15:35:34.779Z"
   },
   {
    "duration": 18,
    "start_time": "2025-04-25T15:35:34.793Z"
   },
   {
    "duration": 25,
    "start_time": "2025-04-25T15:35:34.813Z"
   },
   {
    "duration": 6,
    "start_time": "2025-04-25T15:35:34.840Z"
   },
   {
    "duration": 8,
    "start_time": "2025-04-25T15:35:34.847Z"
   },
   {
    "duration": 7,
    "start_time": "2025-04-25T15:35:34.862Z"
   },
   {
    "duration": 44,
    "start_time": "2025-04-25T15:35:34.870Z"
   },
   {
    "duration": 5,
    "start_time": "2025-04-25T15:35:34.916Z"
   },
   {
    "duration": 128,
    "start_time": "2025-04-25T15:35:34.923Z"
   },
   {
    "duration": 109,
    "start_time": "2025-04-25T15:35:35.053Z"
   },
   {
    "duration": 413,
    "start_time": "2025-04-25T15:35:35.164Z"
   },
   {
    "duration": 6,
    "start_time": "2025-04-25T15:35:35.579Z"
   },
   {
    "duration": 57,
    "start_time": "2025-04-25T15:35:35.587Z"
   },
   {
    "duration": 10,
    "start_time": "2025-04-25T15:35:35.645Z"
   },
   {
    "duration": 53,
    "start_time": "2025-04-25T15:35:35.656Z"
   },
   {
    "duration": 41,
    "start_time": "2025-04-25T15:35:35.710Z"
   },
   {
    "duration": 81,
    "start_time": "2025-04-25T15:35:35.752Z"
   },
   {
    "duration": 57,
    "start_time": "2025-04-25T15:35:35.834Z"
   },
   {
    "duration": 47,
    "start_time": "2025-04-25T15:35:35.892Z"
   },
   {
    "duration": 15,
    "start_time": "2025-04-25T15:35:35.940Z"
   },
   {
    "duration": 65,
    "start_time": "2025-04-25T15:35:35.956Z"
   },
   {
    "duration": 49,
    "start_time": "2025-04-25T15:35:36.023Z"
   },
   {
    "duration": 174,
    "start_time": "2025-04-25T15:35:36.074Z"
   },
   {
    "duration": 19,
    "start_time": "2025-04-25T15:35:36.250Z"
   },
   {
    "duration": 13,
    "start_time": "2025-04-25T15:35:36.270Z"
   },
   {
    "duration": 25,
    "start_time": "2025-04-25T15:35:36.287Z"
   },
   {
    "duration": 32,
    "start_time": "2025-04-25T15:35:36.313Z"
   },
   {
    "duration": 53,
    "start_time": "2025-04-25T15:35:36.346Z"
   },
   {
    "duration": 7,
    "start_time": "2025-04-25T15:35:36.401Z"
   },
   {
    "duration": 173,
    "start_time": "2025-04-25T15:35:36.410Z"
   },
   {
    "duration": 5,
    "start_time": "2025-04-25T15:35:36.585Z"
   },
   {
    "duration": 33,
    "start_time": "2025-04-25T15:35:36.591Z"
   },
   {
    "duration": 30,
    "start_time": "2025-04-25T15:35:36.625Z"
   },
   {
    "duration": 18,
    "start_time": "2025-04-25T15:35:36.657Z"
   },
   {
    "duration": 187,
    "start_time": "2025-04-25T15:35:36.677Z"
   },
   {
    "duration": 22,
    "start_time": "2025-04-25T15:35:36.866Z"
   },
   {
    "duration": 88,
    "start_time": "2025-04-25T15:35:36.890Z"
   },
   {
    "duration": 40,
    "start_time": "2025-04-25T15:35:36.980Z"
   },
   {
    "duration": 44,
    "start_time": "2025-04-25T15:35:37.023Z"
   },
   {
    "duration": 159,
    "start_time": "2025-04-25T15:35:37.069Z"
   },
   {
    "duration": 61,
    "start_time": "2025-04-25T15:35:37.230Z"
   },
   {
    "duration": 269,
    "start_time": "2025-04-25T15:35:37.293Z"
   },
   {
    "duration": 7,
    "start_time": "2025-04-25T15:35:37.563Z"
   },
   {
    "duration": 161,
    "start_time": "2025-04-25T15:35:37.571Z"
   },
   {
    "duration": 109,
    "start_time": "2025-04-25T15:35:37.734Z"
   },
   {
    "duration": 50,
    "start_time": "2025-04-25T15:35:37.845Z"
   },
   {
    "duration": 128,
    "start_time": "2025-04-25T15:35:37.896Z"
   },
   {
    "duration": 14,
    "start_time": "2025-04-25T15:35:38.026Z"
   },
   {
    "duration": 154,
    "start_time": "2025-04-25T15:35:38.041Z"
   },
   {
    "duration": 209,
    "start_time": "2025-04-25T15:35:38.197Z"
   },
   {
    "duration": 222,
    "start_time": "2025-04-25T15:35:38.408Z"
   },
   {
    "duration": 221,
    "start_time": "2025-04-25T15:35:38.632Z"
   },
   {
    "duration": 85,
    "start_time": "2025-04-25T15:35:38.855Z"
   },
   {
    "duration": 21,
    "start_time": "2025-04-25T15:35:38.942Z"
   },
   {
    "duration": 446,
    "start_time": "2025-04-25T15:35:38.964Z"
   },
   {
    "duration": 61,
    "start_time": "2025-04-25T15:35:39.411Z"
   },
   {
    "duration": 157,
    "start_time": "2025-04-25T15:35:39.475Z"
   },
   {
    "duration": 39,
    "start_time": "2025-04-25T15:35:39.634Z"
   },
   {
    "duration": 25,
    "start_time": "2025-04-25T15:35:39.674Z"
   },
   {
    "duration": 29,
    "start_time": "2025-04-25T15:38:10.675Z"
   },
   {
    "duration": 32,
    "start_time": "2025-04-25T15:38:59.307Z"
   },
   {
    "duration": 11,
    "start_time": "2025-04-25T15:40:21.307Z"
   },
   {
    "duration": 22,
    "start_time": "2025-04-25T15:40:51.332Z"
   },
   {
    "duration": 24,
    "start_time": "2025-04-25T15:41:22.773Z"
   },
   {
    "duration": 1164,
    "start_time": "2025-04-28T18:09:49.286Z"
   },
   {
    "duration": 2230,
    "start_time": "2025-04-28T18:09:50.452Z"
   },
   {
    "duration": 13,
    "start_time": "2025-04-28T18:09:52.683Z"
   },
   {
    "duration": 4,
    "start_time": "2025-04-28T18:09:52.697Z"
   },
   {
    "duration": 14,
    "start_time": "2025-04-28T18:09:52.703Z"
   },
   {
    "duration": 14,
    "start_time": "2025-04-28T18:09:52.718Z"
   },
   {
    "duration": 33,
    "start_time": "2025-04-28T18:09:52.733Z"
   },
   {
    "duration": 33,
    "start_time": "2025-04-28T18:09:52.768Z"
   },
   {
    "duration": 4,
    "start_time": "2025-04-28T18:09:52.803Z"
   },
   {
    "duration": 108,
    "start_time": "2025-04-28T18:09:52.809Z"
   },
   {
    "duration": 361,
    "start_time": "2025-04-28T18:09:52.919Z"
   },
   {
    "duration": 8467,
    "start_time": "2025-04-28T18:09:53.282Z"
   },
   {
    "duration": 2,
    "start_time": "2025-04-28T18:10:01.751Z"
   },
   {
    "duration": 61,
    "start_time": "2025-04-28T18:10:01.755Z"
   },
   {
    "duration": 34,
    "start_time": "2025-04-28T18:10:01.817Z"
   },
   {
    "duration": 32,
    "start_time": "2025-04-28T18:10:01.853Z"
   },
   {
    "duration": 51,
    "start_time": "2025-04-28T18:10:01.887Z"
   },
   {
    "duration": 59,
    "start_time": "2025-04-28T18:10:01.940Z"
   },
   {
    "duration": 32,
    "start_time": "2025-04-28T18:10:02.001Z"
   },
   {
    "duration": 78,
    "start_time": "2025-04-28T18:10:02.035Z"
   },
   {
    "duration": 117,
    "start_time": "2025-04-28T18:10:02.115Z"
   },
   {
    "duration": 177,
    "start_time": "2025-04-28T18:10:02.234Z"
   },
   {
    "duration": 12,
    "start_time": "2025-04-28T18:10:02.413Z"
   },
   {
    "duration": 42,
    "start_time": "2025-04-28T18:10:02.426Z"
   },
   {
    "duration": 51,
    "start_time": "2025-04-28T18:10:02.469Z"
   },
   {
    "duration": 84,
    "start_time": "2025-04-28T18:10:02.522Z"
   },
   {
    "duration": 16,
    "start_time": "2025-04-28T18:10:02.608Z"
   },
   {
    "duration": 235,
    "start_time": "2025-04-28T18:10:02.628Z"
   },
   {
    "duration": 5,
    "start_time": "2025-04-28T18:10:02.865Z"
   },
   {
    "duration": 42,
    "start_time": "2025-04-28T18:10:02.871Z"
   },
   {
    "duration": 23,
    "start_time": "2025-04-28T18:10:02.915Z"
   },
   {
    "duration": 2902,
    "start_time": "2025-04-28T18:10:02.939Z"
   },
   {
    "duration": 577,
    "start_time": "2025-04-28T18:10:05.843Z"
   },
   {
    "duration": 1683,
    "start_time": "2025-04-28T18:10:06.422Z"
   },
   {
    "duration": 603,
    "start_time": "2025-04-28T18:10:08.107Z"
   },
   {
    "duration": 836,
    "start_time": "2025-04-28T18:10:08.711Z"
   },
   {
    "duration": 669,
    "start_time": "2025-04-28T18:10:09.548Z"
   },
   {
    "duration": 36,
    "start_time": "2025-04-28T18:10:10.218Z"
   },
   {
    "duration": 155,
    "start_time": "2025-04-28T18:10:10.256Z"
   },
   {
    "duration": 44,
    "start_time": "2025-04-28T18:10:10.413Z"
   },
   {
    "duration": 313,
    "start_time": "2025-04-28T18:10:10.458Z"
   },
   {
    "duration": 6,
    "start_time": "2025-04-28T18:10:10.773Z"
   },
   {
    "duration": 195,
    "start_time": "2025-04-28T18:10:10.780Z"
   },
   {
    "duration": 127,
    "start_time": "2025-04-28T18:10:10.976Z"
   },
   {
    "duration": 52,
    "start_time": "2025-04-28T18:10:11.105Z"
   },
   {
    "duration": 437,
    "start_time": "2025-04-28T18:10:11.158Z"
   },
   {
    "duration": 6,
    "start_time": "2025-04-28T18:10:11.597Z"
   },
   {
    "duration": 119,
    "start_time": "2025-04-28T18:10:11.605Z"
   },
   {
    "duration": 26,
    "start_time": "2025-04-28T18:10:11.725Z"
   },
   {
    "duration": 247,
    "start_time": "2025-04-28T18:10:11.753Z"
   },
   {
    "duration": 244,
    "start_time": "2025-04-28T18:10:12.002Z"
   },
   {
    "duration": 204,
    "start_time": "2025-04-28T18:10:12.248Z"
   },
   {
    "duration": 193,
    "start_time": "2025-04-28T18:10:12.454Z"
   },
   {
    "duration": 6,
    "start_time": "2025-04-28T18:10:12.649Z"
   },
   {
    "duration": 140,
    "start_time": "2025-04-28T18:10:12.657Z"
   },
   {
    "duration": 1575,
    "start_time": "2025-04-28T18:10:12.799Z"
   },
   {
    "duration": 147,
    "start_time": "2025-04-28T18:10:14.376Z"
   },
   {
    "duration": 263,
    "start_time": "2025-04-28T18:10:14.524Z"
   },
   {
    "duration": 84,
    "start_time": "2025-04-28T18:10:14.789Z"
   },
   {
    "duration": 97,
    "start_time": "2025-04-28T18:10:14.875Z"
   },
   {
    "duration": 31,
    "start_time": "2025-04-28T18:10:14.974Z"
   },
   {
    "duration": 65,
    "start_time": "2025-04-28T18:10:15.006Z"
   },
   {
    "duration": 63,
    "start_time": "2025-04-28T18:10:15.073Z"
   },
   {
    "duration": 607,
    "start_time": "2025-04-28T18:10:15.138Z"
   },
   {
    "duration": 10,
    "start_time": "2025-04-28T18:10:15.746Z"
   },
   {
    "duration": 49,
    "start_time": "2025-04-28T18:10:15.757Z"
   },
   {
    "duration": 4,
    "start_time": "2025-04-28T18:10:15.808Z"
   },
   {
    "duration": 9,
    "start_time": "2025-04-28T18:10:15.837Z"
   },
   {
    "duration": 25,
    "start_time": "2025-04-28T18:10:15.847Z"
   },
   {
    "duration": 13,
    "start_time": "2025-04-28T18:10:15.874Z"
   },
   {
    "duration": 16,
    "start_time": "2025-04-28T18:10:15.889Z"
   },
   {
    "duration": 37,
    "start_time": "2025-04-28T18:10:15.907Z"
   },
   {
    "duration": 41,
    "start_time": "2025-04-28T18:10:15.946Z"
   },
   {
    "duration": 159,
    "start_time": "2025-04-28T18:10:15.988Z"
   },
   {
    "duration": 17,
    "start_time": "2025-04-28T18:10:50.456Z"
   },
   {
    "duration": 11,
    "start_time": "2025-04-28T18:12:05.226Z"
   }
  ],
  "kernelspec": {
   "display_name": "Python [conda env:practicum]",
   "language": "python",
   "name": "conda-env-practicum-py"
  },
  "language_info": {
   "codemirror_mode": {
    "name": "ipython",
    "version": 3
   },
   "file_extension": ".py",
   "mimetype": "text/x-python",
   "name": "python",
   "nbconvert_exporter": "python",
   "pygments_lexer": "ipython3",
   "version": "3.9.21"
  },
  "toc": {
   "base_numbering": 1,
   "nav_menu": {},
   "number_sections": true,
   "sideBar": true,
   "skip_h1_title": true,
   "title_cell": "Table of Contents",
   "title_sidebar": "Contents",
   "toc_cell": false,
   "toc_position": {},
   "toc_section_display": true,
   "toc_window_display": false
  }
 },
 "nbformat": 4,
 "nbformat_minor": 5
}
